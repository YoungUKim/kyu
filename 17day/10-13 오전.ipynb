{
 "cells": [
  {
   "cell_type": "code",
   "execution_count": 1,
   "id": "31968332",
   "metadata": {},
   "outputs": [],
   "source": [
    "import numpy as np\n",
    "import pandas as pd\n",
    "import matplotlib.pyplot as plt"
   ]
  },
  {
   "cell_type": "code",
   "execution_count": 8,
   "id": "fbe9ba6a",
   "metadata": {},
   "outputs": [],
   "source": [
    "\n",
    "\n",
    "x = np.arange(1,30, 1, dtype = np.int16)\n",
    "x\n",
    "\n",
    "y = 2*x+1\n",
    "\n",
    "y_random = y + np.random.normal(loc=0, scale = 8, size = 29)"
   ]
  },
  {
   "cell_type": "code",
   "execution_count": 11,
   "id": "7b2c3633",
   "metadata": {},
   "outputs": [
    {
     "data": {
      "image/png": "[encoded data removed]",
      "text/plain": [
       "<Figure size 432x288 with 1 Axes>"
      ]
     },
     "metadata": {
      "needs_background": "light"
     },
     "output_type": "display_data"
    }
   ],
   "source": [
    "plt.plot(x,y, \".\", markersize = 20)\n",
    "plt.plot(x,y_random, '.',markersize = 20)\n",
    "\n",
    "plt.show()"
   ]
  },
  {
   "cell_type": "code",
   "execution_count": 22,
   "id": "e4f32664",
   "metadata": {},
   "outputs": [
    {
     "name": "stdout",
     "output_type": "stream",
     "text": [
      "beta_1 = 1.866\n",
      "beta_0 = 0.41\n"
     ]
    }
   ],
   "source": [
    "Sxy = (x - np.mean(x))*(y_random - np.mean(y_random))\n",
    "Sxx = (x - np.mean(x))**2\n",
    "\n",
    "Sxy = Sxy.sum()\n",
    "Sxx = Sxx.sum()\n",
    "\n",
    "beta_1 = Sxy/Sxx\n",
    "beta_0 = np.mean(y_random) - beta_1*np.mean(x)\n",
    "\n",
    "print(\"beta_1 = {}\".format(beta_1.round(3)))\n",
    "print(\"beta_0 = {}\".format(beta_0.round(3)))"
   ]
  },
  {
   "cell_type": "code",
   "execution_count": 23,
   "id": "02035358",
   "metadata": {},
   "outputs": [
    {
     "name": "stdout",
     "output_type": "stream",
     "text": [
      "[ 2.276  4.142  6.008  7.874  9.74  11.606 13.472 15.338 17.204 19.07\n",
      " 20.936 22.802 24.668 26.534 28.4   30.266 32.132 33.998 35.864 37.73\n",
      " 39.596 41.462 43.328 45.194 47.06  48.926 50.792 52.658 54.524]\n"
     ]
    }
   ],
   "source": [
    "# 추정량\n",
    "\n",
    "y_hat = 1.866*x + 0.41\n",
    "print(y_hat)"
   ]
  },
  {
   "cell_type": "code",
   "execution_count": 25,
   "id": "ea4d12e2",
   "metadata": {},
   "outputs": [
    {
     "data": {
      "text/plain": [
       "<function matplotlib.pyplot.show(close=None, block=None)>"
      ]
     },
     "execution_count": 25,
     "metadata": {},
     "output_type": "execute_result"
    },
    {
     "data": {
      "image/png": "[encoded data removed]",
      "text/plain": [
       "<Figure size 432x288 with 1 Axes>"
      ]
     },
     "metadata": {
      "needs_background": "light"
     },
     "output_type": "display_data"
    }
   ],
   "source": [
    "plt.plot(x, y, \".\", markersize = 20)\n",
    "plt.plot(x, y_random, '.', markersize = 20)\n",
    "plt.plot(x, y_hat, color = 'r')\n",
    "\n",
    "plt.show"
   ]
  },
  {
   "cell_type": "code",
   "execution_count": 35,
   "id": "aad56797",
   "metadata": {},
   "outputs": [
    {
     "name": "stdout",
     "output_type": "stream",
     "text": [
      "[1.86601935] 0.40986201555380575\n"
     ]
    }
   ],
   "source": [
    "from sklearn.linear_model import LinearRegression\n",
    "x_2d = x.reshape(-1, 1)\n",
    "lr = LinearRegression()\n",
    "\n",
    "lr.fit(x_2d, y_random)\n",
    "\n",
    "print(lr.coef_, lr.intercept_) # coef_ = beta_1, intercept = beta0"
   ]
  },
  {
   "cell_type": "code",
   "execution_count": 32,
   "id": "81accff8",
   "metadata": {},
   "outputs": [
    {
     "data": {
      "text/plain": [
       "(29, 1)"
      ]
     },
     "execution_count": 32,
     "metadata": {},
     "output_type": "execute_result"
    }
   ],
   "source": [
    "np.shape(x)\n",
    "np.shape(x_2d)"
   ]
  }
 ],
 "metadata": {
  "kernelspec": {
   "display_name": "Python 3",
   "language": "python",
   "name": "python3"
  },
  "language_info": {
   "codemirror_mode": {
    "name": "ipython",
    "version": 3
   },
   "file_extension": ".py",
   "mimetype": "text/x-python",
   "name": "python",
   "nbconvert_exporter": "python",
   "pygments_lexer": "ipython3",
   "version": "3.8.8"
  }
 },
 "nbformat": 4,
 "nbformat_minor": 5
}
