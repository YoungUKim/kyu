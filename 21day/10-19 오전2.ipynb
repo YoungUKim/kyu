{
 "cells": [
  {
   "cell_type": "code",
   "execution_count": 1,
   "id": "3dc93b92",
   "metadata": {},
   "outputs": [],
   "source": [
    "import numpy as np\n",
    "import pandas as pd\n",
    "import matplotlib.pyplot as plt"
   ]
  },
  {
   "cell_type": "code",
   "execution_count": 2,
   "id": "3aacab04",
   "metadata": {},
   "outputs": [
    {
     "data": {
      "text/html": [
       "<div>\n",
       "<style scoped>\n",
       "    .dataframe tbody tr th:only-of-type {\n",
       "        vertical-align: middle;\n",
       "    }\n",
       "\n",
       "    .dataframe tbody tr th {\n",
       "        vertical-align: top;\n",
       "    }\n",
       "\n",
       "    .dataframe thead th {\n",
       "        text-align: right;\n",
       "    }\n",
       "</style>\n",
       "<table border=\"1\" class=\"dataframe\">\n",
       "  <thead>\n",
       "    <tr style=\"text-align: right;\">\n",
       "      <th></th>\n",
       "      <th>Species</th>\n",
       "      <th>Weight</th>\n",
       "      <th>Length</th>\n",
       "      <th>Diagonal</th>\n",
       "      <th>Height</th>\n",
       "      <th>Width</th>\n",
       "    </tr>\n",
       "  </thead>\n",
       "  <tbody>\n",
       "    <tr>\n",
       "      <th>0</th>\n",
       "      <td>Bream</td>\n",
       "      <td>242.0</td>\n",
       "      <td>25.4</td>\n",
       "      <td>30.0</td>\n",
       "      <td>11.5200</td>\n",
       "      <td>4.0200</td>\n",
       "    </tr>\n",
       "    <tr>\n",
       "      <th>1</th>\n",
       "      <td>Bream</td>\n",
       "      <td>290.0</td>\n",
       "      <td>26.3</td>\n",
       "      <td>31.2</td>\n",
       "      <td>12.4800</td>\n",
       "      <td>4.3056</td>\n",
       "    </tr>\n",
       "    <tr>\n",
       "      <th>2</th>\n",
       "      <td>Bream</td>\n",
       "      <td>340.0</td>\n",
       "      <td>26.5</td>\n",
       "      <td>31.1</td>\n",
       "      <td>12.3778</td>\n",
       "      <td>4.6961</td>\n",
       "    </tr>\n",
       "    <tr>\n",
       "      <th>3</th>\n",
       "      <td>Bream</td>\n",
       "      <td>363.0</td>\n",
       "      <td>29.0</td>\n",
       "      <td>33.5</td>\n",
       "      <td>12.7300</td>\n",
       "      <td>4.4555</td>\n",
       "    </tr>\n",
       "    <tr>\n",
       "      <th>4</th>\n",
       "      <td>Bream</td>\n",
       "      <td>430.0</td>\n",
       "      <td>29.0</td>\n",
       "      <td>34.0</td>\n",
       "      <td>12.4440</td>\n",
       "      <td>5.1340</td>\n",
       "    </tr>\n",
       "  </tbody>\n",
       "</table>\n",
       "</div>"
      ],
      "text/plain": [
       "  Species  Weight  Length  Diagonal   Height   Width\n",
       "0   Bream   242.0    25.4      30.0  11.5200  4.0200\n",
       "1   Bream   290.0    26.3      31.2  12.4800  4.3056\n",
       "2   Bream   340.0    26.5      31.1  12.3778  4.6961\n",
       "3   Bream   363.0    29.0      33.5  12.7300  4.4555\n",
       "4   Bream   430.0    29.0      34.0  12.4440  5.1340"
      ]
     },
     "execution_count": 2,
     "metadata": {},
     "output_type": "execute_result"
    }
   ],
   "source": [
    "import pandas as pd\n",
    "\n",
    "fish = pd.read_csv('https://bit.ly/fish_csv_data')\n",
    "fish.head()"
   ]
  },
  {
   "cell_type": "code",
   "execution_count": 3,
   "id": "6ad3632c",
   "metadata": {},
   "outputs": [
    {
     "name": "stdout",
     "output_type": "stream",
     "text": [
      "(159, 6)\n"
     ]
    },
    {
     "data": {
      "text/plain": [
       "Perch        56\n",
       "Bream        35\n",
       "Roach        20\n",
       "Pike         17\n",
       "Smelt        14\n",
       "Parkki       11\n",
       "Whitefish     6\n",
       "Name: Species, dtype: int64"
      ]
     },
     "execution_count": 3,
     "metadata": {},
     "output_type": "execute_result"
    }
   ],
   "source": [
    "print(fish.shape)\n",
    "fish['Species'].value_counts()"
   ]
  },
  {
   "cell_type": "code",
   "execution_count": 4,
   "id": "8d6c8849",
   "metadata": {},
   "outputs": [
    {
     "name": "stdout",
     "output_type": "stream",
     "text": [
      "[[242.      25.4     30.      11.52     4.02  ]\n",
      " [290.      26.3     31.2     12.48     4.3056]\n",
      " [340.      26.5     31.1     12.3778   4.6961]\n",
      " [363.      29.      33.5     12.73     4.4555]\n",
      " [430.      29.      34.      12.444    5.134 ]]\n"
     ]
    },
    {
     "data": {
      "text/plain": [
       "array(['Bream', 'Bream', 'Bream', 'Bream', 'Bream'], dtype=object)"
      ]
     },
     "execution_count": 4,
     "metadata": {},
     "output_type": "execute_result"
    }
   ],
   "source": [
    "fish_input = fish[['Weight', 'Length', 'Diagonal', 'Height', 'Width']].to_numpy()\n",
    "\n",
    "print(fish_input[:5])\n",
    "\n",
    "fish_target = fish[\"Species\"].to_numpy()\n",
    "fish_target[:5]"
   ]
  },
  {
   "cell_type": "code",
   "execution_count": 5,
   "id": "fd3821e9",
   "metadata": {},
   "outputs": [],
   "source": [
    "from sklearn.model_selection import train_test_split"
   ]
  },
  {
   "cell_type": "code",
   "execution_count": 6,
   "id": "1265adf5",
   "metadata": {},
   "outputs": [],
   "source": [
    "train_input, test_input, train_target, test_target = train_test_split(\n",
    "fish_input, fish_target, random_state=42)"
   ]
  },
  {
   "cell_type": "code",
   "execution_count": 7,
   "id": "968cff9c",
   "metadata": {},
   "outputs": [
    {
     "name": "stdout",
     "output_type": "stream",
     "text": [
      "(119, 5)\n",
      "(40, 5)\n"
     ]
    }
   ],
   "source": [
    "print(np.shape(train_input))\n",
    "print(np.shape(test_input))"
   ]
  },
  {
   "cell_type": "code",
   "execution_count": 8,
   "id": "a6737663",
   "metadata": {},
   "outputs": [],
   "source": [
    "from sklearn.preprocessing import StandardScaler\n",
    "\n",
    "ss = StandardScaler()\n",
    "ss.fit(train_input)\n",
    "\n",
    "train_scaled = ss.transform(train_input)\n",
    "test_scaled = ss.transform(test_input)"
   ]
  },
  {
   "cell_type": "code",
   "execution_count": 9,
   "id": "fd10b9da",
   "metadata": {},
   "outputs": [
    {
     "data": {
      "text/plain": [
       "[<matplotlib.lines.Line2D at 0x1453b05e880>]"
      ]
     },
     "execution_count": 9,
     "metadata": {},
     "output_type": "execute_result"
    },
    {
     "data": {
      "image/png": "[encoded data removed]",
      "text/plain": [
       "<Figure size 432x288 with 1 Axes>"
      ]
     },
     "metadata": {
      "needs_background": "light"
     },
     "output_type": "display_data"
    }
   ],
   "source": [
    "z = np.arange(-5, 5, 0.1)\n",
    "prob_y = 1/(1+np.exp(-z))\n",
    "\n",
    "plt.plot(z, prob_y)"
   ]
  },
  {
   "cell_type": "code",
   "execution_count": 10,
   "id": "bcc92562",
   "metadata": {},
   "outputs": [],
   "source": [
    "bream_smelt_index = (train_target == 'Bream') | (train_target == 'Smelt')"
   ]
  },
  {
   "cell_type": "code",
   "execution_count": 11,
   "id": "f770a388",
   "metadata": {},
   "outputs": [
    {
     "name": "stdout",
     "output_type": "stream",
     "text": [
      "(119, 5)\n",
      "(33, 5)\n"
     ]
    }
   ],
   "source": [
    "train_bream_smelt = train_scaled[bream_smelt_index]\n",
    "target_bream_smelt = train_target[bream_smelt_index]\n",
    "\n",
    "print(np.shape(train_scaled))\n",
    "print(np.shape(train_bream_smelt))"
   ]
  },
  {
   "cell_type": "code",
   "execution_count": 12,
   "id": "e9dffdff",
   "metadata": {},
   "outputs": [
    {
     "data": {
      "text/plain": [
       "LogisticRegression()"
      ]
     },
     "execution_count": 12,
     "metadata": {},
     "output_type": "execute_result"
    }
   ],
   "source": [
    "from sklearn.linear_model import LogisticRegression\n",
    "lr = LogisticRegression()\n",
    "\n",
    "lr.fit(train_bream_smelt, target_bream_smelt)"
   ]
  },
  {
   "cell_type": "code",
   "execution_count": 13,
   "id": "c760b507",
   "metadata": {},
   "outputs": [
    {
     "name": "stdout",
     "output_type": "stream",
     "text": [
      "[[ 0.91965782  0.60943175  0.81041221  1.85194896  1.00075672]\n",
      " [-1.0858536  -1.68646987 -1.70848587 -1.70159849 -2.0044758 ]\n",
      " [ 0.63818253  0.56257661  0.73223951  1.64473401  0.50705737]\n",
      " [ 0.30041219  0.23459067  0.42823457  1.36042157  0.22329758]\n",
      " [ 0.9027693   0.70314202  0.88858491  1.89027545  0.85537174]]\n",
      "[[9.97598548e-01 2.40145188e-03]\n",
      " [2.73518278e-02 9.72648172e-01]\n",
      " [9.94860716e-01 5.13928355e-03]\n",
      " [9.85842021e-01 1.41579793e-02]\n",
      " [9.97672689e-01 2.32731108e-03]\n",
      " [3.19313332e-02 9.68068667e-01]\n",
      " [9.73126218e-01 2.68737821e-02]\n",
      " [9.99532898e-01 4.67102003e-04]\n",
      " [9.86833271e-01 1.31667287e-02]\n",
      " [9.02298747e-01 9.77012526e-02]]\n",
      "['Bream' 'Smelt' 'Bream' 'Bream' 'Bream' 'Smelt' 'Bream' 'Bream' 'Bream'\n",
      " 'Bream']\n"
     ]
    }
   ],
   "source": [
    "lr.predict(train_bream_smelt[:5])\n",
    "print(train_bream_smelt[:5])\n",
    "print(lr.predict_proba(train_bream_smelt[:10]))\n",
    "print(lr.predict(train_bream_smelt[:10]))"
   ]
  },
  {
   "cell_type": "code",
   "execution_count": 14,
   "id": "69d91a90",
   "metadata": {},
   "outputs": [
    {
     "name": "stdout",
     "output_type": "stream",
     "text": [
      "[[-0.4037798  -0.57620209 -0.66280298 -1.01290277 -0.73168947]] [-2.16155132]\n"
     ]
    }
   ],
   "source": [
    "print(lr.coef_, lr.intercept_)"
   ]
  },
  {
   "cell_type": "code",
   "execution_count": 15,
   "id": "18ce359d",
   "metadata": {},
   "outputs": [
    {
     "name": "stdout",
     "output_type": "stream",
     "text": [
      "LogisticRegression(C=20, max_iter=1000)\n"
     ]
    }
   ],
   "source": [
    "# C = 1/lambda\n",
    "lr = LogisticRegression(C = 20,max_iter = 1000) #근사식 (해를 찾기 어렵기 때문에 근접수치로)\n",
    "\n",
    "print(lr.fit(train_scaled, train_target))"
   ]
  },
  {
   "cell_type": "code",
   "execution_count": 16,
   "id": "1fd683bf",
   "metadata": {},
   "outputs": [
    {
     "name": "stdout",
     "output_type": "stream",
     "text": [
      "0.9327731092436975\n",
      "0.925\n"
     ]
    }
   ],
   "source": [
    "print(lr.score(train_scaled, train_target))\n",
    "print(lr.score(test_scaled, test_target))"
   ]
  },
  {
   "cell_type": "code",
   "execution_count": 17,
   "id": "52f4cf30",
   "metadata": {},
   "outputs": [
    {
     "name": "stdout",
     "output_type": "stream",
     "text": [
      "['Perch' 'Smelt' 'Pike' 'Roach' 'Perch' 'Bream' 'Smelt' 'Roach' 'Perch'\n",
      " 'Pike']\n",
      "['Perch' 'Smelt' 'Pike' 'Whitefish' 'Perch' 'Bream' 'Smelt' 'Roach'\n",
      " 'Perch' 'Pike']\n"
     ]
    }
   ],
   "source": [
    "print(lr.predict(test_scaled[:10]))\n",
    "print(test_target[:10])"
   ]
  },
  {
   "cell_type": "code",
   "execution_count": 18,
   "id": "1588e7f6",
   "metadata": {},
   "outputs": [
    {
     "data": {
      "text/plain": [
       "array([[0.   , 0.014, 0.841, 0.   , 0.136, 0.007, 0.003],\n",
       "       [0.   , 0.003, 0.044, 0.   , 0.007, 0.946, 0.   ],\n",
       "       [0.   , 0.   , 0.034, 0.935, 0.015, 0.016, 0.   ],\n",
       "       [0.011, 0.034, 0.306, 0.007, 0.567, 0.   , 0.076],\n",
       "       [0.   , 0.   , 0.904, 0.002, 0.089, 0.002, 0.001]])"
      ]
     },
     "execution_count": 18,
     "metadata": {},
     "output_type": "execute_result"
    }
   ],
   "source": [
    "lr.predict_proba(test_scaled[:5]).round(3)"
   ]
  },
  {
   "cell_type": "code",
   "execution_count": 19,
   "id": "c166a1bd",
   "metadata": {},
   "outputs": [
    {
     "name": "stdout",
     "output_type": "stream",
     "text": [
      "['Bream' 'Parkki' 'Perch' 'Pike' 'Roach' 'Smelt' 'Whitefish']\n"
     ]
    }
   ],
   "source": [
    "print(lr.classes_)"
   ]
  },
  {
   "cell_type": "code",
   "execution_count": 20,
   "id": "94452093",
   "metadata": {},
   "outputs": [
    {
     "name": "stdout",
     "output_type": "stream",
     "text": [
      "[[-1.49001999 -1.02912482  2.59345218  7.70357843 -1.2007022 ]\n",
      " [ 0.19618201 -2.01068627 -3.77976461  6.50491598 -1.99482485]\n",
      " [ 3.56279819  6.34356926 -8.48970993 -5.757574    3.79307177]\n",
      " [-0.10458121  3.603196    3.93067836 -3.61737079 -1.75069674]\n",
      " [-1.40061524 -6.07503319  5.25969396 -0.87219889  1.86043687]\n",
      " [-1.38526189  1.49214385  1.39226012 -5.67734222 -4.40097623]\n",
      " [ 0.62149812 -2.32406483 -0.9066101   1.71599149  3.69369137]]\n",
      "\n",
      "[-0.09205181 -0.26290863  3.25101315 -0.14742819  2.65498377 -6.78783248\n",
      "  1.38422419]\n"
     ]
    }
   ],
   "source": [
    "print(lr.coef_)\n",
    "print()\n",
    "print(lr.intercept_)"
   ]
  },
  {
   "cell_type": "code",
   "execution_count": 22,
   "id": "f0f50816",
   "metadata": {},
   "outputs": [
    {
     "data": {
      "text/plain": [
       "[<matplotlib.lines.Line2D at 0x1453c93e9a0>]"
      ]
     },
     "execution_count": 22,
     "metadata": {},
     "output_type": "execute_result"
    },
    {
     "data": {
      "image/png": "[encoded data removed]",
      "text/plain": [
       "<Figure size 432x288 with 1 Axes>"
      ]
     },
     "metadata": {
      "needs_background": "light"
     },
     "output_type": "display_data"
    }
   ],
   "source": [
    "z = np.arange(-6, 2, 0.1)\n",
    "y = 1/(1+np.exp(-z))\n",
    "\n",
    "plt.plot(z,y)"
   ]
  }
 ],
 "metadata": {
  "kernelspec": {
   "display_name": "Python 3",
   "language": "python",
   "name": "python3"
  },
  "language_info": {
   "codemirror_mode": {
    "name": "ipython",
    "version": 3
   },
   "file_extension": ".py",
   "mimetype": "text/x-python",
   "name": "python",
   "nbconvert_exporter": "python",
   "pygments_lexer": "ipython3",
   "version": "3.8.8"
  }
 },
 "nbformat": 4,
 "nbformat_minor": 5
}
