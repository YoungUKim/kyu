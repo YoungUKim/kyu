{
 "cells": [
  {
   "cell_type": "code",
   "execution_count": 18,
   "id": "b05167c9",
   "metadata": {},
   "outputs": [
    {
     "name": "stdout",
     "output_type": "stream",
     "text": [
      "<class 'numpy.ndarray'> (24,) 24 int32\n",
      "<class 'numpy.ndarray'> (3, 4, 2) 24 int32\n",
      "[[24 27]\n",
      " [30 33]\n",
      " [36 39]\n",
      " [42 45]]\n",
      "\n",
      "[[[ 0  1]\n",
      "  [ 2  3]\n",
      "  [ 4  5]\n",
      "  [ 6  7]]\n",
      "\n",
      " [[ 8  9]\n",
      "  [10 11]\n",
      "  [12 13]\n",
      "  [14 15]]\n",
      "\n",
      " [[16 17]\n",
      "  [18 19]\n",
      "  [20 21]\n",
      "  [22 23]]]\n"
     ]
    }
   ],
   "source": [
    "import numpy as np\n",
    "\n",
    "arr = np.arange(24)\n",
    "print(type(arr), arr.shape, arr.size, arr.dtype)\n",
    "\n",
    "arr = arr.reshape(3,4,2)\n",
    "print(type(arr), arr.shape, arr.size, arr.dtype)\n",
    "\n",
    "arr.ndim\n",
    "\n",
    "print(arr.sum(axis=0))\n",
    "print()\n",
    "print(arr)"
   ]
  },
  {
   "cell_type": "code",
   "execution_count": 20,
   "id": "3d687e34",
   "metadata": {},
   "outputs": [
    {
     "name": "stdout",
     "output_type": "stream",
     "text": [
      "<class 'list'>\n"
     ]
    },
    {
     "data": {
      "text/plain": [
       "numpy.ndarray"
      ]
     },
     "execution_count": 20,
     "metadata": {},
     "output_type": "execute_result"
    }
   ],
   "source": [
    "a_list = [1.0,2.0,3.0]\n",
    "print(type(a_list))\n",
    "arr_list = np.array(a_list)\n",
    "type(arr_list)"
   ]
  },
  {
   "cell_type": "code",
   "execution_count": 27,
   "id": "24460c8e",
   "metadata": {},
   "outputs": [
    {
     "name": "stdout",
     "output_type": "stream",
     "text": [
      "[ 6. 12. 18.]\n",
      "[ -4.  -8. -12.]\n",
      "[ 5. 20. 45.]\n",
      "[0.2 0.2 0.2]\n",
      "[[ 6. 12.]\n",
      " [18. 24.]]\n",
      "[[ 5. 20.]\n",
      " [45. 80.]]\n",
      "[[0. 0.]\n",
      " [2. 2.]]\n",
      "[[-1. -4.]\n",
      " [-3. -8.]]\n",
      "[[ 6.  7.  8.]\n",
      " [11. 12. 13.]\n",
      " [16. 17. 18.]]\n",
      "[1. 4. 9.]\n",
      "[False  True  True]\n",
      "\n",
      "[[1. 2.]\n",
      " [3. 4.]]\n",
      "[-1. -2.]\n"
     ]
    },
    {
     "ename": "ValueError",
     "evalue": "operands could not be broadcast together with shapes (2,) (3,) ",
     "output_type": "error",
     "traceback": [
      "\u001b[1;31m---------------------------------------------------------------------------\u001b[0m",
      "\u001b[1;31mValueError\u001b[0m                                Traceback (most recent call last)",
      "\u001b[1;32m<ipython-input-27-2e1f9bc9816c>\u001b[0m in \u001b[0;36m<module>\u001b[1;34m\u001b[0m\n\u001b[0;32m     23\u001b[0m \u001b[0mprint\u001b[0m\u001b[1;33m(\u001b[0m\u001b[0mx2\u001b[0m\u001b[1;33m)\u001b[0m\u001b[1;33m\u001b[0m\u001b[1;33m\u001b[0m\u001b[0m\n\u001b[0;32m     24\u001b[0m \u001b[0mprint\u001b[0m\u001b[1;33m(\u001b[0m\u001b[0mz1\u001b[0m\u001b[1;33m)\u001b[0m\u001b[1;33m\u001b[0m\u001b[1;33m\u001b[0m\u001b[0m\n\u001b[1;32m---> 25\u001b[1;33m \u001b[0mprint\u001b[0m\u001b[1;33m(\u001b[0m\u001b[0mz1\u001b[0m\u001b[1;33m-\u001b[0m\u001b[0mx1\u001b[0m\u001b[1;33m)\u001b[0m\u001b[1;33m\u001b[0m\u001b[1;33m\u001b[0m\u001b[0m\n\u001b[0m",
      "\u001b[1;31mValueError\u001b[0m: operands could not be broadcast together with shapes (2,) (3,) "
     ]
    }
   ],
   "source": [
    "x1 = np.array([1.0, 2.0, 3.0])\n",
    "y1 = np.array([5.0, 10.0, 15.0])\n",
    "x2 = np.array([[1.0, 2.0],[ 3.0, 4.0]]) \n",
    "y2 = np.array([[5.0,10.0],[15.0,20.0]]) \n",
    "z1 = np.array([-1.0, -2.0])\n",
    "z2 = np.array([[5.0],[10.0],[15.0]])\n",
    "\n",
    "# ndarray basic operation  \n",
    "print(x1 + y1) \n",
    "print(x1 - y1) \n",
    "print(x1 * y1) \n",
    "print(x1 / y1) \n",
    "print(x2 + y2) \n",
    "print(x2 * y2)\n",
    "\n",
    "# ndarray broadcast \n",
    "print(x2 + z1) \n",
    "print(x2 * z1) \n",
    "print(x1 + z2) \n",
    "print(x1**2) \n",
    "print(x1>=2)\n",
    "\n",
    "# shape manipulation\n",
    "print(x2.flatten()) \n",
    "print(x2.reshape(2,2))"
   ]
  },
  {
   "cell_type": "code",
   "execution_count": 41,
   "id": "927299e5",
   "metadata": {},
   "outputs": [
    {
     "name": "stdout",
     "output_type": "stream",
     "text": [
      "3의 배수 [ 3  6  9 12 15 18]\n",
      "4로 나누면 1이 남는 수 [ 1  5  9 13 17]\n",
      "3으로 나누면 나눠지고 4로 나누면 1이 남는수 [9]\n"
     ]
    },
    {
     "name": "stderr",
     "output_type": "stream",
     "text": [
      "<ipython-input-41-496f665db507>:11: FutureWarning: Using a non-tuple sequence for multidimensional indexing is deprecated; use `arr[tuple(seq)]` instead of `arr[seq]`. In the future this will be interpreted as an array index, `arr[np.array(seq)]`, which will result either in an error or a different result.\n",
      "  print(\"3으로 나누면 나눠지고 4로 나누면 1이 남는수\", x[a_arr] )\n"
     ]
    }
   ],
   "source": [
    "x = np.array([1, 2, 3, 4, 5, 6, 7, 8, 9, 10, \n",
    "              11, 12, 13, 14, 15, 16, 17, 18, 19, 20])\n",
    "\n",
    "# 이 배열에서 3의 배수를 찾아라\n",
    "print(\"3의 배수\", x[x%3==0])\n",
    "# 이 배열에서 4로 나누면 1이 남는 수를 찾아라\n",
    "print(\"4로 나누면 1이 남는 수\", x[x%4==1])\n",
    "# 이 배열에서 3으로 나누면 나눠지고 4로 나누면 1이 남는수를 찾아라\n",
    "\n",
    "a_arr = list(np.array([x%3==0]&np.array([x%4==1])))\n",
    "print(\"3으로 나누면 나눠지고 4로 나누면 1이 남는수\", x[a_arr] )\n"
   ]
  }
 ],
 "metadata": {
  "kernelspec": {
   "display_name": "Python 3",
   "language": "python",
   "name": "python3"
  },
  "language_info": {
   "codemirror_mode": {
    "name": "ipython",
    "version": 3
   },
   "file_extension": ".py",
   "mimetype": "text/x-python",
   "name": "python",
   "nbconvert_exporter": "python",
   "pygments_lexer": "ipython3",
   "version": "3.8.8"
  }
 },
 "nbformat": 4,
 "nbformat_minor": 5
}
