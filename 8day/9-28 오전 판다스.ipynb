{
 "cells": [
  {
   "cell_type": "code",
   "execution_count": 17,
   "id": "7877c1bd",
   "metadata": {},
   "outputs": [
    {
     "name": "stdout",
     "output_type": "stream",
     "text": [
      "<class 'dict'>\n",
      "<class 'pandas.core.series.Series'>\n",
      "\n",
      "{'a': 1, 'b': 2, 'c': 3}\n",
      "a    1\n",
      "b    2\n",
      "c    3\n",
      "dtype: int64\n",
      "\n",
      "1 : 1 : 1\n"
     ]
    },
    {
     "data": {
      "text/plain": [
       "b    2\n",
       "c    3\n",
       "dtype: int64"
      ]
     },
     "execution_count": 17,
     "metadata": {},
     "output_type": "execute_result"
    }
   ],
   "source": [
    "import pandas as pd\n",
    "\n",
    "dict_data = {'a':1, 'b':2, 'c':3} # 딕셔너리에서 'a'는 키값\n",
    "\n",
    "ar = pd.Series(dict_data)\n",
    "print(type(dict_data))\n",
    "print(type(ar))\n",
    "\n",
    "print()\n",
    "\n",
    "print(dict_data)\n",
    "print(ar)\n",
    "\n",
    "print()\n",
    "\n",
    "print(dict_data['a'], \":\", ar['a'], \":\", ar[0]) # 시리즈에서 'a' 는 인덱스명\n",
    "ar[1:2]\n",
    "ar['b':'c']\n",
    "\n",
    "# 딕셔너리를 시리즈로 변경 : 딕셔너리의 키가 시리즈의 인덱스명\n",
    "# 접근은 인덱스명 또는 익덱스 첨자로 가능"
   ]
  },
  {
   "cell_type": "code",
   "execution_count": 26,
   "id": "84e4ef2d",
   "metadata": {},
   "outputs": [
    {
     "name": "stdout",
     "output_type": "stream",
     "text": [
      "   a  b  c\n",
      "0  1  4  7\n",
      "1  2  5  8\n",
      "2  3  6  9\n",
      "      a  b  c\n",
      "idx1  1  4  7\n",
      "idx2  2  5  8\n",
      "idx3  3  6  9\n",
      "      a1  b1  c1\n",
      "idx1   1   2   3\n",
      "idx2   4   5   6\n",
      "idx3   7   8   9\n"
     ]
    },
    {
     "data": {
      "text/html": [
       "<div>\n",
       "<style scoped>\n",
       "    .dataframe tbody tr th:only-of-type {\n",
       "        vertical-align: middle;\n",
       "    }\n",
       "\n",
       "    .dataframe tbody tr th {\n",
       "        vertical-align: top;\n",
       "    }\n",
       "\n",
       "    .dataframe thead th {\n",
       "        text-align: right;\n",
       "    }\n",
       "</style>\n",
       "<table border=\"1\" class=\"dataframe\">\n",
       "  <thead>\n",
       "    <tr style=\"text-align: right;\">\n",
       "      <th></th>\n",
       "      <th>a1</th>\n",
       "      <th>b1</th>\n",
       "      <th>c1</th>\n",
       "    </tr>\n",
       "  </thead>\n",
       "  <tbody>\n",
       "    <tr>\n",
       "      <th>ix1</th>\n",
       "      <td>1</td>\n",
       "      <td>2</td>\n",
       "      <td>3</td>\n",
       "    </tr>\n",
       "    <tr>\n",
       "      <th>ix2</th>\n",
       "      <td>4</td>\n",
       "      <td>5</td>\n",
       "      <td>6</td>\n",
       "    </tr>\n",
       "    <tr>\n",
       "      <th>ix3</th>\n",
       "      <td>7</td>\n",
       "      <td>8</td>\n",
       "      <td>9</td>\n",
       "    </tr>\n",
       "  </tbody>\n",
       "</table>\n",
       "</div>"
      ],
      "text/plain": [
       "     a1  b1  c1\n",
       "ix1   1   2   3\n",
       "ix2   4   5   6\n",
       "ix3   7   8   9"
      ]
     },
     "execution_count": 26,
     "metadata": {},
     "output_type": "execute_result"
    }
   ],
   "source": [
    "dict_data = {'a':[1,2,3], 'b':[4,5,6], 'c':[7,8,9]}\n",
    "\n",
    "df = pd.DataFrame(dict_data)\n",
    "print(df)\n",
    "\n",
    "#index명을 부여\n",
    "\n",
    "df1 = pd.DataFrame(dict_data, index=['idx1', 'idx2', 'idx3'])\n",
    "print(df1)\n",
    "\n",
    "a_var = [[1,2,3],[4,5,6],[7,8,9]]\n",
    "\n",
    "df2 = pd.DataFrame(a_var, index=['idx1', 'idx2', 'idx3'], columns=['a1','b1','c1'])\n",
    "print(df2)\n",
    "\n",
    "df2.rename(index={'idx1':'ix1', 'idx2':'ix2', 'idx3':'ix3'}) #변경 확정하려면 inplace = True"
   ]
  }
 ],
 "metadata": {
  "kernelspec": {
   "display_name": "Python 3",
   "language": "python",
   "name": "python3"
  },
  "language_info": {
   "codemirror_mode": {
    "name": "ipython",
    "version": 3
   },
   "file_extension": ".py",
   "mimetype": "text/x-python",
   "name": "python",
   "nbconvert_exporter": "python",
   "pygments_lexer": "ipython3",
   "version": "3.8.8"
  }
 },
 "nbformat": 4,
 "nbformat_minor": 5
}
