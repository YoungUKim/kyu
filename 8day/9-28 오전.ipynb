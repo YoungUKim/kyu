{
 "cells": [
  {
   "cell_type": "code",
   "execution_count": 1,
   "id": "38674b6b",
   "metadata": {},
   "outputs": [
    {
     "name": "stdout",
     "output_type": "stream",
     "text": [
      "윤인성\t368\t92.0\n",
      "연하진\t384\t96.0\n",
      "구지연\t356\t89.0\n",
      "나선주\t378\t94.5\n",
      "윤아린\t389\t97.25\n",
      "윤명월\t336\t84.0\n"
     ]
    }
   ],
   "source": [
    "# class 와 object\n",
    "\n",
    "# 학생 리스트 선언\n",
    "students = [\n",
    "    { \"name\": \"윤인성\", \"korean\": 87, \"math\": 98, \"english\": 88, \"science\": 95 },\n",
    "    { \"name\": \"연하진\", \"korean\": 92, \"math\": 98, \"english\": 96, \"science\": 98 },\n",
    "    { \"name\": \"구지연\", \"korean\": 76, \"math\": 96, \"english\": 94, \"science\": 90 },\n",
    "    { \"name\": \"나선주\", \"korean\": 98, \"math\": 92, \"english\": 96, \"science\": 92 },\n",
    "    { \"name\": \"윤아린\", \"korean\": 95, \"math\": 98, \"english\": 98, \"science\": 98 },\n",
    "    { \"name\": \"윤명월\", \"korean\": 64, \"math\": 88, \"english\": 92, \"science\": 92 }\n",
    "]\n",
    "\n",
    "for student in students:\n",
    "    score_sum = student[\"korean\"]+student[\"math\"]+student[\"english\"]+student[\"science\"]\n",
    "    score_avg = score_sum / 4\n",
    "    \n",
    "    print(student[\"name\"], score_sum, score_avg, sep=\"\\t\")\n",
    "    \n",
    "    "
   ]
  },
  {
   "cell_type": "code",
   "execution_count": 44,
   "id": "ea727051",
   "metadata": {},
   "outputs": [],
   "source": [
    "# 딕셔너리를 리턴하는 함수를 선언\n",
    "\n",
    "def create_student(name, korean, math, english, science):\n",
    "    return {\n",
    "        \"name\" : name,\n",
    "        \"korean\" : korean,\n",
    "        \"math\" : math,\n",
    "        \"english\" : english,\n",
    "        \"science\" : science\n",
    "    }\n",
    "\n",
    "\n",
    "# 학생 점수의 합을 구하는 함수\n",
    "\n",
    "def student_get_sum(student):\n",
    "    return student[\"korean\"]+student[\"math\"]+\\\n",
    "        student[\"english\"]+student[\"science\"]\n",
    "    \n",
    "def student_get_avg(student):\n",
    "    return student_get_sum(student) / 4\n",
    "\n",
    "def student_to_string(student):\n",
    "    return \"{}:\\t{}\\t{}\".format(student[\"name\"], student_get_sum(student), student_get_avg(student))"
   ]
  },
  {
   "cell_type": "code",
   "execution_count": 45,
   "id": "5d9c7811",
   "metadata": {},
   "outputs": [
    {
     "name": "stdout",
     "output_type": "stream",
     "text": [
      "이름\t총점\t평균\n",
      "윤인성:\t356\t89.0\n",
      "연하진:\t384\t96.0\n",
      "구지연:\t356\t89.0\n",
      "나선주:\t378\t94.5\n",
      "윤아린:\t389\t97.25\n",
      "윤명월:\t366\t91.5\n"
     ]
    }
   ],
   "source": [
    "students = [\n",
    "    create_student(\"윤인성\",87,96,88,85),\n",
    "    create_student(\"연하진\",92,98,96,98),\n",
    "    create_student(\"구지연\",76,96,94,90),\n",
    "    create_student(\"나선주\",98,92,96,92),\n",
    "    create_student(\"윤아린\",95,98,98,98),\n",
    "    create_student(\"윤명월\",94,88,92,92),\n",
    "    ]\n",
    "\n",
    "print(\"이름\", \"총점\", \"평균\", sep=\"\\t\")\n",
    "for student in students:\n",
    "    print(student_to_string(student))"
   ]
  },
  {
   "cell_type": "code",
   "execution_count": 54,
   "id": "55d133d6",
   "metadata": {},
   "outputs": [
    {
     "data": {
      "text/plain": [
       "'윤인성'"
      ]
     },
     "execution_count": 54,
     "metadata": {},
     "output_type": "execute_result"
    }
   ],
   "source": [
    "# class 로 생성하여 오브젝트 관리\n",
    "\n",
    "class Student:\n",
    "    def __init__(self, name, korean, math, english, science):\n",
    "        self.name = name\n",
    "        self.korean = korean\n",
    "        self.math = math\n",
    "        self.english = english\n",
    "        self.science = science\n",
    "        \n",
    "def get_sum(self):\n",
    "    return self.korean + self.math + self.english + self.science\n",
    "    \n",
    "def get_avg(self):\n",
    "    return self.get_sum() / 4\n",
    "\n",
    "def __str__(self):\n",
    "    return \"{}:\\t{}\\t{}\".format(self.name, self.get_sum(), self.get_avg())\n",
    "\n",
    "    def __eq__(self, value): \n",
    "        return self.get_sum() == value.get_sum()\n",
    "    def __ne__(self, value): \n",
    "        return self.get_sum() != value.get_sum()\n",
    "    def __gt__(self, value):\n",
    "        return self.get_sum() > value.get_sum()\n",
    "    def __ge__(self, value):\n",
    "        return self.get_sum() >= value.get_sum()\n",
    "    def __lt__(self, value):\n",
    "        return self.get_sum() < value.get_sum()\n",
    "    def __le__(self, value):\n",
    "        return self.get_sum() <= value.get_sum()\n",
    "        \n",
    "a_class = Student(\"윤인성\",87,96,88,85)\n",
    "a_class.name"
   ]
  },
  {
   "cell_type": "code",
   "execution_count": 59,
   "id": "f8089ec0",
   "metadata": {},
   "outputs": [
    {
     "name": "stdout",
     "output_type": "stream",
     "text": [
      "students[0] == students[1] = True\n"
     ]
    }
   ],
   "source": [
    "students = [\n",
    "    Student(\"윤인성\", 87, 98, 88, 95),\n",
    "    Student(\"연하진\", 92, 98, 96, 98),\n",
    "    Student(\"구지연\", 76, 96, 94, 90),\n",
    "    Student(\"나선주\", 98, 92, 96, 92),\n",
    "    Student(\"윤아린\", 95, 98, 98, 98),\n",
    "    Student(\"윤명월\", 64, 88, 92, 92)\n",
    "]\n",
    "\n",
    "\n",
    "\n",
    "print(\"students[0] == students[1] =\", students[0] != students[1])"
   ]
  },
  {
   "cell_type": "code",
   "execution_count": 47,
   "id": "a96a0b4b",
   "metadata": {},
   "outputs": [
    {
     "name": "stdout",
     "output_type": "stream",
     "text": [
      "students의 데이터 갯수 :  6\n"
     ]
    },
    {
     "data": {
      "text/plain": [
       "'연하진'"
      ]
     },
     "execution_count": 47,
     "metadata": {},
     "output_type": "execute_result"
    }
   ],
   "source": [
    "students = [\n",
    "    Student(\"윤인성\", 87, 98, 88, 95),\n",
    "    Student(\"연하진\", 92, 98, 96, 98),\n",
    "    Student(\"구지연\", 76, 96, 94, 90),\n",
    "    Student(\"나선주\", 98, 92, 96, 92),\n",
    "    Student(\"윤아린\", 95, 98, 98, 98),\n",
    "    Student(\"윤명월\", 64, 88, 92, 92)\n",
    "]\n",
    "\n",
    "print(\"students의 데이터 갯수 : \", len(students))\n",
    "students[1].name"
   ]
  },
  {
   "cell_type": "code",
   "execution_count": 60,
   "id": "38abf997",
   "metadata": {},
   "outputs": [
    {
     "name": "stdout",
     "output_type": "stream",
     "text": [
      "1번째 학생이 생성되었습니다.\n",
      "2번째 학생이 생성되었습니다.\n",
      "3번째 학생이 생성되었습니다.\n",
      "4번째 학생이 생성되었습니다.\n",
      "5번째 학생이 생성되었습니다.\n",
      "6번째 학생이 생성되었습니다.\n",
      "\n",
      "현재 생성된 총 학생 수는 6명입니다.\n"
     ]
    }
   ],
   "source": [
    "class Student:\n",
    "    count = 0\n",
    "\n",
    "    def __init__(self, name, korean, math, english, science):\n",
    "        # 인스턴스 변수 초기화\n",
    "        self.name = name\n",
    "        self.korean = korean\n",
    "        self.math = math\n",
    "        self.english = english\n",
    "        self.science = science\n",
    "        \n",
    "        # 클래스 변수 설정\n",
    "        Student.count += 1\n",
    "        print(\"{}번째 학생이 생성되었습니다.\".format(Student.count))\n",
    "    \n",
    "\n",
    "# 학생 리스트를 선언합니다.\n",
    "students = [\n",
    "    Student(\"윤인성\", 87, 98, 88, 95),\n",
    "    Student(\"연하진\", 92, 98, 96, 98),\n",
    "    Student(\"구지연\", 76, 96, 94, 90),\n",
    "    Student(\"나선주\", 98, 92, 96, 92),\n",
    "    Student(\"윤아린\", 95, 98, 98, 98),\n",
    "    Student(\"윤명월\", 64, 88, 92, 92)\n",
    "]\n",
    "\n",
    "# 출력합니다.\n",
    "print()\n",
    "print(\"현재 생성된 총 학생 수는 {}명입니다.\".format(Student.count))"
   ]
  },
  {
   "cell_type": "code",
   "execution_count": 65,
   "id": "d5cd76da",
   "metadata": {},
   "outputs": [
    {
     "name": "stdout",
     "output_type": "stream",
     "text": [
      "1번째 학생이 생성되었습니다.\n",
      "2번째 학생이 생성되었습니다.\n",
      "3번째 학생이 생성되었습니다.\n",
      "4번째 학생이 생성되었습니다.\n",
      "5번째 학생이 생성되었습니다.\n",
      "6번째 학생이 생성되었습니다.\n",
      "\n",
      "현재 생성된 총 학생 수는 6명입니다.\n"
     ]
    }
   ],
   "source": [
    "class Student:\n",
    "    count = 0\n",
    "\n",
    "    def __init__(self, name, korean, math, english, science):\n",
    "    def __init__(self, name, korean, math, english, science):\n",
    "        # 인스턴스 변수 초기화\n",
    "        self.name = name\n",
    "        self.korean = korean\n",
    "        self.math = math\n",
    "        self.english = english\n",
    "        self.science = science\n",
    "        \n",
    "        # 클래스 변수 설정\n",
    "        Student.count += 1\n",
    "        print(\"{}번째 학생이 생성되었습니다.\".format(Student.count))\n",
    "    \n",
    "\n",
    "# 학생 리스트를 선언합니다.\n",
    "students = [\n",
    "    Student(\"윤인성\", 87, 98, 88, 95),\n",
    "    Student(\"연하진\", 92, 98, 96, 98),\n",
    "    Student(\"구지연\", 76, 96, 94, 90),\n",
    "    Student(\"나선주\", 98, 92, 96, 92),\n",
    "    Student(\"윤아린\", 95, 98, 98, 98),\n",
    "    Student(\"윤명월\", 64, 88, 92, 92)\n",
    "]\n",
    "\n",
    "# 출력합니다.\n",
    "print()\n",
    "print(\"현재 생성된 총 학생 수는 {}명입니다.\".format(Student.count))"
   ]
  },
  {
   "cell_type": "code",
   "execution_count": 67,
   "id": "8f8e89a8",
   "metadata": {},
   "outputs": [
    {
     "name": "stdout",
     "output_type": "stream",
     "text": [
      "------ 학생 목록 ------\n",
      "이름\t총점\t평균\n",
      "윤인성\t368\t92.0\n",
      "연하진\t384\t96.0\n",
      "구지연\t356\t89.0\n",
      "나선주\t378\t94.5\n",
      "윤아린\t389\t97.25\n",
      "윤명월\t336\t84.0\n",
      "------- ------- -------\n"
     ]
    }
   ],
   "source": [
    "# 클래스를 선언합니다.\n",
    "class Student:\n",
    "    # 클래스 변수\n",
    "    count = 0\n",
    "    students = []\n",
    "\n",
    "    # 클래스 함수\n",
    "    @classmethod\n",
    "    def print(cls):\n",
    "        print(\"------ 학생 목록 ------\")\n",
    "        print(\"이름\\t총점\\t평균\")\n",
    "        for student in cls.students:\n",
    "            print(str(student))\n",
    "        print(\"------- ------- -------\")\n",
    "\n",
    "    # 인스턴스 함수\n",
    "    def __init__(self, name, korean, math, english, science):\n",
    "        self.name = name\n",
    "        self.korean = korean\n",
    "        self.math = math\n",
    "        self.english = english\n",
    "        self.science = science\n",
    "        Student.count += 1\n",
    "        Student.students.append(self)\n",
    "\n",
    "    def get_sum(self):\n",
    "        return self.korean + self.math +\\\n",
    "            self.english + self.science\n",
    "\n",
    "    def get_average(self):\n",
    "        return self.get_sum() / 4\n",
    "\n",
    "    def __str__(self):\n",
    "        return \"{}\\t{}\\t{}\".format(\\\n",
    "            self.name,\\\n",
    "            self.get_sum(),\\\n",
    "            self.get_average())\n",
    "\n",
    "# 학생 리스트를 선언합니다.\n",
    "students = [\n",
    "    Student(\"윤인성\", 87, 98, 88, 95),\n",
    "    Student(\"연하진\", 92, 98, 96, 98),\n",
    "    Student(\"구지연\", 76, 96, 94, 90),\n",
    "    Student(\"나선주\", 98, 92, 96, 92),\n",
    "    Student(\"윤아린\", 95, 98, 98, 98),\n",
    "    Student(\"윤명월\", 64, 88, 92, 92)\n",
    "]\n",
    "\n",
    "\n",
    "Student.print()"
   ]
  },
  {
   "cell_type": "code",
   "execution_count": 74,
   "id": "52224722",
   "metadata": {},
   "outputs": [
    {
     "name": "stdout",
     "output_type": "stream",
     "text": [
      "# 원의 둘레와 넓이를 구합니다.\n",
      "원의 둘레: 62.83185307179586\n",
      "원의 넓이: 314.1592653589793\n",
      "\n"
     ]
    }
   ],
   "source": [
    "# 모듈을 가져옵니다.\n",
    "import math\n",
    "\n",
    "# 클래스를 선언합니다.\n",
    "class Circle:\n",
    "    def __init__(self, radius):\n",
    "        self.__radius = radius\n",
    "    def get_circumference(self):\n",
    "        return 2 * math.pi *  self.__radius\n",
    "    def get_area(self):\n",
    "        return math.pi * (self.__radius ** 2)\n",
    "    \n",
    "    def get_radius(self):\n",
    "        return self.__radius\n",
    "    def set_radius(self, value):\n",
    "        self.__radius = value\n",
    "\n",
    "# 원의 둘레와 넓이를 구합니다.\n",
    "circle = Circle(10)\n",
    "print(\"# 원의 둘레와 넓이를 구합니다.\")\n",
    "print(\"원의 둘레:\", circle.get_circumference())\n",
    "print(\"원의 넓이:\", circle.get_area())\n",
    "print()\n",
    "\n",
    "print(circle)"
   ]
  },
  {
   "cell_type": "code",
   "execution_count": null,
   "id": "6517a048",
   "metadata": {},
   "outputs": [],
   "source": [
    "class Circle:\n",
    "    def __init__(self, radius):\n",
    "        self.__radius = radius\n",
    "    def get_circumference(self):\n",
    "        return 2 * math.pi *  self.__radius\n",
    "    def get_area(self):\n",
    "        return math.pi * (self.__radius ** 2)\n",
    "\n",
    "    @property        # getter\n",
    "    def radius(self):\n",
    "        return self.__radius\n",
    "    @radius.setter  # setter\n",
    "    def radius(self, value):\n",
    "        self.__radius = value"
   ]
  }
 ],
 "metadata": {
  "kernelspec": {
   "display_name": "Python 3",
   "language": "python",
   "name": "python3"
  },
  "language_info": {
   "codemirror_mode": {
    "name": "ipython",
    "version": 3
   },
   "file_extension": ".py",
   "mimetype": "text/x-python",
   "name": "python",
   "nbconvert_exporter": "python",
   "pygments_lexer": "ipython3",
   "version": "3.8.8"
  }
 },
 "nbformat": 4,
 "nbformat_minor": 5
}
