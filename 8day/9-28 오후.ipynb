{
 "cells": [
  {
   "cell_type": "code",
   "execution_count": 18,
   "id": "a5c27084",
   "metadata": {},
   "outputs": [
    {
     "data": {
      "text/html": [
       "<div>\n",
       "<style scoped>\n",
       "    .dataframe tbody tr th:only-of-type {\n",
       "        vertical-align: middle;\n",
       "    }\n",
       "\n",
       "    .dataframe tbody tr th {\n",
       "        vertical-align: top;\n",
       "    }\n",
       "\n",
       "    .dataframe thead th {\n",
       "        text-align: right;\n",
       "    }\n",
       "</style>\n",
       "<table border=\"1\" class=\"dataframe\">\n",
       "  <thead>\n",
       "    <tr style=\"text-align: right;\">\n",
       "      <th></th>\n",
       "      <th>c1</th>\n",
       "      <th>c2</th>\n",
       "      <th>c3</th>\n",
       "    </tr>\n",
       "  </thead>\n",
       "  <tbody>\n",
       "    <tr>\n",
       "      <th>b</th>\n",
       "      <td>4</td>\n",
       "      <td>5</td>\n",
       "      <td>6</td>\n",
       "    </tr>\n",
       "    <tr>\n",
       "      <th>c</th>\n",
       "      <td>7</td>\n",
       "      <td>8</td>\n",
       "      <td>9</td>\n",
       "    </tr>\n",
       "  </tbody>\n",
       "</table>\n",
       "</div>"
      ],
      "text/plain": [
       "   c1  c2  c3\n",
       "b   4   5   6\n",
       "c   7   8   9"
      ]
     },
     "execution_count": 18,
     "metadata": {},
     "output_type": "execute_result"
    }
   ],
   "source": [
    "import pandas as pd\n",
    "\n",
    "\n",
    "# 행인덱스명 변경 : object.index = 새로운 행 인덱스 배열\n",
    "# 컬럼 인덱스명 변경 : object.columns = 새로운 컬럼명 배열\n",
    "\n",
    "a_var = [[1,2,3],[4,5,6],[7,8,9]]\n",
    "df = pd.DataFrame(a_var)\n",
    "df\n",
    "\n",
    "df.index = ['a', 'b', 'c']\n",
    "df.columns = ['c1', 'c2', 'c3']\n",
    "df\n",
    "\n",
    "# 행 삭제 axis = 0, 열 삭제 axis= 1 inplace = True 해줘야 변경 확정\n",
    "df.drop('a', axis=0)\n",
    "df.drop('c1', axis=1)"
   ]
  },
  {
   "cell_type": "code",
   "execution_count": 17,
   "id": "7c69e036",
   "metadata": {},
   "outputs": [
    {
     "name": "stdout",
     "output_type": "stream",
     "text": [
      "    수학  영어   음악   체육\n",
      "서준  90  98   85  100\n",
      "우현  80  89   95   90\n",
      "인아  70  95  100   90\n",
      "\n",
      "\n",
      "    수학  영어   음악   체육\n",
      "서준  90  98   85  100\n",
      "인아  70  95  100   90\n",
      "\n",
      "\n",
      "    수학  영어  음악   체육\n",
      "서준  90  98  85  100\n"
     ]
    }
   ],
   "source": [
    "exam_data = {'수학' : [90,80,70], '영어' : [98,89,95],\n",
    "             '음악' : [85,95,100], '체육' : [100,90,90]}\n",
    "\n",
    "df = pd.DataFrame(exam_data, index=['서준', '우현', '인아'])\n",
    "print(df)\n",
    "print(\"\\n\")\n",
    "\n",
    "df2 = df.copy()\n",
    "df2.drop('우현', inplace=True)\n",
    "print(df2)\n",
    "print(\"\\n\")\n",
    "\n",
    "df3 = df.copy()\n",
    "df3.drop([\"우현\", \"인아\"], inplace=True)\n",
    "print(df3)"
   ]
  },
  {
   "cell_type": "code",
   "execution_count": 22,
   "id": "cf19e887",
   "metadata": {},
   "outputs": [
    {
     "name": "stdout",
     "output_type": "stream",
     "text": [
      "    수학  영어   음악   체육\n",
      "서준  90  98   85  100\n",
      "우현  80  89   95   90\n",
      "인아  70  95  100   90\n",
      "\n",
      "\n",
      "수학     90\n",
      "영어     98\n",
      "음악     85\n",
      "체육    100\n",
      "Name: 서준, dtype: int64\n",
      "수학     90\n",
      "영어     98\n",
      "음악     85\n",
      "체육    100\n",
      "Name: 서준, dtype: int64\n",
      "\n",
      "\n",
      "    수학  영어  음악   체육\n",
      "서준  90  98  85  100\n",
      "우현  80  89  95   90\n",
      "    수학  영어  음악   체육\n",
      "서준  90  98  85  100\n",
      "우현  80  89  95   90\n",
      "\n",
      "\n"
     ]
    }
   ],
   "source": [
    "exam_data = {'수학' : [90,80,70], '영어' : [98,89,95],\n",
    "             '음악' : [85,95,100], '체육' : [100,90,90]}\n",
    "\n",
    "df = pd.DataFrame(exam_data, index=['서준', '우현', '인아'])\n",
    "print(df)\n",
    "print(\"\\n\")\n",
    "\n",
    "a = df.loc['서준']\n",
    "b = df.iloc[0]\n",
    "\n",
    "print(a)\n",
    "print(b)\n",
    "print(\"\\n\")\n",
    "a2 = df.loc[['서준','우현']]\n",
    "b2 = df.iloc[[0,1]]\n",
    "\n",
    "print(a2)\n",
    "print(b2)\n",
    "print(\"\\n\")"
   ]
  },
  {
   "cell_type": "code",
   "execution_count": 32,
   "id": "359a07c6",
   "metadata": {},
   "outputs": [],
   "source": [
    "#키보드에서 이름과 국어 영어 수학 점수를 입력받아 이름을 인덱스로 score dataframe을 만드세요\n",
    "\n",
    "def input_score():\n",
    "    scores = input(\"국어 영어 수학 점수 입력 >\").split()\n",
    "    for i, score in enumerate(scores):\n",
    "        scores[i] = int(score)\n",
    "    return scores"
   ]
  },
  {
   "cell_type": "code",
   "execution_count": 50,
   "id": "2c823505",
   "metadata": {},
   "outputs": [
    {
     "name": "stdout",
     "output_type": "stream",
     "text": [
      "이름 > 아무개\n",
      "국어 영어 수학 점수 입력 >10 20 30\n",
      "이름 > quit\n",
      "찾을 사람 > 아무개\n",
      "\n",
      "국어    10\n",
      "영어    20\n",
      "수학    30\n",
      "Name: 아무개, dtype: object\n",
      "60\n"
     ]
    }
   ],
   "source": [
    "## import pandas as pd\n",
    "df = pd.DataFrame(columns=[\"국어\",\"영어\",\"수학\"])\n",
    "\n",
    "while True:\n",
    "    name = input(\"이름 > \")\n",
    "    if name == \"quit\":\n",
    "        break\n",
    "        \n",
    "    score = input_score()\n",
    "    df.loc[name] = score\n",
    "\n",
    "such_name = input(\"찾을 사람 > \")\n",
    "a = df.loc[such_name]\n",
    "b = a[0] + a[1] + a[2]\n",
    "print()\n",
    "print(a)\n",
    "print(b)\n",
    "\n",
    "# 칼럼을 접근하는 방법은 df.칼럼명 or df[칼럼명]\n",
    "# row를 접근하는 방법은 df.iloc[인덱스], df.iloc[[1,3]] df.iloc[[1:3]]\n",
    "# df.iloc[시작:끝:간격]"
   ]
  },
  {
   "cell_type": "code",
   "execution_count": 49,
   "id": "32fec621",
   "metadata": {},
   "outputs": [
    {
     "name": "stdout",
     "output_type": "stream",
     "text": [
      "이름 > 아무개\n",
      "국어 영어 수학 점수 입력 >10 20 30\n",
      "이름 > quit\n",
      "찾을 사람 > 아무개\n",
      "아무개 : 10, 20, 30 total = 60\n"
     ]
    }
   ],
   "source": [
    "## import pandas as pd\n",
    "df = pd.DataFrame(columns=[\"국어\",\"영어\",\"수학\"])\n",
    "\n",
    "while True:\n",
    "    name = input(\"이름 > \")\n",
    "    if name == \"quit\":\n",
    "        break\n",
    "        \n",
    "    score = input_score()\n",
    "    df.loc[name] = score\n",
    "\n",
    "search_name = input(\"찾을 사람 > \")\n",
    "\n",
    "for name in list(df.index):\n",
    "    if search_name == name:\n",
    "        kor = df.loc[search_name,'국어']\n",
    "        eng = df.loc[search_name, '영어']\n",
    "        math = df.loc[search_name, '수학']\n",
    "        print(\"{} : {}, {}, {} total = {}\".format(search_name,kor,eng,math,kor+eng+math))"
   ]
  },
  {
   "cell_type": "code",
   "execution_count": 51,
   "id": "e01f9e04",
   "metadata": {},
   "outputs": [
    {
     "name": "stdout",
     "output_type": "stream",
     "text": [
      "    수학  영어   음악   체육\n",
      "이름                  \n",
      "서준  90  98   85  100\n",
      "우현  80  89   95   90\n",
      "인아  70  95  100   90\n"
     ]
    }
   ],
   "source": [
    "import pandas as pd\n",
    "\n",
    "# DataFrame() 함수로 데이터프레임 변환. 변수 df에 저장 \n",
    "exam_data = {'이름' : [ '서준', '우현', '인아'],\n",
    "             '수학' : [ 90, 80, 70],\n",
    "             '영어' : [ 98, 89, 95],\n",
    "             '음악' : [ 85, 95, 100],\n",
    "             '체육' : [ 100, 90, 90]}\n",
    "df = pd.DataFrame(exam_data)\n",
    "\n",
    "# '이름' 열을 새로운 인덱스로 지정하고, df 객체에 변경사항 반영\n",
    "df.set_index('이름', inplace=True)\n",
    "print(df)"
   ]
  },
  {
   "cell_type": "code",
   "execution_count": 52,
   "id": "c27ffebe",
   "metadata": {},
   "outputs": [
    {
     "name": "stdout",
     "output_type": "stream",
     "text": [
      "85\n",
      "85\n",
      "\n",
      "\n",
      "음악     85\n",
      "체육    100\n",
      "Name: 서준, dtype: int64\n",
      "음악     85\n",
      "체육    100\n",
      "Name: 서준, dtype: int64\n",
      "음악     85\n",
      "체육    100\n",
      "Name: 서준, dtype: int64\n",
      "음악     85\n",
      "체육    100\n",
      "Name: 서준, dtype: int64\n",
      "\n",
      "\n",
      "    음악   체육\n",
      "이름         \n",
      "서준  85  100\n",
      "우현  95   90\n",
      "    음악   체육\n",
      "이름         \n",
      "서준  85  100\n",
      "우현  95   90\n",
      "    음악   체육\n",
      "이름         \n",
      "서준  85  100\n",
      "우현  95   90\n",
      "    음악   체육\n",
      "이름         \n",
      "서준  85  100\n",
      "우현  95   90\n"
     ]
    }
   ],
   "source": [
    "# 데이터프레임 df의 특정 원소 1개 선택 ('서준'의 '음악' 점수)\n",
    "a = df.loc['서준', '음악']\n",
    "print(a)\n",
    "b = df.iloc[0, 2]\n",
    "print(b)\n",
    "print('\\n')\n",
    "\n",
    "# 데이터프레임 df의 특정 원소 2개 이상 선택 ('서준'의 '음악', '체육' 점수) \n",
    "c = df.loc['서준', ['음악', '체육']]\n",
    "print(c)\n",
    "d = df.iloc[0, [2, 3]]\n",
    "print(d)\n",
    "e = df.loc['서준', '음악':'체육']\n",
    "print(e)\n",
    "f = df.iloc[0, 2:]\n",
    "print(f)\n",
    "print('\\n')\n",
    "\n",
    "# df의 2개 이상의 행과 열로부터 원소 선택 ('서준', '우현'의 '음악', '체육' 점수) \n",
    "g = df.loc[['서준', '우현'], ['음악', '체육']]\n",
    "print(g)\n",
    "h = df.iloc[[0, 1], [2, 3]]\n",
    "print(h)\n",
    "i = df.loc['서준':'우현', '음악':'체육']\n",
    "print(i)\n",
    "j = df.iloc[0:2, 2:]\n",
    "print(j)"
   ]
  },
  {
   "cell_type": "code",
   "execution_count": 54,
   "id": "36b29046",
   "metadata": {},
   "outputs": [],
   "source": [
    "# 문)1.이름을 입력받아 데이터프레임의 인덱스로 저장하고\n",
    "#    키와 몸무게를 입력 받아 저장 합니다.\n",
    "#    키와 몸무게가 float이 입력되지 않으면 다시 입력 하시고\n",
    "#    이름에 'q'가 입력되면 입력 종료\n",
    "#    2. 찾고자 하는 이름을 입력받아 키와 몸무게를 출력하고\n",
    "#     키와 몸무게를 다시 입력받아 기존의 값을 변경하세요\n",
    "#    3.평균보다 적은 키를 가진 사람의 이름과 키를 출력하세요\n",
    "\n",
    "def input_le():\n",
    "    les = input(\"키와 몸무게 입력 소수점까지 >\").split()\n",
    "    for i, le in enumerate(les):\n",
    "        les[i] = float(le)\n",
    "    return les"
   ]
  },
  {
   "cell_type": "code",
   "execution_count": 1,
   "id": "e8934b76",
   "metadata": {},
   "outputs": [
    {
     "ename": "NameError",
     "evalue": "name 'pd' is not defined",
     "output_type": "error",
     "traceback": [
      "\u001b[1;31m---------------------------------------------------------------------------\u001b[0m",
      "\u001b[1;31mNameError\u001b[0m                                 Traceback (most recent call last)",
      "\u001b[1;32m<ipython-input-1-0318ff820245>\u001b[0m in \u001b[0;36m<module>\u001b[1;34m\u001b[0m\n\u001b[1;32m----> 1\u001b[1;33m \u001b[0mdf\u001b[0m \u001b[1;33m=\u001b[0m \u001b[0mpd\u001b[0m\u001b[1;33m.\u001b[0m\u001b[0mDataFrame\u001b[0m\u001b[1;33m(\u001b[0m\u001b[0mcolumns\u001b[0m\u001b[1;33m=\u001b[0m\u001b[1;33m[\u001b[0m\u001b[1;34m\"키\"\u001b[0m\u001b[1;33m,\u001b[0m \u001b[1;34m\"몸무게\"\u001b[0m\u001b[1;33m]\u001b[0m\u001b[1;33m)\u001b[0m\u001b[1;33m\u001b[0m\u001b[1;33m\u001b[0m\u001b[0m\n\u001b[0m\u001b[0;32m      2\u001b[0m \u001b[1;33m\u001b[0m\u001b[0m\n\u001b[0;32m      3\u001b[0m \u001b[1;32mwhile\u001b[0m \u001b[1;32mTrue\u001b[0m\u001b[1;33m:\u001b[0m\u001b[1;33m\u001b[0m\u001b[1;33m\u001b[0m\u001b[0m\n\u001b[0;32m      4\u001b[0m     \u001b[0mname\u001b[0m \u001b[1;33m=\u001b[0m \u001b[0minput\u001b[0m\u001b[1;33m(\u001b[0m\u001b[1;34m\"이름 > \"\u001b[0m\u001b[1;33m)\u001b[0m\u001b[1;33m\u001b[0m\u001b[1;33m\u001b[0m\u001b[0m\n\u001b[0;32m      5\u001b[0m     \u001b[1;32mif\u001b[0m \u001b[0mname\u001b[0m \u001b[1;33m==\u001b[0m \u001b[1;34m\"q\"\u001b[0m\u001b[1;33m:\u001b[0m\u001b[1;33m\u001b[0m\u001b[1;33m\u001b[0m\u001b[0m\n",
      "\u001b[1;31mNameError\u001b[0m: name 'pd' is not defined"
     ]
    }
   ],
   "source": [
    "df = pd.DataFrame(columns=[\"키\", \"몸무게\"])\n",
    "\n",
    "while True:\n",
    "    name = input(\"이름 > \")\n",
    "    if name == \"q\":\n",
    "        break\n",
    "        \n",
    "    le = input_le()\n",
    "    df.loc[name] = le\n",
    "\n",
    "search_name = input(\"찾을 사람 > \")\n",
    "for name in list(df.index):\n",
    "    if search_name == name:\n",
    "        lenght  = df.loc[search_name,'키']\n",
    "        weight = df.loc[search_name, '몸무게']\n",
    "        print(\"키{}, 몸무게{}\".format(lenght, weight))\n",
    " \n",
    "\n",
    "cl = input(\"수정 키 > \")\n",
    "df.iloc[0][0] = cl\n",
    "cw = input(\"수정 몸무게 > \")\n",
    "df.iloc[0][1] = cw\n",
    "\n",
    "avg_height = sum(df.키)/len(df.키)\n",
    "print(\"평균키: \",avg_height)"
   ]
  },
  {
   "cell_type": "code",
   "execution_count": null,
   "id": "ea1e9fd3",
   "metadata": {},
   "outputs": [],
   "source": [
    "def input_dataframe(df):\n",
    "    while True:\n",
    "        name = input(\"이름 입력 quit 종료 >  \")\n",
    "        if name == \"quit\":\n",
    "            break\n",
    "\n",
    "        data = input_data()\n",
    "        df.loc[name] = data  # 입력된 name 인덱스로 데이터 추가\n",
    "\n",
    "def input_data():\n",
    "    while True:\n",
    "        values = input(\"키와 몸무게 ex) 170 51.2 > \").split()\n",
    "        if len(values) == 2:\n",
    "           break\n",
    "        else:\n",
    "            print(\"키와 몸무게를 형식에 맞게 입력하세요 \")\n",
    "           \n",
    "    for i, value in enumerate(values):\n",
    "        values[i] = float(value)\n",
    "    return values\n",
    "\n",
    "def search_data(name, df):\n",
    "    for i, idx_name in enumerate(list(df.index)):\n",
    "        if name == idx_name:\n",
    "            return i\n",
    "\n",
    "def print_data(idx, df):\n",
    "    print(\"{} : {}, {}\".format(df.iloc[idx], df.iloc[idx,0], df.iloc[idx,1]))"
   ]
  },
  {
   "cell_type": "code",
   "execution_count": 68,
   "id": "0f28027d",
   "metadata": {},
   "outputs": [
    {
     "name": "stdout",
     "output_type": "stream",
     "text": [
      "이름 입력 quit 종료 >  아무개\n",
      "키와 몸무게 ex) 170 51.2 > 170 22.2\n",
      "이름 입력 quit 종료 >  홍길동\n",
      "키와 몸무게 ex) 170 51.2 > 288 22.4\n",
      "이름 입력 quit 종료 >  quit\n",
      "1 : \n",
      "         키   몸무게\n",
      "아무개  170.0  22.2\n",
      "홍길동  288.0  22.4\n",
      "검색할 이름 입력 : 홍길동\n",
      "키      288.0\n",
      "몸무게     22.4\n",
      "Name: 홍길동, dtype: float64 : 288.0, 22.4\n",
      "키와 몸무게 ex) 170 51.2 > 170 22.4\n",
      "2 : \n",
      "170.0\n"
     ]
    }
   ],
   "source": [
    "import pandas as pd\n",
    "\n",
    "df = pd.DataFrame(columns=[\"키\",\"몸무게\"])\n",
    "\n",
    "input_dataframe(df)  # 자료 입력\n",
    "print(\"1 : \")\n",
    "print(df)\n",
    "\n",
    "# 검색하고자 하는 이름 입력\n",
    "search_name = input(\"검색할 이름 입력 : \")\n",
    "idx = search_data(search_name, df)\n",
    "if idx < len(df):\n",
    "    print_data(idx, df)\n",
    "    value = input_data() #  키와 몸무게 입력\n",
    "    df.iloc[idx] = value\n",
    "print(\"2 : \")\n",
    "df\n",
    "\n",
    "#평균키보다 검적은 키를 가진 사람의 이름과 키를 출력\n",
    "\n",
    "avg_height = sum(df.키)/len(df.키)\n",
    "print(avg_height)\n",
    "for i, height in enumerate(df.키):\n",
    "    if height < avg_height:\n",
    "        print(\"3 => {} : {}\".format(df.iloc[i], df.iloc[i,0]))"
   ]
  }
 ],
 "metadata": {
  "kernelspec": {
   "display_name": "Python 3",
   "language": "python",
   "name": "python3"
  },
  "language_info": {
   "codemirror_mode": {
    "name": "ipython",
    "version": 3
   },
   "file_extension": ".py",
   "mimetype": "text/x-python",
   "name": "python",
   "nbconvert_exporter": "python",
   "pygments_lexer": "ipython3",
   "version": "3.8.8"
  }
 },
 "nbformat": 4,
 "nbformat_minor": 5
}
