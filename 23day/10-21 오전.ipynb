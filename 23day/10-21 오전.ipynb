{
  "nbformat": 4,
  "nbformat_minor": 0,
  "metadata": {
    "colab": {
      "name": "Untitled0.ipynb",
      "provenance": [],
      "collapsed_sections": []
    },
    "kernelspec": {
      "name": "python3",
      "display_name": "Python 3"
    },
    "language_info": {
      "name": "python"
    }
  },
  "cells": [
    {
      "cell_type": "code",
      "metadata": {
        "id": "AqAXb5LJsoEA"
      },
      "source": [
        "import tensorflow as tf"
      ],
      "execution_count": 2,
      "outputs": []
    },
    {
      "cell_type": "code",
      "metadata": {
        "colab": {
          "base_uri": "https://localhost:8080/"
        },
        "id": "BSTM5cDQtZn1",
        "outputId": "2d23b7e0-8107-4d4a-ba56-94331f83ed79"
      },
      "source": [
        "a = tf.constant(5)\n",
        "b = tf.constant(2)\n",
        "c = tf.constant(3)\n",
        "\n",
        "d = tf.multiply(a,b)\n",
        "e = tf.add(b,c)\n",
        "f = tf.subtract(d,e)\n",
        "\n",
        "print(f)"
      ],
      "execution_count": 14,
      "outputs": [
        {
          "output_type": "stream",
          "name": "stdout",
          "text": [
            "tf.Tensor(5, shape=(), dtype=int32)\n"
          ]
        }
      ]
    },
    {
      "cell_type": "code",
      "metadata": {
        "colab": {
          "base_uri": "https://localhost:8080/"
        },
        "id": "DYml7QJuzxzs",
        "outputId": "46f6c05c-e97e-49a4-c582-aea72d5e7fc0"
      },
      "source": [
        "a = tf.Variable(5)\n",
        "b = tf.Variable(2)\n",
        "c = tf.Variable(3)\n",
        "\n",
        "d = tf.multiply(a,b)\n",
        "e = tf.add(b,c)\n",
        "f = tf.subtract(d,e)\n",
        "\n",
        "print(f)"
      ],
      "execution_count": 15,
      "outputs": [
        {
          "output_type": "stream",
          "name": "stdout",
          "text": [
            "tf.Tensor(5, shape=(), dtype=int32)\n"
          ]
        }
      ]
    },
    {
      "cell_type": "code",
      "metadata": {
        "colab": {
          "base_uri": "https://localhost:8080/"
        },
        "id": "bPnHGrX_0Udj",
        "outputId": "36babddd-b44c-4116-f034-60b4bdae0eec"
      },
      "source": [
        "import numpy as np\n",
        "\n",
        "a = tf.Variable(5)\n",
        "b = tf.Variable(2)\n",
        "c = np.array(3)\n",
        "\n",
        "d = tf.multiply(a,b)\n",
        "e = tf.add(b,c)\n",
        "f = tf.subtract(d,e)\n",
        "\n",
        "print(f)"
      ],
      "execution_count": 18,
      "outputs": [
        {
          "output_type": "stream",
          "name": "stdout",
          "text": [
            "tf.Tensor(5, shape=(), dtype=int32)\n"
          ]
        }
      ]
    },
    {
      "cell_type": "code",
      "metadata": {
        "colab": {
          "base_uri": "https://localhost:8080/"
        },
        "id": "VP-BnWpg1fma",
        "outputId": "be88fc61-3e9d-4891-fea1-49a461f90c37"
      },
      "source": [
        "x = tf.Variable(0)\n",
        "\n",
        "for i in range(1,11):\n",
        "  x = x+i\n",
        "  print(\"value : {}\".format(x))\n",
        "\n",
        "print(\"total sum : {}\".format(x))"
      ],
      "execution_count": 21,
      "outputs": [
        {
          "output_type": "stream",
          "name": "stdout",
          "text": [
            "value : 1\n",
            "value : 3\n",
            "value : 6\n",
            "value : 10\n",
            "value : 15\n",
            "value : 21\n",
            "value : 28\n",
            "value : 36\n",
            "value : 45\n",
            "value : 55\n",
            "total sum : 55\n"
          ]
        }
      ]
    },
    {
      "cell_type": "code",
      "metadata": {
        "colab": {
          "base_uri": "https://localhost:8080/"
        },
        "id": "XHgBkgUp3Ghq",
        "outputId": "5e5c2a0a-0bc0-4cdc-e0b3-f8e7688d4038"
      },
      "source": [
        "# 랜덤 변수 선언\n",
        "a = tf.Variable(tf.random.normal((1,1), mean = 0, stddev=1.0))\n",
        "b = tf.Variable(tf.random.normal((1,1), mean = 0, stddev=1.0))\n",
        "c = tf.Variable(tf.random.normal((1,1), mean = 0, stddev=1.0))\n",
        "\n",
        "a = tf.Variable(5)\n",
        "b = tf.Variable(2)\n",
        "c = np.array(3)\n",
        "\n",
        "d = tf.multiply(a,b)\n",
        "e = tf.add(b,c)\n",
        "f = tf.subtract(d,e)\n",
        "\n",
        "print(\"add_result = {}\".format(e))\n",
        "print(\"mul_result = {}\".format(d))\n",
        "print(\"sub_result = {}\".format(f))"
      ],
      "execution_count": 33,
      "outputs": [
        {
          "output_type": "stream",
          "name": "stdout",
          "text": [
            "add_result = 5\n",
            "mul_result = 10\n",
            "sub_result = 5\n"
          ]
        }
      ]
    },
    {
      "cell_type": "code",
      "metadata": {
        "colab": {
          "base_uri": "https://localhost:8080/"
        },
        "id": "54kjyBbi4DDy",
        "outputId": "b2988e15-c390-46c2-c00d-92c68ec07180"
      },
      "source": [
        "x1 = tf.Variable([[1,2],[3,4]])\n",
        "\n",
        "print('x1 = {}'.format(x1))\n",
        "print('x1 = {}'.format(x1.shape))"
      ],
      "execution_count": 29,
      "outputs": [
        {
          "output_type": "stream",
          "name": "stdout",
          "text": [
            "x1 = <tf.Variable 'Variable:0' shape=(2, 2) dtype=int32, numpy=\n",
            "array([[1, 2],\n",
            "       [3, 4]], dtype=int32)>\n",
            "x1 = (2, 2)\n"
          ]
        }
      ]
    },
    {
      "cell_type": "code",
      "metadata": {
        "colab": {
          "base_uri": "https://localhost:8080/"
        },
        "id": "64SVaXog4na-",
        "outputId": "d4d56866-f941-472e-fbef-386c4144dd07"
      },
      "source": [
        "x1_reshape = tf.reshape(x1, [1,4])\n",
        "print(x1_reshape)"
      ],
      "execution_count": 30,
      "outputs": [
        {
          "output_type": "stream",
          "name": "stdout",
          "text": [
            "tf.Tensor([[1 2 3 4]], shape=(1, 4), dtype=int32)\n"
          ]
        }
      ]
    }
  ]
}