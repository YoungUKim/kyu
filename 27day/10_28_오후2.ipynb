{
  "nbformat": 4,
  "nbformat_minor": 0,
  "metadata": {
    "colab": {
      "name": "10-28 오후2.ipynb",
      "provenance": []
    },
    "kernelspec": {
      "name": "python3",
      "display_name": "Python 3"
    },
    "language_info": {
      "name": "python"
    }
  },
  "cells": [
    {
      "cell_type": "code",
      "metadata": {
        "id": "h2onqGItiC0c"
      },
      "source": [
        "import matplotlib.pyplot as plt\n",
        "import os\n",
        "import tensorflow as tf\n",
        "import numpy as np"
      ],
      "execution_count": 1,
      "outputs": []
    },
    {
      "cell_type": "code",
      "metadata": {
        "colab": {
          "base_uri": "https://localhost:8080/"
        },
        "id": "FWRKpR5eiPBO",
        "outputId": "56b212f8-044d-45e0-d60d-f7926052baa3"
      },
      "source": [
        "# 데이터 불러오기\n",
        "(X_train, Y_train), (X_test, Y_test) = tf.keras.datasets.fashion_mnist.load_data()"
      ],
      "execution_count": 2,
      "outputs": [
        {
          "output_type": "stream",
          "name": "stdout",
          "text": [
            "Downloading data from https://storage.googleapis.com/tensorflow/tf-keras-datasets/train-labels-idx1-ubyte.gz\n",
            "32768/29515 [=================================] - 0s 0us/step\n",
            "40960/29515 [=========================================] - 0s 0us/step\n",
            "Downloading data from https://storage.googleapis.com/tensorflow/tf-keras-datasets/train-images-idx3-ubyte.gz\n",
            "26427392/26421880 [==============================] - 0s 0us/step\n",
            "26435584/26421880 [==============================] - 0s 0us/step\n",
            "Downloading data from https://storage.googleapis.com/tensorflow/tf-keras-datasets/t10k-labels-idx1-ubyte.gz\n",
            "16384/5148 [===============================================================================================] - 0s 0us/step\n",
            "Downloading data from https://storage.googleapis.com/tensorflow/tf-keras-datasets/t10k-images-idx3-ubyte.gz\n",
            "4423680/4422102 [==============================] - 0s 0us/step\n",
            "4431872/4422102 [==============================] - 0s 0us/step\n"
          ]
        }
      ]
    },
    {
      "cell_type": "code",
      "metadata": {
        "id": "XP5xWaEiiSET"
      },
      "source": [
        "## 데이터를 (배치사이즈 x 28 x 28 x 1)로 이미지를 변환해줌. -> 그레이스케일이므로 채널은 1\n",
        "X_train = X_train.reshape(X_train.shape[0], 28, 28, 1)\n",
        "X_test = X_test.reshape(X_test.shape[0], 28, 28, 1)"
      ],
      "execution_count": 3,
      "outputs": []
    },
    {
      "cell_type": "code",
      "metadata": {
        "id": "RRakeS8Qil_Q"
      },
      "source": [
        "## 정답을 바이너리화 함.\n",
        "Y_train = tf.keras.utils.to_categorical(Y_train)\n",
        "Y_test = tf.keras.utils.to_categorical(Y_test)"
      ],
      "execution_count": 4,
      "outputs": []
    },
    {
      "cell_type": "code",
      "metadata": {
        "colab": {
          "base_uri": "https://localhost:8080/"
        },
        "id": "XYN5xPNWjCnt",
        "outputId": "821ff7be-c92e-4507-d5eb-f765f9f9c6b4"
      },
      "source": [
        "input_Layer = tf.keras.layers.Input(shape=(28,28,1))\n",
        "x= tf.keras.layers.Conv2D(32,(3,3), strides=1, activation=None)(input_Layer)\n",
        "x= tf.keras.layers.MaxPool2D((2,2))(x)\n",
        "x= tf.keras.layers.Conv2D(64,(3,3), strides=1, activation=None)(x)\n",
        "x= tf.keras.layers.MaxPool2D((2,2))(x)\n",
        "x= tf.keras.layers.Flatten()(x)\n",
        "x= tf.keras.layers.Dense(512, activation='relu')(x)\n",
        "Out_Layer= tf.keras.layers.Dense(10, activation='softmax')(x)\n",
        "\n",
        "model = tf.keras.Model(inputs = [input_Layer], outputs = [Out_Layer])\n",
        "model.summary()"
      ],
      "execution_count": 7,
      "outputs": [
        {
          "output_type": "stream",
          "name": "stdout",
          "text": [
            "Model: \"model_2\"\n",
            "_________________________________________________________________\n",
            "Layer (type)                 Output Shape              Param #   \n",
            "=================================================================\n",
            "input_3 (InputLayer)         [(None, 28, 28, 1)]       0         \n",
            "_________________________________________________________________\n",
            "conv2d_4 (Conv2D)            (None, 26, 26, 32)        320       \n",
            "_________________________________________________________________\n",
            "max_pooling2d_4 (MaxPooling2 (None, 13, 13, 32)        0         \n",
            "_________________________________________________________________\n",
            "conv2d_5 (Conv2D)            (None, 11, 11, 64)        18496     \n",
            "_________________________________________________________________\n",
            "max_pooling2d_5 (MaxPooling2 (None, 5, 5, 64)          0         \n",
            "_________________________________________________________________\n",
            "flatten_2 (Flatten)          (None, 1600)              0         \n",
            "_________________________________________________________________\n",
            "dense_4 (Dense)              (None, 512)               819712    \n",
            "_________________________________________________________________\n",
            "dense_5 (Dense)              (None, 10)                5130      \n",
            "=================================================================\n",
            "Total params: 843,658\n",
            "Trainable params: 843,658\n",
            "Non-trainable params: 0\n",
            "_________________________________________________________________\n"
          ]
        }
      ]
    },
    {
      "cell_type": "code",
      "metadata": {
        "colab": {
          "base_uri": "https://localhost:8080/"
        },
        "id": "djoH9tZekT63",
        "outputId": "1d3a61f8-0eec-4e10-8978-a2e32b845c4d"
      },
      "source": [
        "loss= tf.keras.losses.categorical_crossentropy\n",
        "optimizer= tf.keras.optimizers.RMSprop(lr = 0.0001)\n",
        "metrics= tf.keras.metrics.categorical_accuracy\n",
        "\n",
        "model.compile(loss=loss, optimizer=optimizer, metrics=[metrics])"
      ],
      "execution_count": 12,
      "outputs": [
        {
          "output_type": "stream",
          "name": "stderr",
          "text": [
            "/usr/local/lib/python3.7/dist-packages/keras/optimizer_v2/optimizer_v2.py:356: UserWarning: The `lr` argument is deprecated, use `learning_rate` instead.\n",
            "  \"The `lr` argument is deprecated, use `learning_rate` instead.\")\n"
          ]
        }
      ]
    },
    {
      "cell_type": "code",
      "metadata": {
        "id": "a_MO-3awk23q"
      },
      "source": [
        "modelpath=\"./CNN_Fasion_MNIST_model/{epoch:02d}-{val_loss:.4f}.hdf5\"\n",
        "callback_list=[tf.keras.callbacks.ModelCheckpoint(filepath=modelpath, monitor='val_loss', verbose=1, save_best_only=True),\n",
        "               tf.keras.callbacks.EarlyStopping(monitor='val_loss', patience=10)]"
      ],
      "execution_count": 13,
      "outputs": []
    },
    {
      "cell_type": "code",
      "metadata": {
        "colab": {
          "base_uri": "https://localhost:8080/"
        },
        "id": "U_PCIKUbleJI",
        "outputId": "eba3cd37-7fe4-46d9-f77d-5871af884ca5"
      },
      "source": [
        "history = model.fit(X_train, Y_train, validation_split=0.2, epochs=5, batch_size=200, verbose=1, callbacks=callback_list)"
      ],
      "execution_count": 14,
      "outputs": [
        {
          "output_type": "stream",
          "name": "stdout",
          "text": [
            "Epoch 1/5\n",
            "240/240 [==============================] - 39s 159ms/step - loss: 3.1670 - categorical_accuracy: 0.7208 - val_loss: 1.1581 - val_categorical_accuracy: 0.7903\n",
            "\n",
            "Epoch 00001: val_loss improved from inf to 1.15805, saving model to ./CNN_Fasion_MNIST_model/01-1.1581.hdf5\n",
            "Epoch 2/5\n",
            "240/240 [==============================] - 37s 155ms/step - loss: 0.9094 - categorical_accuracy: 0.8194 - val_loss: 0.8418 - val_categorical_accuracy: 0.8069\n",
            "\n",
            "Epoch 00002: val_loss improved from 1.15805 to 0.84177, saving model to ./CNN_Fasion_MNIST_model/02-0.8418.hdf5\n",
            "Epoch 3/5\n",
            "240/240 [==============================] - 37s 154ms/step - loss: 0.5369 - categorical_accuracy: 0.8561 - val_loss: 0.5348 - val_categorical_accuracy: 0.8563\n",
            "\n",
            "Epoch 00003: val_loss improved from 0.84177 to 0.53477, saving model to ./CNN_Fasion_MNIST_model/03-0.5348.hdf5\n",
            "Epoch 4/5\n",
            "240/240 [==============================] - 37s 155ms/step - loss: 0.3772 - categorical_accuracy: 0.8828 - val_loss: 0.4792 - val_categorical_accuracy: 0.8607\n",
            "\n",
            "Epoch 00004: val_loss improved from 0.53477 to 0.47920, saving model to ./CNN_Fasion_MNIST_model/04-0.4792.hdf5\n",
            "Epoch 5/5\n",
            "240/240 [==============================] - 37s 155ms/step - loss: 0.2924 - categorical_accuracy: 0.8996 - val_loss: 0.4130 - val_categorical_accuracy: 0.8808\n",
            "\n",
            "Epoch 00005: val_loss improved from 0.47920 to 0.41296, saving model to ./CNN_Fasion_MNIST_model/05-0.4130.hdf5\n"
          ]
        }
      ]
    },
    {
      "cell_type": "code",
      "metadata": {
        "colab": {
          "base_uri": "https://localhost:8080/"
        },
        "id": "mzvjEowllswL",
        "outputId": "49003a5e-f624-4849-cc21-30f26f74e942"
      },
      "source": [
        "# 테스트 정확도 출력\n",
        "print(\"\\n Test Accuracy: %.4f\" % (model.evaluate(X_test, Y_test)[1]))"
      ],
      "execution_count": 15,
      "outputs": [
        {
          "output_type": "stream",
          "name": "stdout",
          "text": [
            "313/313 [==============================] - 3s 10ms/step - loss: 0.4395 - categorical_accuracy: 0.8697\n",
            "\n",
            " Test Accuracy: 0.8697\n"
          ]
        }
      ]
    },
    {
      "cell_type": "code",
      "metadata": {
        "colab": {
          "base_uri": "https://localhost:8080/",
          "height": 279
        },
        "id": "a8WuF-Lpmgnl",
        "outputId": "f0224c13-6952-4e06-a744-c8c1d7ac3d39"
      },
      "source": [
        "# 테스트 셋의 오차\n",
        "y_vloss = history.history['val_loss']\n",
        "\n",
        "# 학습셋의 오차\n",
        "y_loss = history.history['loss']\n",
        "\n",
        "# 그래프로 표현\n",
        "x_len = np.arange(len(y_loss))\n",
        "plt.plot(x_len, y_vloss, marker='.', c=\"red\", label='Testset_loss')\n",
        "plt.plot(x_len, y_loss, marker='.', c=\"blue\", label='Trainset_loss')\n",
        "\n",
        "# 그래프에 그리드를 주고 레이블을 표시\n",
        "plt.legend(loc='upper right')\n",
        "plt.grid()\n",
        "plt.xlabel('epoch')\n",
        "plt.ylabel('loss')\n",
        "plt.show()"
      ],
      "execution_count": 16,
      "outputs": [
        {
          "output_type": "display_data",
          "data": {
            "image/png": "[encoded data removed]",
            "text/plain": [
              "<Figure size 432x288 with 1 Axes>"
            ]
          },
          "metadata": {
            "needs_background": "light"
          }
        }
      ]
    }
  ]
}