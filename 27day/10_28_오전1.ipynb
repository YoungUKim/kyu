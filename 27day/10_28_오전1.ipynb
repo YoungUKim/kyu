{
  "nbformat": 4,
  "nbformat_minor": 0,
  "metadata": {
    "colab": {
      "name": "10-28 오전1.ipynb",
      "provenance": [],
      "collapsed_sections": []
    },
    "kernelspec": {
      "name": "python3",
      "display_name": "Python 3"
    },
    "language_info": {
      "name": "python"
    }
  },
  "cells": [
    {
      "cell_type": "code",
      "metadata": {
        "id": "ulhlTKhiE7aq"
      },
      "source": [
        "# 필요한 라이브러리를 불러옵니다.\n",
        "import pandas as pd\n",
        "import tensorflow as tf\n",
        "from sklearn.model_selection import train_test_split\n",
        "\n",
        "import matplotlib.pyplot as plt"
      ],
      "execution_count": null,
      "outputs": []
    },
    {
      "cell_type": "code",
      "metadata": {
        "id": "PtdNote3SE22"
      },
      "source": [
        "# csv read\n",
        "data = pd.read_csv('/content/drive/MyDrive/Colab Notebooks/영우_4기_딥러닝/dataset/ThoraricSurgery.csv')"
      ],
      "execution_count": null,
      "outputs": []
    },
    {
      "cell_type": "code",
      "metadata": {
        "colab": {
          "base_uri": "https://localhost:8080/",
          "height": 205
        },
        "id": "gf9YTuX-SVH9",
        "outputId": "935fdb94-ba01-48f0-cd49-d5539374c275"
      },
      "source": [
        "data.head()"
      ],
      "execution_count": null,
      "outputs": [
        {
          "output_type": "execute_result",
          "data": {
            "text/html": [
              "<div>\n",
              "<style scoped>\n",
              "    .dataframe tbody tr th:only-of-type {\n",
              "        vertical-align: middle;\n",
              "    }\n",
              "\n",
              "    .dataframe tbody tr th {\n",
              "        vertical-align: top;\n",
              "    }\n",
              "\n",
              "    .dataframe thead th {\n",
              "        text-align: right;\n",
              "    }\n",
              "</style>\n",
              "<table border=\"1\" class=\"dataframe\">\n",
              "  <thead>\n",
              "    <tr style=\"text-align: right;\">\n",
              "      <th></th>\n",
              "      <th>293</th>\n",
              "      <th>1</th>\n",
              "      <th>3.8</th>\n",
              "      <th>2.8</th>\n",
              "      <th>0</th>\n",
              "      <th>0.1</th>\n",
              "      <th>0.2</th>\n",
              "      <th>0.3</th>\n",
              "      <th>0.4</th>\n",
              "      <th>0.5</th>\n",
              "      <th>12</th>\n",
              "      <th>0.6</th>\n",
              "      <th>0.7</th>\n",
              "      <th>0.8</th>\n",
              "      <th>1.1</th>\n",
              "      <th>0.9</th>\n",
              "      <th>62</th>\n",
              "      <th>0.10</th>\n",
              "    </tr>\n",
              "  </thead>\n",
              "  <tbody>\n",
              "    <tr>\n",
              "      <th>0</th>\n",
              "      <td>1</td>\n",
              "      <td>2</td>\n",
              "      <td>2.88</td>\n",
              "      <td>2.16</td>\n",
              "      <td>1</td>\n",
              "      <td>0</td>\n",
              "      <td>0</td>\n",
              "      <td>0</td>\n",
              "      <td>1</td>\n",
              "      <td>1</td>\n",
              "      <td>14.000</td>\n",
              "      <td>0</td>\n",
              "      <td>0</td>\n",
              "      <td>0</td>\n",
              "      <td>1</td>\n",
              "      <td>0</td>\n",
              "      <td>60</td>\n",
              "      <td>0</td>\n",
              "    </tr>\n",
              "    <tr>\n",
              "      <th>1</th>\n",
              "      <td>8</td>\n",
              "      <td>2</td>\n",
              "      <td>3.19</td>\n",
              "      <td>2.50</td>\n",
              "      <td>1</td>\n",
              "      <td>0</td>\n",
              "      <td>0</td>\n",
              "      <td>0</td>\n",
              "      <td>1</td>\n",
              "      <td>0</td>\n",
              "      <td>11.000</td>\n",
              "      <td>0</td>\n",
              "      <td>0</td>\n",
              "      <td>1</td>\n",
              "      <td>1</td>\n",
              "      <td>0</td>\n",
              "      <td>66</td>\n",
              "      <td>1</td>\n",
              "    </tr>\n",
              "    <tr>\n",
              "      <th>2</th>\n",
              "      <td>14</td>\n",
              "      <td>2</td>\n",
              "      <td>3.98</td>\n",
              "      <td>3.06</td>\n",
              "      <td>2</td>\n",
              "      <td>0</td>\n",
              "      <td>0</td>\n",
              "      <td>0</td>\n",
              "      <td>1</td>\n",
              "      <td>1</td>\n",
              "      <td>11.444</td>\n",
              "      <td>0</td>\n",
              "      <td>0</td>\n",
              "      <td>0</td>\n",
              "      <td>1</td>\n",
              "      <td>0</td>\n",
              "      <td>80</td>\n",
              "      <td>1</td>\n",
              "    </tr>\n",
              "    <tr>\n",
              "      <th>3</th>\n",
              "      <td>17</td>\n",
              "      <td>2</td>\n",
              "      <td>2.21</td>\n",
              "      <td>1.88</td>\n",
              "      <td>0</td>\n",
              "      <td>0</td>\n",
              "      <td>1</td>\n",
              "      <td>0</td>\n",
              "      <td>0</td>\n",
              "      <td>0</td>\n",
              "      <td>12.000</td>\n",
              "      <td>0</td>\n",
              "      <td>0</td>\n",
              "      <td>0</td>\n",
              "      <td>1</td>\n",
              "      <td>0</td>\n",
              "      <td>56</td>\n",
              "      <td>0</td>\n",
              "    </tr>\n",
              "    <tr>\n",
              "      <th>4</th>\n",
              "      <td>18</td>\n",
              "      <td>2</td>\n",
              "      <td>2.96</td>\n",
              "      <td>1.67</td>\n",
              "      <td>0</td>\n",
              "      <td>0</td>\n",
              "      <td>0</td>\n",
              "      <td>0</td>\n",
              "      <td>0</td>\n",
              "      <td>0</td>\n",
              "      <td>12.000</td>\n",
              "      <td>0</td>\n",
              "      <td>0</td>\n",
              "      <td>0</td>\n",
              "      <td>1</td>\n",
              "      <td>0</td>\n",
              "      <td>61</td>\n",
              "      <td>0</td>\n",
              "    </tr>\n",
              "  </tbody>\n",
              "</table>\n",
              "</div>"
            ],
            "text/plain": [
              "   293  1   3.8   2.8  0  0.1  0.2  ...  0.6  0.7  0.8  1.1  0.9  62  0.10\n",
              "0    1  2  2.88  2.16  1    0    0  ...    0    0    0    1    0  60     0\n",
              "1    8  2  3.19  2.50  1    0    0  ...    0    0    1    1    0  66     1\n",
              "2   14  2  3.98  3.06  2    0    0  ...    0    0    0    1    0  80     1\n",
              "3   17  2  2.21  1.88  0    0    1  ...    0    0    0    1    0  56     0\n",
              "4   18  2  2.96  1.67  0    0    0  ...    0    0    0    1    0  61     0\n",
              "\n",
              "[5 rows x 18 columns]"
            ]
          },
          "metadata": {},
          "execution_count": 6
        }
      ]
    },
    {
      "cell_type": "code",
      "metadata": {
        "id": "F_VYmnlHb3ql"
      },
      "source": [
        "data = data.values"
      ],
      "execution_count": null,
      "outputs": []
    },
    {
      "cell_type": "code",
      "metadata": {
        "id": "zuROxKWHb-hs"
      },
      "source": [
        "x = data[:,0:17]\n",
        "y = data[:,17]"
      ],
      "execution_count": null,
      "outputs": []
    },
    {
      "cell_type": "code",
      "metadata": {
        "colab": {
          "base_uri": "https://localhost:8080/"
        },
        "id": "4-68tjyDfFJ8",
        "outputId": "4e3f3fff-a89a-45f8-82b8-dc158d12fc82"
      },
      "source": [
        "type(x)\n",
        "type(y)"
      ],
      "execution_count": null,
      "outputs": [
        {
          "output_type": "execute_result",
          "data": {
            "text/plain": [
              "numpy.ndarray"
            ]
          },
          "metadata": {},
          "execution_count": 28
        }
      ]
    },
    {
      "cell_type": "code",
      "metadata": {
        "id": "HDKxPTZ7cGMt"
      },
      "source": [
        "# 전체 데이터에서 학습데이터와 테스트 데이터 구분\n",
        "x_train1, x_test, y_train1, y_test = train_test_split(x, y, test_size=0.2)\n",
        "x_train, x_valid, y_train, y_valid = train_test_split(x_train1, y_train1, test_size=0.3)"
      ],
      "execution_count": null,
      "outputs": []
    },
    {
      "cell_type": "code",
      "metadata": {
        "colab": {
          "base_uri": "https://localhost:8080/"
        },
        "id": "Q7VgidiucieV",
        "outputId": "293d6c6c-c3c0-41ee-e039-a9c3968b4d74"
      },
      "source": [
        "input_layer = tf.keras.layers.Input(shape=(17,))\n",
        "x = tf.keras.layers.Dense(10, activation='sigmoid', kernel_initializer=tf.keras.initializers.he_normal())(input_layer) # he 초기화 방법\n",
        "x = tf.keras.layers.Dense(10, activation='sigmoid', kernel_initializer=tf.keras.initializers.glorot_uniform)(x) # xavier초기화 방법\n",
        "output_layer = tf.keras.layers.Dense(1, activation='sigmoid')(x)\n",
        "model = tf.keras.models.Model(inputs=[input_layer], outputs=[output_layer])\n",
        "model.summary()"
      ],
      "execution_count": null,
      "outputs": [
        {
          "output_type": "stream",
          "name": "stdout",
          "text": [
            "Model: \"model_3\"\n",
            "_________________________________________________________________\n",
            "Layer (type)                 Output Shape              Param #   \n",
            "=================================================================\n",
            "input_5 (InputLayer)         [(None, 17)]              0         \n",
            "_________________________________________________________________\n",
            "dense_12 (Dense)             (None, 10)                180       \n",
            "_________________________________________________________________\n",
            "dense_13 (Dense)             (None, 10)                110       \n",
            "_________________________________________________________________\n",
            "dense_14 (Dense)             (None, 1)                 11        \n",
            "=================================================================\n",
            "Total params: 301\n",
            "Trainable params: 301\n",
            "Non-trainable params: 0\n",
            "_________________________________________________________________\n"
          ]
        }
      ]
    },
    {
      "cell_type": "code",
      "metadata": {
        "id": "ipdDEjDCeAbM"
      },
      "source": [
        "loss = tf.keras.losses.binary_crossentropy\n",
        "optimizer = tf.keras.optimizers.SGD(learning_rate=0.4)\n",
        "metrics = tf.keras.metrics.binary_accuracy\n",
        "model.compile(loss=loss, optimizer=optimizer, metrics=[metrics])"
      ],
      "execution_count": null,
      "outputs": []
    },
    {
      "cell_type": "code",
      "metadata": {
        "colab": {
          "base_uri": "https://localhost:8080/"
        },
        "id": "67Gbu8YseeGk",
        "outputId": "b2feb954-4b5c-46b4-e9d9-0671c62af82e"
      },
      "source": [
        "history = model.fit(x_train, y_train, epochs=100, batch_size=10, validation_data=(x_valid, y_valid))"
      ],
      "execution_count": null,
      "outputs": [
        {
          "output_type": "stream",
          "name": "stdout",
          "text": [
            "Epoch 1/100\n",
            "27/27 [==============================] - 1s 10ms/step - loss: 0.4308 - binary_accuracy: 0.8473 - val_loss: 0.4459 - val_binary_accuracy: 0.8496\n",
            "Epoch 2/100\n",
            "27/27 [==============================] - 0s 2ms/step - loss: 0.4361 - binary_accuracy: 0.8473 - val_loss: 0.4255 - val_binary_accuracy: 0.8496\n",
            "Epoch 3/100\n",
            "27/27 [==============================] - 0s 3ms/step - loss: 0.4388 - binary_accuracy: 0.8473 - val_loss: 0.4298 - val_binary_accuracy: 0.8496\n",
            "Epoch 4/100\n",
            "27/27 [==============================] - 0s 3ms/step - loss: 0.4351 - binary_accuracy: 0.8473 - val_loss: 0.4266 - val_binary_accuracy: 0.8496\n",
            "Epoch 5/100\n",
            "27/27 [==============================] - 0s 2ms/step - loss: 0.4367 - binary_accuracy: 0.8473 - val_loss: 0.4376 - val_binary_accuracy: 0.8496\n",
            "Epoch 6/100\n",
            "27/27 [==============================] - 0s 2ms/step - loss: 0.4343 - binary_accuracy: 0.8473 - val_loss: 0.4305 - val_binary_accuracy: 0.8496\n",
            "Epoch 7/100\n",
            "27/27 [==============================] - 0s 2ms/step - loss: 0.4362 - binary_accuracy: 0.8473 - val_loss: 0.4319 - val_binary_accuracy: 0.8496\n",
            "Epoch 8/100\n",
            "27/27 [==============================] - 0s 3ms/step - loss: 0.4325 - binary_accuracy: 0.8473 - val_loss: 0.4247 - val_binary_accuracy: 0.8496\n",
            "Epoch 9/100\n",
            "27/27 [==============================] - 0s 2ms/step - loss: 0.4318 - binary_accuracy: 0.8473 - val_loss: 0.4283 - val_binary_accuracy: 0.8496\n",
            "Epoch 10/100\n",
            "27/27 [==============================] - 0s 3ms/step - loss: 0.4280 - binary_accuracy: 0.8473 - val_loss: 0.4265 - val_binary_accuracy: 0.8496\n",
            "Epoch 11/100\n",
            "27/27 [==============================] - 0s 2ms/step - loss: 0.4351 - binary_accuracy: 0.8473 - val_loss: 0.4608 - val_binary_accuracy: 0.8496\n",
            "Epoch 12/100\n",
            "27/27 [==============================] - 0s 3ms/step - loss: 0.4327 - binary_accuracy: 0.8473 - val_loss: 0.4330 - val_binary_accuracy: 0.8496\n",
            "Epoch 13/100\n",
            "27/27 [==============================] - 0s 2ms/step - loss: 0.4305 - binary_accuracy: 0.8473 - val_loss: 0.4382 - val_binary_accuracy: 0.8496\n",
            "Epoch 14/100\n",
            "27/27 [==============================] - 0s 2ms/step - loss: 0.4350 - binary_accuracy: 0.8473 - val_loss: 0.4242 - val_binary_accuracy: 0.8496\n",
            "Epoch 15/100\n",
            "27/27 [==============================] - 0s 3ms/step - loss: 0.4383 - binary_accuracy: 0.8473 - val_loss: 0.4350 - val_binary_accuracy: 0.8496\n",
            "Epoch 16/100\n",
            "27/27 [==============================] - 0s 2ms/step - loss: 0.4266 - binary_accuracy: 0.8473 - val_loss: 0.4888 - val_binary_accuracy: 0.8496\n",
            "Epoch 17/100\n",
            "27/27 [==============================] - 0s 3ms/step - loss: 0.4381 - binary_accuracy: 0.8473 - val_loss: 0.4282 - val_binary_accuracy: 0.8496\n",
            "Epoch 18/100\n",
            "27/27 [==============================] - 0s 2ms/step - loss: 0.4302 - binary_accuracy: 0.8473 - val_loss: 0.4274 - val_binary_accuracy: 0.8496\n",
            "Epoch 19/100\n",
            "27/27 [==============================] - 0s 2ms/step - loss: 0.4381 - binary_accuracy: 0.8473 - val_loss: 0.4321 - val_binary_accuracy: 0.8496\n",
            "Epoch 20/100\n",
            "27/27 [==============================] - 0s 2ms/step - loss: 0.4312 - binary_accuracy: 0.8473 - val_loss: 0.4254 - val_binary_accuracy: 0.8496\n",
            "Epoch 21/100\n",
            "27/27 [==============================] - 0s 3ms/step - loss: 0.4348 - binary_accuracy: 0.8473 - val_loss: 0.4444 - val_binary_accuracy: 0.8496\n",
            "Epoch 22/100\n",
            "27/27 [==============================] - 0s 3ms/step - loss: 0.4342 - binary_accuracy: 0.8473 - val_loss: 0.4421 - val_binary_accuracy: 0.8496\n",
            "Epoch 23/100\n",
            "27/27 [==============================] - 0s 2ms/step - loss: 0.4297 - binary_accuracy: 0.8473 - val_loss: 0.4286 - val_binary_accuracy: 0.8496\n",
            "Epoch 24/100\n",
            "27/27 [==============================] - 0s 3ms/step - loss: 0.4321 - binary_accuracy: 0.8473 - val_loss: 0.4248 - val_binary_accuracy: 0.8496\n",
            "Epoch 25/100\n",
            "27/27 [==============================] - 0s 2ms/step - loss: 0.4318 - binary_accuracy: 0.8473 - val_loss: 0.4383 - val_binary_accuracy: 0.8496\n",
            "Epoch 26/100\n",
            "27/27 [==============================] - 0s 3ms/step - loss: 0.4354 - binary_accuracy: 0.8473 - val_loss: 0.4249 - val_binary_accuracy: 0.8496\n",
            "Epoch 27/100\n",
            "27/27 [==============================] - 0s 2ms/step - loss: 0.4367 - binary_accuracy: 0.8473 - val_loss: 0.5002 - val_binary_accuracy: 0.8496\n",
            "Epoch 28/100\n",
            "27/27 [==============================] - 0s 2ms/step - loss: 0.4410 - binary_accuracy: 0.8473 - val_loss: 0.4279 - val_binary_accuracy: 0.8496\n",
            "Epoch 29/100\n",
            "27/27 [==============================] - 0s 3ms/step - loss: 0.4285 - binary_accuracy: 0.8473 - val_loss: 0.4257 - val_binary_accuracy: 0.8496\n",
            "Epoch 30/100\n",
            "27/27 [==============================] - 0s 2ms/step - loss: 0.4281 - binary_accuracy: 0.8473 - val_loss: 0.4250 - val_binary_accuracy: 0.8496\n",
            "Epoch 31/100\n",
            "27/27 [==============================] - 0s 2ms/step - loss: 0.4329 - binary_accuracy: 0.8473 - val_loss: 0.4257 - val_binary_accuracy: 0.8496\n",
            "Epoch 32/100\n",
            "27/27 [==============================] - 0s 3ms/step - loss: 0.4366 - binary_accuracy: 0.8473 - val_loss: 0.4405 - val_binary_accuracy: 0.8496\n",
            "Epoch 33/100\n",
            "27/27 [==============================] - 0s 2ms/step - loss: 0.4309 - binary_accuracy: 0.8473 - val_loss: 0.4549 - val_binary_accuracy: 0.8496\n",
            "Epoch 34/100\n",
            "27/27 [==============================] - 0s 2ms/step - loss: 0.4374 - binary_accuracy: 0.8473 - val_loss: 0.4257 - val_binary_accuracy: 0.8496\n",
            "Epoch 35/100\n",
            "27/27 [==============================] - 0s 2ms/step - loss: 0.4304 - binary_accuracy: 0.8473 - val_loss: 0.4390 - val_binary_accuracy: 0.8496\n",
            "Epoch 36/100\n",
            "27/27 [==============================] - 0s 3ms/step - loss: 0.4382 - binary_accuracy: 0.8473 - val_loss: 0.4452 - val_binary_accuracy: 0.8496\n",
            "Epoch 37/100\n",
            "27/27 [==============================] - 0s 3ms/step - loss: 0.4320 - binary_accuracy: 0.8473 - val_loss: 0.4277 - val_binary_accuracy: 0.8496\n",
            "Epoch 38/100\n",
            "27/27 [==============================] - 0s 2ms/step - loss: 0.4297 - binary_accuracy: 0.8473 - val_loss: 0.4274 - val_binary_accuracy: 0.8496\n",
            "Epoch 39/100\n",
            "27/27 [==============================] - 0s 2ms/step - loss: 0.4336 - binary_accuracy: 0.8473 - val_loss: 0.4267 - val_binary_accuracy: 0.8496\n",
            "Epoch 40/100\n",
            "27/27 [==============================] - 0s 2ms/step - loss: 0.4303 - binary_accuracy: 0.8473 - val_loss: 0.4314 - val_binary_accuracy: 0.8496\n",
            "Epoch 41/100\n",
            "27/27 [==============================] - 0s 3ms/step - loss: 0.4330 - binary_accuracy: 0.8473 - val_loss: 0.4250 - val_binary_accuracy: 0.8496\n",
            "Epoch 42/100\n",
            "27/27 [==============================] - 0s 2ms/step - loss: 0.4290 - binary_accuracy: 0.8473 - val_loss: 0.4336 - val_binary_accuracy: 0.8496\n",
            "Epoch 43/100\n",
            "27/27 [==============================] - 0s 2ms/step - loss: 0.4295 - binary_accuracy: 0.8473 - val_loss: 0.4270 - val_binary_accuracy: 0.8496\n",
            "Epoch 44/100\n",
            "27/27 [==============================] - 0s 2ms/step - loss: 0.4296 - binary_accuracy: 0.8473 - val_loss: 0.4256 - val_binary_accuracy: 0.8496\n",
            "Epoch 45/100\n",
            "27/27 [==============================] - 0s 2ms/step - loss: 0.4291 - binary_accuracy: 0.8473 - val_loss: 0.4265 - val_binary_accuracy: 0.8496\n",
            "Epoch 46/100\n",
            "27/27 [==============================] - 0s 3ms/step - loss: 0.4312 - binary_accuracy: 0.8473 - val_loss: 0.4306 - val_binary_accuracy: 0.8496\n",
            "Epoch 47/100\n",
            "27/27 [==============================] - 0s 2ms/step - loss: 0.4298 - binary_accuracy: 0.8473 - val_loss: 0.4271 - val_binary_accuracy: 0.8496\n",
            "Epoch 48/100\n",
            "27/27 [==============================] - 0s 2ms/step - loss: 0.4306 - binary_accuracy: 0.8473 - val_loss: 0.4315 - val_binary_accuracy: 0.8496\n",
            "Epoch 49/100\n",
            "27/27 [==============================] - 0s 2ms/step - loss: 0.4275 - binary_accuracy: 0.8473 - val_loss: 0.4260 - val_binary_accuracy: 0.8496\n",
            "Epoch 50/100\n",
            "27/27 [==============================] - 0s 3ms/step - loss: 0.4318 - binary_accuracy: 0.8473 - val_loss: 0.4262 - val_binary_accuracy: 0.8496\n",
            "Epoch 51/100\n",
            "27/27 [==============================] - 0s 2ms/step - loss: 0.4307 - binary_accuracy: 0.8473 - val_loss: 0.4284 - val_binary_accuracy: 0.8496\n",
            "Epoch 52/100\n",
            "27/27 [==============================] - 0s 3ms/step - loss: 0.4286 - binary_accuracy: 0.8473 - val_loss: 0.4335 - val_binary_accuracy: 0.8496\n",
            "Epoch 53/100\n",
            "27/27 [==============================] - 0s 2ms/step - loss: 0.4307 - binary_accuracy: 0.8473 - val_loss: 0.4254 - val_binary_accuracy: 0.8496\n",
            "Epoch 54/100\n",
            "27/27 [==============================] - 0s 3ms/step - loss: 0.4270 - binary_accuracy: 0.8473 - val_loss: 0.4443 - val_binary_accuracy: 0.8496\n",
            "Epoch 55/100\n",
            "27/27 [==============================] - 0s 2ms/step - loss: 0.4332 - binary_accuracy: 0.8473 - val_loss: 0.4253 - val_binary_accuracy: 0.8496\n",
            "Epoch 56/100\n",
            "27/27 [==============================] - 0s 2ms/step - loss: 0.4334 - binary_accuracy: 0.8473 - val_loss: 0.4291 - val_binary_accuracy: 0.8496\n",
            "Epoch 57/100\n",
            "27/27 [==============================] - 0s 2ms/step - loss: 0.4273 - binary_accuracy: 0.8473 - val_loss: 0.4258 - val_binary_accuracy: 0.8496\n",
            "Epoch 58/100\n",
            "27/27 [==============================] - 0s 2ms/step - loss: 0.4321 - binary_accuracy: 0.8473 - val_loss: 0.4266 - val_binary_accuracy: 0.8496\n",
            "Epoch 59/100\n",
            "27/27 [==============================] - 0s 3ms/step - loss: 0.4312 - binary_accuracy: 0.8473 - val_loss: 0.4306 - val_binary_accuracy: 0.8496\n",
            "Epoch 60/100\n",
            "27/27 [==============================] - 0s 2ms/step - loss: 0.4281 - binary_accuracy: 0.8473 - val_loss: 0.4274 - val_binary_accuracy: 0.8496\n",
            "Epoch 61/100\n",
            "27/27 [==============================] - 0s 3ms/step - loss: 0.4315 - binary_accuracy: 0.8473 - val_loss: 0.4253 - val_binary_accuracy: 0.8496\n",
            "Epoch 62/100\n",
            "27/27 [==============================] - 0s 2ms/step - loss: 0.4342 - binary_accuracy: 0.8473 - val_loss: 0.4327 - val_binary_accuracy: 0.8496\n",
            "Epoch 63/100\n",
            "27/27 [==============================] - 0s 2ms/step - loss: 0.4328 - binary_accuracy: 0.8473 - val_loss: 0.4256 - val_binary_accuracy: 0.8496\n",
            "Epoch 64/100\n",
            "27/27 [==============================] - 0s 2ms/step - loss: 0.4309 - binary_accuracy: 0.8473 - val_loss: 0.4326 - val_binary_accuracy: 0.8496\n",
            "Epoch 65/100\n",
            "27/27 [==============================] - 0s 2ms/step - loss: 0.4334 - binary_accuracy: 0.8473 - val_loss: 0.4246 - val_binary_accuracy: 0.8496\n",
            "Epoch 66/100\n",
            "27/27 [==============================] - 0s 3ms/step - loss: 0.4306 - binary_accuracy: 0.8473 - val_loss: 0.4250 - val_binary_accuracy: 0.8496\n",
            "Epoch 67/100\n",
            "27/27 [==============================] - 0s 3ms/step - loss: 0.4334 - binary_accuracy: 0.8473 - val_loss: 0.4426 - val_binary_accuracy: 0.8496\n",
            "Epoch 68/100\n",
            "27/27 [==============================] - 0s 3ms/step - loss: 0.4369 - binary_accuracy: 0.8473 - val_loss: 0.4251 - val_binary_accuracy: 0.8496\n",
            "Epoch 69/100\n",
            "27/27 [==============================] - 0s 2ms/step - loss: 0.4349 - binary_accuracy: 0.8473 - val_loss: 0.4278 - val_binary_accuracy: 0.8496\n",
            "Epoch 70/100\n",
            "27/27 [==============================] - 0s 2ms/step - loss: 0.4318 - binary_accuracy: 0.8473 - val_loss: 0.4241 - val_binary_accuracy: 0.8496\n",
            "Epoch 71/100\n",
            "27/27 [==============================] - 0s 2ms/step - loss: 0.4332 - binary_accuracy: 0.8473 - val_loss: 0.4241 - val_binary_accuracy: 0.8496\n",
            "Epoch 72/100\n",
            "27/27 [==============================] - 0s 3ms/step - loss: 0.4278 - binary_accuracy: 0.8473 - val_loss: 0.4276 - val_binary_accuracy: 0.8496\n",
            "Epoch 73/100\n",
            "27/27 [==============================] - 0s 3ms/step - loss: 0.4329 - binary_accuracy: 0.8473 - val_loss: 0.4277 - val_binary_accuracy: 0.8496\n",
            "Epoch 74/100\n",
            "27/27 [==============================] - 0s 2ms/step - loss: 0.4365 - binary_accuracy: 0.8473 - val_loss: 0.4236 - val_binary_accuracy: 0.8496\n",
            "Epoch 75/100\n",
            "27/27 [==============================] - 0s 2ms/step - loss: 0.4322 - binary_accuracy: 0.8473 - val_loss: 0.4894 - val_binary_accuracy: 0.8496\n",
            "Epoch 76/100\n",
            "27/27 [==============================] - 0s 2ms/step - loss: 0.4368 - binary_accuracy: 0.8473 - val_loss: 0.4272 - val_binary_accuracy: 0.8496\n",
            "Epoch 77/100\n",
            "27/27 [==============================] - 0s 2ms/step - loss: 0.4339 - binary_accuracy: 0.8473 - val_loss: 0.4255 - val_binary_accuracy: 0.8496\n",
            "Epoch 78/100\n",
            "27/27 [==============================] - 0s 3ms/step - loss: 0.4324 - binary_accuracy: 0.8473 - val_loss: 0.4236 - val_binary_accuracy: 0.8496\n",
            "Epoch 79/100\n",
            "27/27 [==============================] - 0s 2ms/step - loss: 0.4305 - binary_accuracy: 0.8473 - val_loss: 0.4241 - val_binary_accuracy: 0.8496\n",
            "Epoch 80/100\n",
            "27/27 [==============================] - 0s 2ms/step - loss: 0.4345 - binary_accuracy: 0.8473 - val_loss: 0.4561 - val_binary_accuracy: 0.8496\n",
            "Epoch 81/100\n",
            "27/27 [==============================] - 0s 3ms/step - loss: 0.4354 - binary_accuracy: 0.8473 - val_loss: 0.4238 - val_binary_accuracy: 0.8496\n",
            "Epoch 82/100\n",
            "27/27 [==============================] - 0s 3ms/step - loss: 0.4322 - binary_accuracy: 0.8473 - val_loss: 0.4319 - val_binary_accuracy: 0.8496\n",
            "Epoch 83/100\n",
            "27/27 [==============================] - 0s 3ms/step - loss: 0.4315 - binary_accuracy: 0.8473 - val_loss: 0.4238 - val_binary_accuracy: 0.8496\n",
            "Epoch 84/100\n",
            "27/27 [==============================] - 0s 2ms/step - loss: 0.4336 - binary_accuracy: 0.8473 - val_loss: 0.4304 - val_binary_accuracy: 0.8496\n",
            "Epoch 85/100\n",
            "27/27 [==============================] - 0s 2ms/step - loss: 0.4329 - binary_accuracy: 0.8473 - val_loss: 0.4277 - val_binary_accuracy: 0.8496\n",
            "Epoch 86/100\n",
            "27/27 [==============================] - 0s 3ms/step - loss: 0.4293 - binary_accuracy: 0.8473 - val_loss: 0.4254 - val_binary_accuracy: 0.8496\n",
            "Epoch 87/100\n",
            "27/27 [==============================] - 0s 2ms/step - loss: 0.4312 - binary_accuracy: 0.8473 - val_loss: 0.4261 - val_binary_accuracy: 0.8496\n",
            "Epoch 88/100\n",
            "27/27 [==============================] - 0s 2ms/step - loss: 0.4334 - binary_accuracy: 0.8473 - val_loss: 0.4290 - val_binary_accuracy: 0.8496\n",
            "Epoch 89/100\n",
            "27/27 [==============================] - 0s 2ms/step - loss: 0.4261 - binary_accuracy: 0.8473 - val_loss: 0.4376 - val_binary_accuracy: 0.8496\n",
            "Epoch 90/100\n",
            "27/27 [==============================] - 0s 2ms/step - loss: 0.4322 - binary_accuracy: 0.8473 - val_loss: 0.4248 - val_binary_accuracy: 0.8496\n",
            "Epoch 91/100\n",
            "27/27 [==============================] - 0s 2ms/step - loss: 0.4313 - binary_accuracy: 0.8473 - val_loss: 0.4252 - val_binary_accuracy: 0.8496\n",
            "Epoch 92/100\n",
            "27/27 [==============================] - 0s 2ms/step - loss: 0.4299 - binary_accuracy: 0.8473 - val_loss: 0.4243 - val_binary_accuracy: 0.8496\n",
            "Epoch 93/100\n",
            "27/27 [==============================] - 0s 2ms/step - loss: 0.4310 - binary_accuracy: 0.8473 - val_loss: 0.4258 - val_binary_accuracy: 0.8496\n",
            "Epoch 94/100\n",
            "27/27 [==============================] - 0s 2ms/step - loss: 0.4334 - binary_accuracy: 0.8473 - val_loss: 0.4312 - val_binary_accuracy: 0.8496\n",
            "Epoch 95/100\n",
            "27/27 [==============================] - 0s 2ms/step - loss: 0.4272 - binary_accuracy: 0.8473 - val_loss: 0.4297 - val_binary_accuracy: 0.8496\n",
            "Epoch 96/100\n",
            "27/27 [==============================] - 0s 2ms/step - loss: 0.4311 - binary_accuracy: 0.8473 - val_loss: 0.4328 - val_binary_accuracy: 0.8496\n",
            "Epoch 97/100\n",
            "27/27 [==============================] - 0s 2ms/step - loss: 0.4357 - binary_accuracy: 0.8473 - val_loss: 0.4246 - val_binary_accuracy: 0.8496\n",
            "Epoch 98/100\n",
            "27/27 [==============================] - 0s 2ms/step - loss: 0.4308 - binary_accuracy: 0.8473 - val_loss: 0.4250 - val_binary_accuracy: 0.8496\n",
            "Epoch 99/100\n",
            "27/27 [==============================] - 0s 2ms/step - loss: 0.4302 - binary_accuracy: 0.8473 - val_loss: 0.4272 - val_binary_accuracy: 0.8496\n",
            "Epoch 100/100\n",
            "27/27 [==============================] - 0s 3ms/step - loss: 0.4348 - binary_accuracy: 0.8473 - val_loss: 0.4476 - val_binary_accuracy: 0.8496\n"
          ]
        }
      ]
    },
    {
      "cell_type": "code",
      "metadata": {
        "colab": {
          "base_uri": "https://localhost:8080/"
        },
        "id": "0XCK5aHDeqgN",
        "outputId": "98c014f2-b2cd-48f3-c371-c4bce732991d"
      },
      "source": [
        "print(history.history.keys())"
      ],
      "execution_count": null,
      "outputs": [
        {
          "output_type": "stream",
          "name": "stdout",
          "text": [
            "dict_keys(['loss', 'binary_accuracy', 'val_loss', 'val_binary_accuracy'])\n"
          ]
        }
      ]
    },
    {
      "cell_type": "code",
      "metadata": {
        "colab": {
          "base_uri": "https://localhost:8080/",
          "height": 313
        },
        "id": "df502MacevAM",
        "outputId": "48806833-728f-45ad-efdc-e837fad94016"
      },
      "source": [
        "## history에서 loss와 val_loss의 key를 가지는 값들만 추출\n",
        "loss = history.history['loss']\n",
        "val_loss = history.history['val_loss']\n",
        "### loss와 val_loss를 그래프화\n",
        "epochs = range(1, len(loss) + 1)\n",
        "plt.subplot(211)  ## 2x1 개의 그래프 중에 1번째\n",
        "plt.plot(epochs, loss, 'bo', label='Training loss')\n",
        "plt.plot(epochs, val_loss, 'b', label='Validation loss')\n",
        "plt.title('Training and validation loss')\n",
        "plt.xlabel('Epochs')\n",
        "plt.ylabel('Loss')\n",
        "plt.legend()\n",
        "\n",
        "### history에서 binary_accuracy와 val_binary_accuracy key를 가지는 값들만 추출\n",
        "rmse = history.history['binary_accuracy']\n",
        "val_rmse = history.history['val_binary_accuracy']\n",
        "epochs = range(1, len(rmse) + 1)\n",
        "### binary_accuracy와 val_binary_accuracy key를 그래프화\n",
        "plt.subplot(212)  ## 2x1 개의 그래프 중에 2번째\n",
        "plt.plot(epochs, rmse, 'ro', label='Training binary_accuracy')\n",
        "plt.plot(epochs, val_rmse, 'r', label='Validation binary_accuracy')\n",
        "plt.title('Training and validation binary_accuracy')\n",
        "plt.xlabel('Epochs')\n",
        "plt.ylabel('binary_accuracy')\n",
        "plt.legend()"
      ],
      "execution_count": null,
      "outputs": [
        {
          "output_type": "execute_result",
          "data": {
            "text/plain": [
              "<matplotlib.legend.Legend at 0x7fd92d1b6450>"
            ]
          },
          "metadata": {},
          "execution_count": 24
        },
        {
          "output_type": "display_data",
          "data": {
            "image/png": "[encoded data removed]",
            "text/plain": [
              "<Figure size 432x288 with 2 Axes>"
            ]
          },
          "metadata": {
            "needs_background": "light"
          }
        }
      ]
    },
    {
      "cell_type": "code",
      "metadata": {
        "colab": {
          "base_uri": "https://localhost:8080/",
          "height": 489
        },
        "id": "H-aIarZre3R8",
        "outputId": "7a7af369-494b-456f-9603-78f2f1a41c08"
      },
      "source": [
        "# 결과를 출력합니다.\n",
        "print(\"-----\")\n",
        "print(model.evaluate(x_test, y_test))\n",
        "print(\"\\n Accuracy: %.4f\" % (model.evaluate(x, y)[1]))\n",
        "\n",
        "plt.show()"
      ],
      "execution_count": null,
      "outputs": [
        {
          "output_type": "stream",
          "name": "stdout",
          "text": [
            "-----\n",
            "3/3 [==============================] - 0s 4ms/step - loss: 0.4330 - binary_accuracy: 0.8617\n",
            "[0.43296298384666443, 0.8617021441459656]\n",
            "WARNING:tensorflow:Keras is training/fitting/evaluating on array-like data. Keras may not be optimized for this format, so if your input data format is supported by TensorFlow I/O (https://github.com/tensorflow/io) we recommend using that to load a Dataset instead.\n"
          ]
        },
        {
          "output_type": "error",
          "ename": "TypeError",
          "evalue": "ignored",
          "traceback": [
            "\u001b[0;31m---------------------------------------------------------------------------\u001b[0m",
            "\u001b[0;31mTypeError\u001b[0m                                 Traceback (most recent call last)",
            "\u001b[0;32m<ipython-input-27-5563e553f08a>\u001b[0m in \u001b[0;36m<module>\u001b[0;34m()\u001b[0m\n\u001b[1;32m      2\u001b[0m \u001b[0mprint\u001b[0m\u001b[0;34m(\u001b[0m\u001b[0;34m\"-----\"\u001b[0m\u001b[0;34m)\u001b[0m\u001b[0;34m\u001b[0m\u001b[0;34m\u001b[0m\u001b[0m\n\u001b[1;32m      3\u001b[0m \u001b[0mprint\u001b[0m\u001b[0;34m(\u001b[0m\u001b[0mmodel\u001b[0m\u001b[0;34m.\u001b[0m\u001b[0mevaluate\u001b[0m\u001b[0;34m(\u001b[0m\u001b[0mx_test\u001b[0m\u001b[0;34m,\u001b[0m \u001b[0my_test\u001b[0m\u001b[0;34m)\u001b[0m\u001b[0;34m)\u001b[0m\u001b[0;34m\u001b[0m\u001b[0;34m\u001b[0m\u001b[0m\n\u001b[0;32m----> 4\u001b[0;31m \u001b[0mprint\u001b[0m\u001b[0;34m(\u001b[0m\u001b[0;34m\"\\n Accuracy: %.4f\"\u001b[0m \u001b[0;34m%\u001b[0m \u001b[0;34m(\u001b[0m\u001b[0mmodel\u001b[0m\u001b[0;34m.\u001b[0m\u001b[0mevaluate\u001b[0m\u001b[0;34m(\u001b[0m\u001b[0mx\u001b[0m\u001b[0;34m,\u001b[0m \u001b[0my\u001b[0m\u001b[0;34m)\u001b[0m\u001b[0;34m[\u001b[0m\u001b[0;36m1\u001b[0m\u001b[0;34m]\u001b[0m\u001b[0;34m)\u001b[0m\u001b[0;34m)\u001b[0m\u001b[0;34m\u001b[0m\u001b[0;34m\u001b[0m\u001b[0m\n\u001b[0m\u001b[1;32m      5\u001b[0m \u001b[0;34m\u001b[0m\u001b[0m\n\u001b[1;32m      6\u001b[0m \u001b[0mplt\u001b[0m\u001b[0;34m.\u001b[0m\u001b[0mshow\u001b[0m\u001b[0;34m(\u001b[0m\u001b[0;34m)\u001b[0m\u001b[0;34m\u001b[0m\u001b[0;34m\u001b[0m\u001b[0m\n",
            "\u001b[0;32m/usr/local/lib/python3.7/dist-packages/keras/engine/training.py\u001b[0m in \u001b[0;36mevaluate\u001b[0;34m(self, x, y, batch_size, verbose, sample_weight, steps, callbacks, max_queue_size, workers, use_multiprocessing, return_dict, **kwargs)\u001b[0m\n\u001b[1;32m   1476\u001b[0m             \u001b[0muse_multiprocessing\u001b[0m\u001b[0;34m=\u001b[0m\u001b[0muse_multiprocessing\u001b[0m\u001b[0;34m,\u001b[0m\u001b[0;34m\u001b[0m\u001b[0;34m\u001b[0m\u001b[0m\n\u001b[1;32m   1477\u001b[0m             \u001b[0mmodel\u001b[0m\u001b[0;34m=\u001b[0m\u001b[0mself\u001b[0m\u001b[0;34m,\u001b[0m\u001b[0;34m\u001b[0m\u001b[0;34m\u001b[0m\u001b[0m\n\u001b[0;32m-> 1478\u001b[0;31m             steps_per_execution=self._steps_per_execution)\n\u001b[0m\u001b[1;32m   1479\u001b[0m \u001b[0;34m\u001b[0m\u001b[0m\n\u001b[1;32m   1480\u001b[0m       \u001b[0;31m# Container that configures and calls `tf.keras.Callback`s.\u001b[0m\u001b[0;34m\u001b[0m\u001b[0;34m\u001b[0m\u001b[0;34m\u001b[0m\u001b[0m\n",
            "\u001b[0;32m/usr/local/lib/python3.7/dist-packages/keras/engine/data_adapter.py\u001b[0m in \u001b[0;36mget_data_handler\u001b[0;34m(*args, **kwargs)\u001b[0m\n\u001b[1;32m   1381\u001b[0m   \u001b[0;32mif\u001b[0m \u001b[0mgetattr\u001b[0m\u001b[0;34m(\u001b[0m\u001b[0mkwargs\u001b[0m\u001b[0;34m[\u001b[0m\u001b[0;34m\"model\"\u001b[0m\u001b[0;34m]\u001b[0m\u001b[0;34m,\u001b[0m \u001b[0;34m\"_cluster_coordinator\"\u001b[0m\u001b[0;34m,\u001b[0m \u001b[0;32mNone\u001b[0m\u001b[0;34m)\u001b[0m\u001b[0;34m:\u001b[0m\u001b[0;34m\u001b[0m\u001b[0;34m\u001b[0m\u001b[0m\n\u001b[1;32m   1382\u001b[0m     \u001b[0;32mreturn\u001b[0m \u001b[0m_ClusterCoordinatorDataHandler\u001b[0m\u001b[0;34m(\u001b[0m\u001b[0;34m*\u001b[0m\u001b[0margs\u001b[0m\u001b[0;34m,\u001b[0m \u001b[0;34m**\u001b[0m\u001b[0mkwargs\u001b[0m\u001b[0;34m)\u001b[0m\u001b[0;34m\u001b[0m\u001b[0;34m\u001b[0m\u001b[0m\n\u001b[0;32m-> 1383\u001b[0;31m   \u001b[0;32mreturn\u001b[0m \u001b[0mDataHandler\u001b[0m\u001b[0;34m(\u001b[0m\u001b[0;34m*\u001b[0m\u001b[0margs\u001b[0m\u001b[0;34m,\u001b[0m \u001b[0;34m**\u001b[0m\u001b[0mkwargs\u001b[0m\u001b[0;34m)\u001b[0m\u001b[0;34m\u001b[0m\u001b[0;34m\u001b[0m\u001b[0m\n\u001b[0m\u001b[1;32m   1384\u001b[0m \u001b[0;34m\u001b[0m\u001b[0m\n\u001b[1;32m   1385\u001b[0m \u001b[0;34m\u001b[0m\u001b[0m\n",
            "\u001b[0;32m/usr/local/lib/python3.7/dist-packages/keras/engine/data_adapter.py\u001b[0m in \u001b[0;36m__init__\u001b[0;34m(self, x, y, sample_weight, batch_size, steps_per_epoch, initial_epoch, epochs, shuffle, class_weight, max_queue_size, workers, use_multiprocessing, model, steps_per_execution, distribute)\u001b[0m\n\u001b[1;32m   1148\u001b[0m         \u001b[0muse_multiprocessing\u001b[0m\u001b[0;34m=\u001b[0m\u001b[0muse_multiprocessing\u001b[0m\u001b[0;34m,\u001b[0m\u001b[0;34m\u001b[0m\u001b[0;34m\u001b[0m\u001b[0m\n\u001b[1;32m   1149\u001b[0m         \u001b[0mdistribution_strategy\u001b[0m\u001b[0;34m=\u001b[0m\u001b[0mtf\u001b[0m\u001b[0;34m.\u001b[0m\u001b[0mdistribute\u001b[0m\u001b[0;34m.\u001b[0m\u001b[0mget_strategy\u001b[0m\u001b[0;34m(\u001b[0m\u001b[0;34m)\u001b[0m\u001b[0;34m,\u001b[0m\u001b[0;34m\u001b[0m\u001b[0;34m\u001b[0m\u001b[0m\n\u001b[0;32m-> 1150\u001b[0;31m         model=model)\n\u001b[0m\u001b[1;32m   1151\u001b[0m \u001b[0;34m\u001b[0m\u001b[0m\n\u001b[1;32m   1152\u001b[0m     \u001b[0mstrategy\u001b[0m \u001b[0;34m=\u001b[0m \u001b[0mtf\u001b[0m\u001b[0;34m.\u001b[0m\u001b[0mdistribute\u001b[0m\u001b[0;34m.\u001b[0m\u001b[0mget_strategy\u001b[0m\u001b[0;34m(\u001b[0m\u001b[0;34m)\u001b[0m\u001b[0;34m\u001b[0m\u001b[0;34m\u001b[0m\u001b[0m\n",
            "\u001b[0;32m/usr/local/lib/python3.7/dist-packages/keras/engine/data_adapter.py\u001b[0m in \u001b[0;36m__init__\u001b[0;34m(self, *args, **kwargs)\u001b[0m\n\u001b[1;32m    432\u001b[0m         \"recommend using that to load a Dataset instead.\")\n\u001b[1;32m    433\u001b[0m \u001b[0;34m\u001b[0m\u001b[0m\n\u001b[0;32m--> 434\u001b[0;31m     \u001b[0msuper\u001b[0m\u001b[0;34m(\u001b[0m\u001b[0mGenericArrayLikeDataAdapter\u001b[0m\u001b[0;34m,\u001b[0m \u001b[0mself\u001b[0m\u001b[0;34m)\u001b[0m\u001b[0;34m.\u001b[0m\u001b[0m__init__\u001b[0m\u001b[0;34m(\u001b[0m\u001b[0;34m*\u001b[0m\u001b[0margs\u001b[0m\u001b[0;34m,\u001b[0m \u001b[0;34m**\u001b[0m\u001b[0mkwargs\u001b[0m\u001b[0;34m)\u001b[0m\u001b[0;34m\u001b[0m\u001b[0;34m\u001b[0m\u001b[0m\n\u001b[0m\u001b[1;32m    435\u001b[0m \u001b[0;34m\u001b[0m\u001b[0m\n\u001b[1;32m    436\u001b[0m   \u001b[0;32mdef\u001b[0m \u001b[0mslice_inputs\u001b[0m\u001b[0;34m(\u001b[0m\u001b[0mself\u001b[0m\u001b[0;34m,\u001b[0m \u001b[0mindices_dataset\u001b[0m\u001b[0;34m,\u001b[0m \u001b[0minputs\u001b[0m\u001b[0;34m)\u001b[0m\u001b[0;34m:\u001b[0m\u001b[0;34m\u001b[0m\u001b[0;34m\u001b[0m\u001b[0m\n",
            "\u001b[0;32m/usr/local/lib/python3.7/dist-packages/keras/engine/data_adapter.py\u001b[0m in \u001b[0;36m__init__\u001b[0;34m(self, x, y, sample_weights, sample_weight_modes, batch_size, epochs, steps, shuffle, **kwargs)\u001b[0m\n\u001b[1;32m    238\u001b[0m     \u001b[0minputs\u001b[0m \u001b[0;34m=\u001b[0m \u001b[0mpack_x_y_sample_weight\u001b[0m\u001b[0;34m(\u001b[0m\u001b[0mx\u001b[0m\u001b[0;34m,\u001b[0m \u001b[0my\u001b[0m\u001b[0;34m,\u001b[0m \u001b[0msample_weights\u001b[0m\u001b[0;34m)\u001b[0m\u001b[0;34m\u001b[0m\u001b[0;34m\u001b[0m\u001b[0m\n\u001b[1;32m    239\u001b[0m \u001b[0;34m\u001b[0m\u001b[0m\n\u001b[0;32m--> 240\u001b[0;31m     \u001b[0mnum_samples\u001b[0m \u001b[0;34m=\u001b[0m \u001b[0mset\u001b[0m\u001b[0;34m(\u001b[0m\u001b[0mint\u001b[0m\u001b[0;34m(\u001b[0m\u001b[0mi\u001b[0m\u001b[0;34m.\u001b[0m\u001b[0mshape\u001b[0m\u001b[0;34m[\u001b[0m\u001b[0;36m0\u001b[0m\u001b[0;34m]\u001b[0m\u001b[0;34m)\u001b[0m \u001b[0;32mfor\u001b[0m \u001b[0mi\u001b[0m \u001b[0;32min\u001b[0m \u001b[0mtf\u001b[0m\u001b[0;34m.\u001b[0m\u001b[0mnest\u001b[0m\u001b[0;34m.\u001b[0m\u001b[0mflatten\u001b[0m\u001b[0;34m(\u001b[0m\u001b[0minputs\u001b[0m\u001b[0;34m)\u001b[0m\u001b[0;34m)\u001b[0m\u001b[0;34m.\u001b[0m\u001b[0mpop\u001b[0m\u001b[0;34m(\u001b[0m\u001b[0;34m)\u001b[0m\u001b[0;34m\u001b[0m\u001b[0;34m\u001b[0m\u001b[0m\n\u001b[0m\u001b[1;32m    241\u001b[0m     \u001b[0m_check_data_cardinality\u001b[0m\u001b[0;34m(\u001b[0m\u001b[0minputs\u001b[0m\u001b[0;34m)\u001b[0m\u001b[0;34m\u001b[0m\u001b[0;34m\u001b[0m\u001b[0m\n\u001b[1;32m    242\u001b[0m \u001b[0;34m\u001b[0m\u001b[0m\n",
            "\u001b[0;32m/usr/local/lib/python3.7/dist-packages/keras/engine/data_adapter.py\u001b[0m in \u001b[0;36m<genexpr>\u001b[0;34m(.0)\u001b[0m\n\u001b[1;32m    238\u001b[0m     \u001b[0minputs\u001b[0m \u001b[0;34m=\u001b[0m \u001b[0mpack_x_y_sample_weight\u001b[0m\u001b[0;34m(\u001b[0m\u001b[0mx\u001b[0m\u001b[0;34m,\u001b[0m \u001b[0my\u001b[0m\u001b[0;34m,\u001b[0m \u001b[0msample_weights\u001b[0m\u001b[0;34m)\u001b[0m\u001b[0;34m\u001b[0m\u001b[0;34m\u001b[0m\u001b[0m\n\u001b[1;32m    239\u001b[0m \u001b[0;34m\u001b[0m\u001b[0m\n\u001b[0;32m--> 240\u001b[0;31m     \u001b[0mnum_samples\u001b[0m \u001b[0;34m=\u001b[0m \u001b[0mset\u001b[0m\u001b[0;34m(\u001b[0m\u001b[0mint\u001b[0m\u001b[0;34m(\u001b[0m\u001b[0mi\u001b[0m\u001b[0;34m.\u001b[0m\u001b[0mshape\u001b[0m\u001b[0;34m[\u001b[0m\u001b[0;36m0\u001b[0m\u001b[0;34m]\u001b[0m\u001b[0;34m)\u001b[0m \u001b[0;32mfor\u001b[0m \u001b[0mi\u001b[0m \u001b[0;32min\u001b[0m \u001b[0mtf\u001b[0m\u001b[0;34m.\u001b[0m\u001b[0mnest\u001b[0m\u001b[0;34m.\u001b[0m\u001b[0mflatten\u001b[0m\u001b[0;34m(\u001b[0m\u001b[0minputs\u001b[0m\u001b[0;34m)\u001b[0m\u001b[0;34m)\u001b[0m\u001b[0;34m.\u001b[0m\u001b[0mpop\u001b[0m\u001b[0;34m(\u001b[0m\u001b[0;34m)\u001b[0m\u001b[0;34m\u001b[0m\u001b[0;34m\u001b[0m\u001b[0m\n\u001b[0m\u001b[1;32m    241\u001b[0m     \u001b[0m_check_data_cardinality\u001b[0m\u001b[0;34m(\u001b[0m\u001b[0minputs\u001b[0m\u001b[0;34m)\u001b[0m\u001b[0;34m\u001b[0m\u001b[0;34m\u001b[0m\u001b[0m\n\u001b[1;32m    242\u001b[0m \u001b[0;34m\u001b[0m\u001b[0m\n",
            "\u001b[0;31mTypeError\u001b[0m: int() argument must be a string, a bytes-like object or a number, not 'NoneType'"
          ]
        }
      ]
    },
    {
      "cell_type": "code",
      "metadata": {
        "id": "u6LuD74CQ7Ov"
      },
      "source": [
        "# 1. 데이터 불러오기\n",
        "# 2. 데이터 확인하기\n",
        "# 3. x,y 나누기\n",
        "# 4. 전체 데이터에서 학습데이터와 테스터데이터(0.2) 구분\n",
        "# 5. 딥러닝 설계  ---> kernel_initializer = tf.keras.initializers.he_normal(), tf.keras.initializers.glorot_uniform()\n",
        "# 6. model.complie\n",
        "# 7. model.fit\n",
        "# 8. 그래프 결과 확인\n",
        "# 9. test 정확도 확인"
      ],
      "execution_count": null,
      "outputs": []
    },
    {
      "cell_type": "markdown",
      "metadata": {
        "id": "IWxwyzXToRcz"
      },
      "source": [
        "### NN_MNIST"
      ]
    },
    {
      "cell_type": "code",
      "metadata": {
        "id": "hDPiillRn65V"
      },
      "source": [
        "import tensorflow as tf\n",
        "import matplotlib.pyplot as plt\n",
        "import numpy\n",
        "import os"
      ],
      "execution_count": null,
      "outputs": []
    },
    {
      "cell_type": "code",
      "metadata": {
        "colab": {
          "base_uri": "https://localhost:8080/"
        },
        "id": "ZmYR2DYQoW6s",
        "outputId": "b8d0baa2-5eb8-4594-95b9-3d830a24b0ef"
      },
      "source": [
        "(x_train, y_train), (x_test, y_test) = tf.keras.datasets.mnist.load_data()"
      ],
      "execution_count": null,
      "outputs": [
        {
          "output_type": "stream",
          "name": "stdout",
          "text": [
            "Downloading data from https://storage.googleapis.com/tensorflow/tf-keras-datasets/mnist.npz\n",
            "11493376/11490434 [==============================] - 0s 0us/step\n",
            "11501568/11490434 [==============================] - 0s 0us/step\n"
          ]
        }
      ]
    },
    {
      "cell_type": "code",
      "metadata": {
        "colab": {
          "base_uri": "https://localhost:8080/"
        },
        "id": "8z88iv-Jocrk",
        "outputId": "cba01fa4-5345-4910-fd93-fde512d5f070"
      },
      "source": [
        "print(len(x_train))"
      ],
      "execution_count": null,
      "outputs": [
        {
          "output_type": "stream",
          "name": "stdout",
          "text": [
            "60000\n"
          ]
        }
      ]
    },
    {
      "cell_type": "code",
      "metadata": {
        "colab": {
          "base_uri": "https://localhost:8080/"
        },
        "id": "8CRE6ffRozaE",
        "outputId": "7fb17d3e-29e8-455d-effc-995c24409d36"
      },
      "source": [
        "print(len(x_train))\n",
        "print(len(y_train))\n",
        "print(x_train.shape)\n",
        "print(y_train.shape)"
      ],
      "execution_count": null,
      "outputs": [
        {
          "output_type": "stream",
          "name": "stdout",
          "text": [
            "60000\n",
            "60000\n",
            "(60000, 28, 28)\n",
            "(60000,)\n"
          ]
        }
      ]
    },
    {
      "cell_type": "code",
      "metadata": {
        "colab": {
          "base_uri": "https://localhost:8080/",
          "height": 283
        },
        "id": "SLZ3Inx-pGFd",
        "outputId": "39693161-8fcb-429d-c518-b65ea5806453"
      },
      "source": [
        "plt.imshow(x_train[500], cmap=plt.cm.binary)"
      ],
      "execution_count": null,
      "outputs": [
        {
          "output_type": "execute_result",
          "data": {
            "text/plain": [
              "<matplotlib.image.AxesImage at 0x7fd92cc00750>"
            ]
          },
          "metadata": {},
          "execution_count": 34
        },
        {
          "output_type": "display_data",
          "data": {
            "image/png": "[encoded data removed]",
            "text/plain": [
              "<Figure size 432x288 with 1 Axes>"
            ]
          },
          "metadata": {
            "needs_background": "light"
          }
        }
      ]
    },
    {
      "cell_type": "code",
      "metadata": {
        "colab": {
          "base_uri": "https://localhost:8080/"
        },
        "id": "BO5-Aad_ptFV",
        "outputId": "41542676-0ca2-4317-c72a-8139bd10a2eb"
      },
      "source": [
        "print(y_train[500])"
      ],
      "execution_count": null,
      "outputs": [
        {
          "output_type": "stream",
          "name": "stdout",
          "text": [
            "3\n"
          ]
        }
      ]
    },
    {
      "cell_type": "code",
      "metadata": {
        "colab": {
          "base_uri": "https://localhost:8080/",
          "height": 283
        },
        "id": "dWVQ_QVep3d1",
        "outputId": "304faeda-f1f7-4e33-8763-0688b876f0e4"
      },
      "source": [
        "# index에 0에서 59999사이의 숫자를 지정해보세요.\n",
        "index = 387\n",
        "plt.imshow(x_train[index], cmap=plt.cm.binary)\n",
        "plt.show()\n",
        "print((index+1), \"번째 이미지의 숫자는 바로 \", y_train[index],'입니다.')"
      ],
      "execution_count": null,
      "outputs": [
        {
          "output_type": "display_data",
          "data": {
            "image/png": "[encoded data removed]",
            "text/plain": [
              "<Figure size 432x288 with 1 Axes>"
            ]
          },
          "metadata": {
            "needs_background": "light"
          }
        },
        {
          "output_type": "stream",
          "name": "stdout",
          "text": [
            "388 번째 이미지의 숫자는 바로  7 입니다.\n"
          ]
        }
      ]
    },
    {
      "cell_type": "code",
      "metadata": {
        "colab": {
          "base_uri": "https://localhost:8080/"
        },
        "id": "nPZYS20HqM4E",
        "outputId": "66296184-ee09-49e5-da70-02ddbf12e55e"
      },
      "source": [
        "print(x_train.shape)\n",
        "print(x_test.shape)\n",
        "print(y_train.shape)\n",
        "print(y_test.shape)"
      ],
      "execution_count": null,
      "outputs": [
        {
          "output_type": "stream",
          "name": "stdout",
          "text": [
            "(60000, 28, 28)\n",
            "(10000, 28, 28)\n",
            "(60000,)\n",
            "(10000,)\n"
          ]
        }
      ]
    },
    {
      "cell_type": "code",
      "metadata": {
        "colab": {
          "base_uri": "https://localhost:8080/"
        },
        "id": "dPnOpmZ9q4cd",
        "outputId": "455e5266-1be1-4c52-c7e6-65b396dbbdc9"
      },
      "source": [
        "import numpy as np\n",
        "print('최소값:', np.min(x_train), '최대값:', np.max(x_train))"
      ],
      "execution_count": null,
      "outputs": [
        {
          "output_type": "stream",
          "name": "stdout",
          "text": [
            "최소값: 0 최대값: 255\n"
          ]
        }
      ]
    },
    {
      "cell_type": "code",
      "metadata": {
        "colab": {
          "base_uri": "https://localhost:8080/"
        },
        "id": "lKnoWIP6rJDV",
        "outputId": "bd3a6d29-8479-4004-c887-a1bda76fb9fd"
      },
      "source": [
        "# 정규화\n",
        "x_train_norm = x_train / 255.0\n",
        "x_test_norm = x_test / 255.0\n",
        "print('최소값:', np.min(x_train_norm), '최대값:', np.max(x_test_norm))"
      ],
      "execution_count": null,
      "outputs": [
        {
          "output_type": "stream",
          "name": "stdout",
          "text": [
            "최소값: 0.0 최대값: 1.0\n"
          ]
        }
      ]
    },
    {
      "cell_type": "code",
      "metadata": {
        "colab": {
          "base_uri": "https://localhost:8080/"
        },
        "id": "heB5AGAUxkgF",
        "outputId": "bfb13847-9790-4559-a1d8-8fadcfd1850b"
      },
      "source": [
        "x_train_norm.shape"
      ],
      "execution_count": null,
      "outputs": [
        {
          "output_type": "execute_result",
          "data": {
            "text/plain": [
              "(60000, 28, 28)"
            ]
          },
          "metadata": {},
          "execution_count": 62
        }
      ]
    },
    {
      "cell_type": "code",
      "metadata": {
        "id": "5W1zEW4groi0"
      },
      "source": [
        "# reshape 28 * 28 --> 784,1변환\n",
        "x_train = x_train_norm.reshape(x_train.shape[0], 784).astype('float32')\n",
        "x_test = x_test_norm.reshape(x_test.shape[0], 784).astype('float32')\n",
        "\n",
        "y_train = tf.keras.utils.to_categorical(y_train, 10)\n",
        "y_test = tf.keras.utils.to_categorical(y_test, 10)"
      ],
      "execution_count": null,
      "outputs": []
    },
    {
      "cell_type": "code",
      "metadata": {
        "colab": {
          "base_uri": "https://localhost:8080/"
        },
        "id": "xemKIDDAsiEl",
        "outputId": "e078177d-ddf2-4190-97e2-f344f49d0670"
      },
      "source": [
        "print(y_train[0])"
      ],
      "execution_count": null,
      "outputs": [
        {
          "output_type": "stream",
          "name": "stdout",
          "text": [
            "[0. 0. 0. 0. 0. 1. 0. 0. 0. 0.]\n"
          ]
        }
      ]
    },
    {
      "cell_type": "code",
      "metadata": {
        "colab": {
          "base_uri": "https://localhost:8080/"
        },
        "id": "NqPFo-TTsoB8",
        "outputId": "fe7d55a2-491e-49bd-98df-174794ced8c0"
      },
      "source": [
        "from tensorflow import keras\n",
        "model = keras.models.Sequential()\n",
        "model.add(keras.layers.Dense(16, activation='relu', input_shape=(784,))\n",
        "model.add(keras.layers.Dense(32, activation='relu'))\n",
        "model.add(keras.layers.Dense(10, activation='softmax'))\n",
        "\n",
        "model.summary()"
      ],
      "execution_count": null,
      "outputs": [
        {
          "output_type": "stream",
          "name": "stdout",
          "text": [
            "Model: \"sequential_1\"\n",
            "_________________________________________________________________\n",
            "Layer (type)                 Output Shape              Param #   \n",
            "=================================================================\n",
            "dense_18 (Dense)             (None, 512)               401920    \n",
            "_________________________________________________________________\n",
            "dense_19 (Dense)             (None, 256)               131328    \n",
            "_________________________________________________________________\n",
            "dense_20 (Dense)             (None, 10)                2570      \n",
            "=================================================================\n",
            "Total params: 535,818\n",
            "Trainable params: 535,818\n",
            "Non-trainable params: 0\n",
            "_________________________________________________________________\n"
          ]
        }
      ]
    },
    {
      "cell_type": "code",
      "metadata": {
        "colab": {
          "base_uri": "https://localhost:8080/"
        },
        "id": "5qBe21crtr-8",
        "outputId": "a8880179-53df-4f04-decc-6f753c2169ad"
      },
      "source": [
        "print(len(model.layers))"
      ],
      "execution_count": null,
      "outputs": [
        {
          "output_type": "stream",
          "name": "stdout",
          "text": [
            "3\n"
          ]
        }
      ]
    },
    {
      "cell_type": "code",
      "metadata": {
        "colab": {
          "base_uri": "https://localhost:8080/"
        },
        "id": "rf852PPatMtl",
        "outputId": "64fabc9a-3ef9-4e6d-cf3a-e74d446cd7d1"
      },
      "source": [
        "model.compile(optimizer='adam',\n",
        "              loss = 'categorical_crossentropy',\n",
        "              metrics = ['accuracy'])\n",
        "\n",
        "history = model.fit(x_train, y_train, validation_split=0.1, epochs=10, batch_size=200, verbose=1)"
      ],
      "execution_count": null,
      "outputs": [
        {
          "output_type": "stream",
          "name": "stdout",
          "text": [
            "Epoch 1/10\n",
            "270/270 [==============================] - 4s 14ms/step - loss: 0.2709 - accuracy: 0.9231 - val_loss: 0.1069 - val_accuracy: 0.9693\n",
            "Epoch 2/10\n",
            "270/270 [==============================] - 4s 13ms/step - loss: 0.0953 - accuracy: 0.9723 - val_loss: 0.0795 - val_accuracy: 0.9767\n",
            "Epoch 3/10\n",
            "270/270 [==============================] - 4s 13ms/step - loss: 0.0607 - accuracy: 0.9815 - val_loss: 0.0672 - val_accuracy: 0.9793\n",
            "Epoch 4/10\n",
            "270/270 [==============================] - 4s 13ms/step - loss: 0.0407 - accuracy: 0.9876 - val_loss: 0.0782 - val_accuracy: 0.9792\n",
            "Epoch 5/10\n",
            "270/270 [==============================] - 4s 13ms/step - loss: 0.0293 - accuracy: 0.9911 - val_loss: 0.0700 - val_accuracy: 0.9810\n",
            "Epoch 6/10\n",
            "270/270 [==============================] - 4s 13ms/step - loss: 0.0207 - accuracy: 0.9941 - val_loss: 0.0647 - val_accuracy: 0.9813\n",
            "Epoch 7/10\n",
            "270/270 [==============================] - 4s 13ms/step - loss: 0.0167 - accuracy: 0.9947 - val_loss: 0.0749 - val_accuracy: 0.9793\n",
            "Epoch 8/10\n",
            "270/270 [==============================] - 4s 13ms/step - loss: 0.0145 - accuracy: 0.9950 - val_loss: 0.0802 - val_accuracy: 0.9805\n",
            "Epoch 9/10\n",
            "270/270 [==============================] - 4s 13ms/step - loss: 0.0125 - accuracy: 0.9958 - val_loss: 0.0761 - val_accuracy: 0.9828\n",
            "Epoch 10/10\n",
            "270/270 [==============================] - 4s 13ms/step - loss: 0.0117 - accuracy: 0.9962 - val_loss: 0.0709 - val_accuracy: 0.9840\n"
          ]
        }
      ]
    },
    {
      "cell_type": "code",
      "metadata": {
        "colab": {
          "base_uri": "https://localhost:8080/"
        },
        "id": "__CKyYREusHb",
        "outputId": "7e0090ff-a1e1-4e08-f725-1817f7d07786"
      },
      "source": [
        "test_loss, test_accuracy = model.evaluate(x_test, y_test, verbose=2)\n",
        "print('test loss : {}'.format(test_loss))\n",
        "print('test_accuracy: {}'.format(test_accuracy))"
      ],
      "execution_count": null,
      "outputs": [
        {
          "output_type": "stream",
          "name": "stdout",
          "text": [
            "313/313 - 1s - loss: 0.0729 - accuracy: 0.9809\n",
            "test loss : 0.072850301861763\n",
            "test_accuracy: 0.98089998960495\n"
          ]
        }
      ]
    },
    {
      "cell_type": "code",
      "metadata": {
        "id": "XwXr-sAmvd6E"
      },
      "source": [
        "# 예측\n",
        "\n",
        "predicted_result = model.predict(x_test)\n",
        "predicted_labels = np.argmax(predicted_result,axis=1)"
      ],
      "execution_count": null,
      "outputs": []
    },
    {
      "cell_type": "code",
      "metadata": {
        "colab": {
          "base_uri": "https://localhost:8080/"
        },
        "id": "D6emiRxAvsC1",
        "outputId": "b3ce94cc-16ea-4494-f586-06c00d6657b7"
      },
      "source": [
        "idx = 0\n",
        "print('model.predict() 결과 :',predicted_result[idx])\n",
        "print('model이 추론한 가장 가능성이 높은 결과 : ',predicted_labels[idx])\n",
        "print('실제 데이터의 라벨 :',y_test[idx])"
      ],
      "execution_count": null,
      "outputs": [
        {
          "output_type": "stream",
          "name": "stdout",
          "text": [
            "model.predict() 결과 : [2.3273811e-10 1.5531204e-09 1.7318918e-08 2.4015078e-06 9.0095046e-14\n",
            " 1.0273348e-10 1.7007154e-15 9.9999738e-01 7.3393569e-11 2.2356235e-07]\n",
            "model이 추론한 가장 가능성이 높은 결과 :  7\n",
            "실제 데이터의 라벨 : [0. 0. 0. 0. 0. 0. 0. 1. 0. 0.]\n"
          ]
        }
      ]
    },
    {
      "cell_type": "code",
      "metadata": {
        "id": "1vol5X-kwwF0"
      },
      "source": [
        "x_test.shape"
      ],
      "execution_count": null,
      "outputs": []
    },
    {
      "cell_type": "code",
      "metadata": {
        "id": "mANykq4lwmzk"
      },
      "source": [
        "x_test_result = x_test.reshape(x_test.shape[0], 28, 28)"
      ],
      "execution_count": null,
      "outputs": []
    },
    {
      "cell_type": "code",
      "metadata": {
        "colab": {
          "base_uri": "https://localhost:8080/"
        },
        "id": "qeHfzXYTw1mM",
        "outputId": "2b79e347-5ab3-4feb-d71a-534156e9d9a5"
      },
      "source": [
        "x_test_result.shape"
      ],
      "execution_count": null,
      "outputs": [
        {
          "output_type": "execute_result",
          "data": {
            "text/plain": [
              "(10000, 28, 28)"
            ]
          },
          "metadata": {},
          "execution_count": 59
        }
      ]
    },
    {
      "cell_type": "code",
      "metadata": {
        "colab": {
          "base_uri": "https://localhost:8080/",
          "height": 265
        },
        "id": "GHUVIbP1wK7F",
        "outputId": "fe8debdf-b31d-43ca-cc39-7ea25a26257f"
      },
      "source": [
        "plt.imshow(x_test_result[idx], cmap=plt.cm.binary)\n",
        "plt.show()"
      ],
      "execution_count": null,
      "outputs": [
        {
          "output_type": "display_data",
          "data": {
            "image/png": "[encoded data removed]",
            "text/plain": [
              "<Figure size 432x288 with 1 Axes>"
            ]
          },
          "metadata": {
            "needs_background": "light"
          }
        }
      ]
    },
    {
      "cell_type": "code",
      "metadata": {
        "colab": {
          "base_uri": "https://localhost:8080/",
          "height": 279
        },
        "id": "InOV4TL0wjsU",
        "outputId": "13578117-dfd4-4fd0-f371-8075510c3a4c"
      },
      "source": [
        "\n",
        "# 테스트 셋의 오차\n",
        "y_vloss = history.history['val_loss']\n",
        "\n",
        "# 학습셋의 오차\n",
        "y_loss = history.history['loss']\n",
        "\n",
        "# 그래프로 표현\n",
        "x_len = numpy.arange(len(y_loss))\n",
        "plt.plot(x_len, y_vloss, marker='.', c=\"red\", label='Testset_loss')\n",
        "plt.plot(x_len, y_loss, marker='.', c=\"blue\", label='Trainset_loss')\n",
        "\n",
        "# 그래프에 그리드를 주고 레이블을 표시\n",
        "plt.legend(loc='upper right')\n",
        "# plt.axis([0, 20, 0, 0.35])\n",
        "plt.grid()\n",
        "plt.xlabel('epoch')\n",
        "plt.ylabel('loss')\n",
        "plt.show()"
      ],
      "execution_count": null,
      "outputs": [
        {
          "output_type": "display_data",
          "data": {
            "image/png": "[encoded data removed]",
            "text/plain": [
              "<Figure size 432x288 with 1 Axes>"
            ]
          },
          "metadata": {
            "needs_background": "light"
          }
        }
      ]
    },
    {
      "cell_type": "code",
      "metadata": {
        "id": "EGmy6NwLxA_7"
      },
      "source": [
        "import tensorflow as tf\n",
        "import matplotlib.pyplot as plt\n",
        "import numpy as np\n",
        "import cv2"
      ],
      "execution_count": 1,
      "outputs": []
    },
    {
      "cell_type": "code",
      "metadata": {
        "id": "VJu7yuqaZHL6"
      },
      "source": [
        "# MNIST 데이터 불러오기\n",
        "(X_train, Y_train), (X_test, Y_test) = tf.keras.datasets.mnist.load_data()\n",
        "\n",
        "## TEST할 이미지 선택\n",
        "test_image = X_test[290]\n",
        "\n",
        "## NN 이미로 이차원으로 데이터를 넣어주어야 해서 1x784 형태로 reshape\n",
        "test_image_reshape = test_image.reshape(1, 784).astype('float64')"
      ],
      "execution_count": 23,
      "outputs": []
    },
    {
      "cell_type": "code",
      "metadata": {
        "colab": {
          "base_uri": "https://localhost:8080/"
        },
        "id": "B7FiN1uxZnRS",
        "outputId": "52a3699b-fb57-486e-8460-4cbd48f89255"
      },
      "source": [
        "## 모델 불러오기\n",
        "input_Layer = tf.keras.layers.Input(shape = (784,))\n",
        "x = tf.keras.layers.Dense(256, activation='relu')(input_Layer)\n",
        "x = tf.keras.layers.Dense(512, activation='relu')(x)\n",
        "out_Layer = tf.keras.layers.Dense(10, activation='softmax')(x)\n",
        "\n",
        "model = tf.keras.Model(inputs=[input_Layer], outputs = [out_Layer])\n",
        "model.summary()"
      ],
      "execution_count": 50,
      "outputs": [
        {
          "output_type": "stream",
          "name": "stdout",
          "text": [
            "Model: \"model_2\"\n",
            "_________________________________________________________________\n",
            "Layer (type)                 Output Shape              Param #   \n",
            "=================================================================\n",
            "input_3 (InputLayer)         [(None, 784)]             0         \n",
            "_________________________________________________________________\n",
            "dense_4 (Dense)              (None, 256)               200960    \n",
            "_________________________________________________________________\n",
            "dense_5 (Dense)              (None, 512)               131584    \n",
            "_________________________________________________________________\n",
            "dense_6 (Dense)              (None, 10)                5130      \n",
            "=================================================================\n",
            "Total params: 337,674\n",
            "Trainable params: 337,674\n",
            "Non-trainable params: 0\n",
            "_________________________________________________________________\n"
          ]
        }
      ]
    },
    {
      "cell_type": "code",
      "metadata": {
        "colab": {
          "base_uri": "https://localhost:8080/"
        },
        "id": "wQwNAq47Zx6T",
        "outputId": "89362277-8f62-4a31-92c2-534ff2be06b4"
      },
      "source": [
        "loss = tf.keras.losses.categorical_crossentropy\n",
        "optimizer = tf.keras.optimizers.Adam(lr = 0.001)\n",
        "\n",
        "model.compile(loss=loss, optimizer=optimizer, metrics=['accuracy'])"
      ],
      "execution_count": 51,
      "outputs": [
        {
          "output_type": "stream",
          "name": "stderr",
          "text": [
            "/usr/local/lib/python3.7/dist-packages/keras/optimizer_v2/optimizer_v2.py:356: UserWarning: The `lr` argument is deprecated, use `learning_rate` instead.\n",
            "  \"The `lr` argument is deprecated, use `learning_rate` instead.\")\n"
          ]
        }
      ]
    },
    {
      "cell_type": "code",
      "metadata": {
        "id": "0ZtBAyutbc2a"
      },
      "source": [
        "# 불러온 모델로 값 예측하기.\n",
        "Y_prediction = model.predict(test_image_reshape)"
      ],
      "execution_count": 52,
      "outputs": []
    },
    {
      "cell_type": "code",
      "metadata": {
        "colab": {
          "base_uri": "https://localhost:8080/",
          "height": 279
        },
        "id": "kBDO6LZ9bqDa",
        "outputId": "8303fe60-6e9d-4e19-b01d-15c0e5da5aaf"
      },
      "source": [
        "index=np.argmax(Y_prediction)\n",
        "vlaue=Y_prediction[:, index]\n",
        "plt.imshow(test_image, cmap='Greys')\n",
        "plt.xlabel(str(index)+\"    \" +str(vlaue))\n",
        "plt.show()"
      ],
      "execution_count": 60,
      "outputs": [
        {
          "output_type": "display_data",
          "data": {
            "image/png": "[encoded data removed]",
            "text/plain": [
              "<Figure size 432x288 with 1 Axes>"
            ]
          },
          "metadata": {
            "needs_background": "light"
          }
        }
      ]
    },
    {
      "cell_type": "code",
      "metadata": {
        "id": "_SbpXfxbcVXV"
      },
      "source": [
        "# MNIST 데이터 불러오기\n",
        "(X_train, Y_train), (X_test, Y_test) = tf.keras.datasets.mnist.load_data()"
      ],
      "execution_count": 25,
      "outputs": []
    },
    {
      "cell_type": "code",
      "metadata": {
        "id": "f4l9Dx9zduoq"
      },
      "source": [
        "## 이미지 회전 시키기.\n",
        "M= cv2.getRotationMatrix2D((28/2, 28/2),90,1) # 매트릭스 생성\n",
        "test_image = cv2.warpAffine(X_train[240], M, (28, 28))"
      ],
      "execution_count": 61,
      "outputs": []
    },
    {
      "cell_type": "code",
      "metadata": {
        "id": "YMeU_IqReF6m"
      },
      "source": [
        "test_image_reshape =test_image.reshape(1, 784).astype('float64')"
      ],
      "execution_count": 62,
      "outputs": []
    },
    {
      "cell_type": "code",
      "metadata": {
        "colab": {
          "base_uri": "https://localhost:8080/"
        },
        "id": "bwGGfaNNeTfs",
        "outputId": "2dca6445-56e5-4805-8a95-31810c796360"
      },
      "source": [
        "Y_prediction = model.predict(test_image_reshape)\n",
        "print(Y_prediction)"
      ],
      "execution_count": 65,
      "outputs": [
        {
          "output_type": "stream",
          "name": "stdout",
          "text": [
            "[[0.0000000e+00 3.6700293e-01 0.0000000e+00 0.0000000e+00 6.3183033e-01\n",
            "  2.4353878e-13 1.7438046e-11 1.1666649e-03 2.9383154e-10 0.0000000e+00]]\n"
          ]
        }
      ]
    },
    {
      "cell_type": "code",
      "metadata": {
        "colab": {
          "base_uri": "https://localhost:8080/",
          "height": 279
        },
        "id": "c3DVR6nwedDF",
        "outputId": "d42ca303-b730-47e8-c8b1-d69ed08c7997"
      },
      "source": [
        "index=np.argmax(Y_prediction)\n",
        "value=Y_prediction[:, index]\n",
        "plt.imshow(test_image, cmap='Greys')\n",
        "plt.xlabel(str(index)+\"    \" +str(value))\n",
        "plt.show()"
      ],
      "execution_count": 64,
      "outputs": [
        {
          "output_type": "display_data",
          "data": {
            "image/png": "[encoded data removed]",
            "text/plain": [
              "<Figure size 432x288 with 1 Axes>"
            ]
          },
          "metadata": {
            "needs_background": "light"
          }
        }
      ]
    }
  ]
}