{
  "nbformat": 4,
  "nbformat_minor": 0,
  "metadata": {
    "colab": {
      "name": "11-01.ipynb",
      "provenance": []
    },
    "kernelspec": {
      "name": "python3",
      "display_name": "Python 3"
    },
    "language_info": {
      "name": "python"
    }
  },
  "cells": [
    {
      "cell_type": "code",
      "metadata": {
        "id": "HPVBD9L5Dcrs"
      },
      "source": [
        "import numpy as np \n",
        "import matplotlib.pyplot as plt\n",
        "import tensorflow as tf \n",
        "from tensorflow import keras\n",
        "from tensorflow.keras.datasets import cifar10\n",
        "\n",
        "(x_train, y_train), (x_test, y_test) = cifar10.load_data()"
      ],
      "execution_count": 11,
      "outputs": []
    },
    {
      "cell_type": "code",
      "metadata": {
        "colab": {
          "base_uri": "https://localhost:8080/"
        },
        "id": "-QI78Gq2Dqvh",
        "outputId": "a85d3199-1d0b-4d51-eead-bf30e4d3c50a"
      },
      "source": [
        "# shape확인\n",
        "print(x_train.shape)\n",
        "print(y_train.shape)\n",
        "print(x_test.shape)\n",
        "print(y_test.shape)"
      ],
      "execution_count": 2,
      "outputs": [
        {
          "output_type": "stream",
          "name": "stdout",
          "text": [
            "(50000, 32, 32, 3)\n",
            "(50000, 1)\n",
            "(10000, 32, 32, 3)\n",
            "(10000, 1)\n"
          ]
        }
      ]
    },
    {
      "cell_type": "code",
      "metadata": {
        "colab": {
          "base_uri": "https://localhost:8080/",
          "height": 291
        },
        "id": "KjznzgDQDxyq",
        "outputId": "c5ce0b95-bc0b-41a4-9833-df6e1ad0761b"
      },
      "source": [
        "# 이미지 확인\n",
        "plt.figure(figsize=(20, 20))\n",
        "for i, img in enumerate(x_train[:4]):\n",
        "    plt.subplot(1, 4, i+1)\n",
        "    plt.imshow(x_train[i])\n",
        "plt.show()"
      ],
      "execution_count": 3,
      "outputs": [
        {
          "output_type": "display_data",
          "data": {
            "image/png": "[encoded data removed]",
            "text/plain": [
              "<Figure size 1440x1440 with 4 Axes>"
            ]
          },
          "metadata": {
            "needs_background": "light"
          }
        }
      ]
    },
    {
      "cell_type": "code",
      "metadata": {
        "colab": {
          "base_uri": "https://localhost:8080/"
        },
        "id": "tdZ5r73ND5R6",
        "outputId": "35142068-6845-46f0-bf28-a10b50d7612b"
      },
      "source": [
        "# train, test label 확인\n",
        "y_train = keras.utils.to_categorical(y_train)\n",
        "print(y_train[:4])\n",
        "print(np.shape(y_train))\n",
        "y_test = keras.utils.to_categorical(y_test)"
      ],
      "execution_count": 12,
      "outputs": [
        {
          "output_type": "stream",
          "name": "stdout",
          "text": [
            "[[0. 0. 0. 0. 0. 0. 1. 0. 0. 0.]\n",
            " [0. 0. 0. 0. 0. 0. 0. 0. 0. 1.]\n",
            " [0. 0. 0. 0. 0. 0. 0. 0. 0. 1.]\n",
            " [0. 0. 0. 0. 1. 0. 0. 0. 0. 0.]]\n",
            "(50000, 10)\n"
          ]
        }
      ]
    },
    {
      "cell_type": "code",
      "metadata": {
        "id": "eUWT9GR5EAI3"
      },
      "source": [
        "# train, test 정규화\n",
        "x_train = x_train /255.0\n",
        "x_test = x_test / 255.0\n"
      ],
      "execution_count": 13,
      "outputs": []
    },
    {
      "cell_type": "code",
      "metadata": {
        "id": "th0D6f-VE9Yo"
      },
      "source": [
        "# CNN model 구현\n",
        "model = keras.Sequential([\n",
        "    keras.layers.Conv2D(16, 3, kernel_initializer=\"he_normal\", activation='relu', padding=\"same\", input_shape=(32, 32, 3)),\n",
        "    keras.layers.MaxPooling2D(),\n",
        "    keras.layers.Conv2D(32, 3, kernel_initializer=\"he_normal\", activation='relu', padding='same'),\n",
        "    keras.layers.MaxPooling2D(),\n",
        "    keras.layers.Flatten(),\n",
        "    keras.layers.Dense(32, kernel_initializer=\"he_normal\", activation='relu'),\n",
        "    keras.layers.Dense(10, activation=\"softmax\")\n",
        "])"
      ],
      "execution_count": 14,
      "outputs": []
    },
    {
      "cell_type": "code",
      "metadata": {
        "colab": {
          "base_uri": "https://localhost:8080/"
        },
        "id": "qo64R_MmFSj6",
        "outputId": "b1f23b17-f936-4c26-c743-15dbc305ef78"
      },
      "source": [
        "# model 요약 출력\n",
        "model.summary()"
      ],
      "execution_count": 15,
      "outputs": [
        {
          "output_type": "stream",
          "name": "stdout",
          "text": [
            "Model: \"sequential\"\n",
            "_________________________________________________________________\n",
            "Layer (type)                 Output Shape              Param #   \n",
            "=================================================================\n",
            "conv2d (Conv2D)              (None, 32, 32, 16)        448       \n",
            "_________________________________________________________________\n",
            "max_pooling2d (MaxPooling2D) (None, 16, 16, 16)        0         \n",
            "_________________________________________________________________\n",
            "conv2d_1 (Conv2D)            (None, 16, 16, 32)        4640      \n",
            "_________________________________________________________________\n",
            "max_pooling2d_1 (MaxPooling2 (None, 8, 8, 32)          0         \n",
            "_________________________________________________________________\n",
            "flatten (Flatten)            (None, 2048)              0         \n",
            "_________________________________________________________________\n",
            "dense (Dense)                (None, 32)                65568     \n",
            "_________________________________________________________________\n",
            "dense_1 (Dense)              (None, 10)                330       \n",
            "=================================================================\n",
            "Total params: 70,986\n",
            "Trainable params: 70,986\n",
            "Non-trainable params: 0\n",
            "_________________________________________________________________\n"
          ]
        }
      ]
    },
    {
      "cell_type": "code",
      "metadata": {
        "id": "dEahSeSNFTZw"
      },
      "source": [
        "# 모델 optimizer, loss, metrics 컴파일\n",
        "model.compile(\n",
        "    optimizer = \"adam\",\n",
        "    loss = \"categorical_crossentropy\",\n",
        "    metrics=[\"accuracy\"]\n",
        ")"
      ],
      "execution_count": 16,
      "outputs": []
    },
    {
      "cell_type": "code",
      "metadata": {
        "colab": {
          "base_uri": "https://localhost:8080/"
        },
        "id": "R11YH-2zFWqe",
        "outputId": "f4677fad-4bbe-468f-b375-a96eeb4d60e5"
      },
      "source": [
        "# model 훈련 시키면서 결과를 hist에 저장\n",
        "hist = model.fit(x_train, y_train, batch_size=100, epochs=10, validation_split=0.2, shuffle=True)"
      ],
      "execution_count": 17,
      "outputs": [
        {
          "output_type": "stream",
          "name": "stdout",
          "text": [
            "Epoch 1/10\n",
            "400/400 [==============================] - 35s 85ms/step - loss: 1.7575 - accuracy: 0.3641 - val_loss: 1.4186 - val_accuracy: 0.4920\n",
            "Epoch 2/10\n",
            "400/400 [==============================] - 34s 86ms/step - loss: 1.3288 - accuracy: 0.5280 - val_loss: 1.2643 - val_accuracy: 0.5476\n",
            "Epoch 3/10\n",
            "400/400 [==============================] - 34s 86ms/step - loss: 1.2010 - accuracy: 0.5751 - val_loss: 1.2102 - val_accuracy: 0.5771\n",
            "Epoch 4/10\n",
            "400/400 [==============================] - 34s 86ms/step - loss: 1.1159 - accuracy: 0.6074 - val_loss: 1.1170 - val_accuracy: 0.6100\n",
            "Epoch 5/10\n",
            "400/400 [==============================] - 34s 86ms/step - loss: 1.0649 - accuracy: 0.6271 - val_loss: 1.0807 - val_accuracy: 0.6283\n",
            "Epoch 6/10\n",
            "400/400 [==============================] - 35s 86ms/step - loss: 1.0138 - accuracy: 0.6460 - val_loss: 1.0892 - val_accuracy: 0.6186\n",
            "Epoch 7/10\n",
            "400/400 [==============================] - 35s 87ms/step - loss: 0.9814 - accuracy: 0.6598 - val_loss: 1.0665 - val_accuracy: 0.6311\n",
            "Epoch 8/10\n",
            "400/400 [==============================] - 35s 87ms/step - loss: 0.9500 - accuracy: 0.6700 - val_loss: 1.0356 - val_accuracy: 0.6446\n",
            "Epoch 9/10\n",
            "400/400 [==============================] - 35s 87ms/step - loss: 0.9216 - accuracy: 0.6819 - val_loss: 1.0145 - val_accuracy: 0.6520\n",
            "Epoch 10/10\n",
            "400/400 [==============================] - 35s 87ms/step - loss: 0.8957 - accuracy: 0.6899 - val_loss: 1.0287 - val_accuracy: 0.6514\n"
          ]
        }
      ]
    },
    {
      "cell_type": "code",
      "metadata": {
        "colab": {
          "base_uri": "https://localhost:8080/"
        },
        "id": "hegv6Q-MFiLX",
        "outputId": "edce5377-3cb0-43dd-f06c-b4329804f7c1"
      },
      "source": [
        "# test로 평가하여 loss와 acc 저장\n",
        "loss, acc = model.evaluate(x_test, y_test)"
      ],
      "execution_count": 18,
      "outputs": [
        {
          "output_type": "stream",
          "name": "stdout",
          "text": [
            "313/313 [==============================] - 4s 11ms/step - loss: 1.0289 - accuracy: 0.6520\n"
          ]
        }
      ]
    },
    {
      "cell_type": "code",
      "metadata": {
        "colab": {
          "base_uri": "https://localhost:8080/"
        },
        "id": "wpKmKMYTG4E-",
        "outputId": "d0b8f70e-f175-4a82-fd77-5e33ed1b1070"
      },
      "source": [
        "# 잘 예측 했는지 확인\n",
        "print(model.predict(x_test[101:102]))\n",
        "print(y_test[101])"
      ],
      "execution_count": 26,
      "outputs": [
        {
          "output_type": "stream",
          "name": "stdout",
          "text": [
            "[[1.6639063e-03 3.4858749e-05 7.8970410e-02 3.6823025e-01 1.1910054e-01\n",
            "  3.4502155e-01 4.2831652e-02 3.3929501e-02 9.3276864e-03 8.8954682e-04]]\n",
            "[0. 0. 0. 0. 0. 1. 0. 0. 0. 0.]\n"
          ]
        }
      ]
    },
    {
      "cell_type": "code",
      "metadata": {
        "id": "BjlHFL3TG_n8"
      },
      "source": [
        ""
      ],
      "execution_count": null,
      "outputs": []
    }
  ]
}