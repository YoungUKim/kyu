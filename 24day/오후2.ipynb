{
  "nbformat": 4,
  "nbformat_minor": 0,
  "metadata": {
    "colab": {
      "name": "오후3.ipynb",
      "provenance": []
    },
    "kernelspec": {
      "name": "python3",
      "display_name": "Python 3"
    },
    "language_info": {
      "name": "python"
    }
  },
  "cells": [
    {
      "cell_type": "code",
      "metadata": {
        "id": "RnbcphhF0SET"
      },
      "source": [
        "\n",
        "import tensorflow as tf\n",
        "\n",
        "## data 선언\n",
        "x_data = [[5.], [30.], [95.], [100.], [265.], [270.], [290.], [300.],[365.]]\n",
        "y_data = [[0.], [0.], [0.], [0.], [1.], [1.], [1.], [1.], [1.]]\n",
        "test_data= [[7.]]\n",
        "test_data2= [[80.]]\n",
        "test_data3= [[110.]]\n",
        "test_data4= [[180.]]\n",
        "test_data5= [[320.]]\n"
      ],
      "execution_count": 1,
      "outputs": []
    },
    {
      "cell_type": "code",
      "metadata": {
        "colab": {
          "base_uri": "https://localhost:8080/"
        },
        "id": "EKuQ3alV0TLe",
        "outputId": "32904a73-d4fb-4915-dd74-b13dd3423e78"
      },
      "source": [
        "from tensorflow import keras\n",
        "model = keras.models.Sequential()\n",
        "model.add(keras.layers.Dense(1, input_dim=1, activation='sigmoid'))\n",
        "model.summary() "
      ],
      "execution_count": 4,
      "outputs": [
        {
          "output_type": "stream",
          "name": "stdout",
          "text": [
            "Model: \"sequential_1\"\n",
            "_________________________________________________________________\n",
            "Layer (type)                 Output Shape              Param #   \n",
            "=================================================================\n",
            "dense (Dense)                (None, 1)                 2         \n",
            "=================================================================\n",
            "Total params: 2\n",
            "Trainable params: 2\n",
            "Non-trainable params: 0\n",
            "_________________________________________________________________\n"
          ]
        }
      ]
    },
    {
      "cell_type": "code",
      "metadata": {
        "id": "Nk8yxD8Y0WOn"
      },
      "source": [
        "# 모델 loss, 학습 방법 결정하기\n",
        "optimizer= tf.keras.optimizers.SGD(lr = 0.01)\n",
        "loss= tf.keras.losses.mse\n",
        "metrics= tf.keras.metrics.binary_accuracy\n",
        "\n",
        "# 모델 컴파일하기 - 모델 및 loss 등 구조화한 모델을 컴퓨터가 동작 할수 있도록 변환\n",
        "model.compile(optimizer=optimizer, loss=loss, metrics=[metrics])\n",
        "\n",
        "# 모델 동작하기\n",
        "model.fit(x_data, y_data, epochs=1500, batch_size=2)"
      ],
      "execution_count": null,
      "outputs": []
    },
    {
      "cell_type": "code",
      "metadata": {
        "colab": {
          "base_uri": "https://localhost:8080/"
        },
        "id": "iGe_I8zm4pmK",
        "outputId": "6b17fbcc-90a0-488c-de19-d5e8ddb7cebe"
      },
      "source": [
        "\n",
        "print(\"[7.] 의 예측값\", model.predict(test_data))\n",
        "print(\"[80.] 의 예측값\", model.predict(test_data2))\n",
        "print(\"[110.] 의 예측값\", model.predict(test_data3))\n",
        "print(\"[180.] 의 예측값\", model.predict(test_data4))\n",
        "print(\"[320.] 의 예측값\", model.predict(test_data5))"
      ],
      "execution_count": 6,
      "outputs": [
        {
          "output_type": "stream",
          "name": "stdout",
          "text": [
            "[7.] 의 예측값 [[0.00473869]]\n",
            "[80.] 의 예측값 [[3.1733344e-27]]\n",
            "[110.] 의 예측값 [[3.6820404e-37]]\n",
            "[180.] 의 예측값 [[0.]]\n",
            "[320.] 의 예측값 [[0.]]\n"
          ]
        }
      ]
    }
  ]
}