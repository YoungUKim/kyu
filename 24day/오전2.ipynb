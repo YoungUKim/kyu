{
  "nbformat": 4,
  "nbformat_minor": 0,
  "metadata": {
    "colab": {
      "name": "오전2.ipynb",
      "provenance": []
    },
    "kernelspec": {
      "name": "python3",
      "display_name": "Python 3"
    },
    "language_info": {
      "name": "python"
    }
  },
  "cells": [
    {
      "cell_type": "code",
      "metadata": {
        "colab": {
          "base_uri": "https://localhost:8080/"
        },
        "id": "MDlVnqTpF959",
        "outputId": "169b6c37-7852-4b06-a872-8c8381c1a927"
      },
      "source": [
        "\n",
        "import tensorflow as tf\n",
        "\n",
        "## data 선언\n",
        "x_data = [[2.,0.,7.], [6.,4.,2.], [5.,2.,4.],[8.,4.,1]]\n",
        "y_data = [[75], [95], [91], [97]]\n",
        "test_data=[[5.,5.,5.]]\n",
        "print(len(x_data),len(x_data[1]))  # 행크기 , 열크기\n"
      ],
      "execution_count": 1,
      "outputs": [
        {
          "output_type": "stream",
          "name": "stdout",
          "text": [
            "4 3\n"
          ]
        }
      ]
    },
    {
      "cell_type": "code",
      "metadata": {
        "colab": {
          "base_uri": "https://localhost:8080/"
        },
        "id": "g02HbZ8dF-1j",
        "outputId": "041c4654-68c4-4489-8db2-71a33934f774"
      },
      "source": [
        "from tensorflow import keras\n",
        "model = keras.models.Sequential()\n",
        "model.add(keras.layers.Dense(1, input_dim=3))\n",
        "model.summary()"
      ],
      "execution_count": 5,
      "outputs": [
        {
          "output_type": "stream",
          "name": "stdout",
          "text": [
            "Model: \"sequential_3\"\n",
            "_________________________________________________________________\n",
            "Layer (type)                 Output Shape              Param #   \n",
            "=================================================================\n",
            "dense_3 (Dense)              (None, 1)                 4         \n",
            "=================================================================\n",
            "Total params: 4\n",
            "Trainable params: 4\n",
            "Non-trainable params: 0\n",
            "_________________________________________________________________\n"
          ]
        }
      ]
    },
    {
      "cell_type": "code",
      "metadata": {
        "colab": {
          "base_uri": "https://localhost:8080/"
        },
        "id": "58Whj210GoI-",
        "outputId": "0fd0c541-a2c4-4b77-e1a9-37608b6de49a"
      },
      "source": [
        "optimizer= tf.keras.optimizers.SGD(lr=0.01)\n",
        "loss= tf.keras.losses.mse # mean squre error\n",
        "metrics= tf.keras.metrics.mae #mean absolute error |예측값 - 정답|\n",
        "\n",
        "# 모델 컴파일하기\n",
        "model.compile(loss = loss, optimizer=optimizer, metrics=[metrics])\n",
        "\n",
        "# 모델 동작하기\n",
        "model.fit(x_data, y_data, epochs=20, batch_size=4) # 전체 데이터도 4고 배치 사이즈도 4라 1/1"
      ],
      "execution_count": 6,
      "outputs": [
        {
          "output_type": "stream",
          "name": "stderr",
          "text": [
            "/usr/local/lib/python3.7/dist-packages/keras/optimizer_v2/optimizer_v2.py:356: UserWarning: The `lr` argument is deprecated, use `learning_rate` instead.\n",
            "  \"The `lr` argument is deprecated, use `learning_rate` instead.\")\n"
          ]
        },
        {
          "output_type": "stream",
          "name": "stdout",
          "text": [
            "Epoch 1/20\n",
            "1/1 [==============================] - 0s 433ms/step - loss: 8638.8828 - mean_absolute_error: 92.5616\n",
            "Epoch 2/20\n",
            "1/1 [==============================] - 0s 4ms/step - loss: 81.2379 - mean_absolute_error: 8.2605\n",
            "Epoch 3/20\n",
            "1/1 [==============================] - 0s 4ms/step - loss: 49.1807 - mean_absolute_error: 6.1882\n",
            "Epoch 4/20\n",
            "1/1 [==============================] - 0s 3ms/step - loss: 33.9361 - mean_absolute_error: 5.2796\n",
            "Epoch 5/20\n",
            "1/1 [==============================] - 0s 4ms/step - loss: 24.6483 - mean_absolute_error: 4.5902\n",
            "Epoch 6/20\n",
            "1/1 [==============================] - 0s 4ms/step - loss: 18.9808 - mean_absolute_error: 4.0520\n",
            "Epoch 7/20\n",
            "1/1 [==============================] - 0s 5ms/step - loss: 15.5158 - mean_absolute_error: 3.6312\n",
            "Epoch 8/20\n",
            "1/1 [==============================] - 0s 3ms/step - loss: 13.3907 - mean_absolute_error: 3.3019\n",
            "Epoch 9/20\n",
            "1/1 [==============================] - 0s 3ms/step - loss: 12.0808 - mean_absolute_error: 3.0440\n",
            "Epoch 10/20\n",
            "1/1 [==============================] - 0s 3ms/step - loss: 11.2670 - mean_absolute_error: 2.8418\n",
            "Epoch 11/20\n",
            "1/1 [==============================] - 0s 4ms/step - loss: 10.7550 - mean_absolute_error: 2.7920\n",
            "Epoch 12/20\n",
            "1/1 [==============================] - 0s 3ms/step - loss: 10.4269 - mean_absolute_error: 2.8262\n",
            "Epoch 13/20\n",
            "1/1 [==============================] - 0s 3ms/step - loss: 10.2107 - mean_absolute_error: 2.8518\n",
            "Epoch 14/20\n",
            "1/1 [==============================] - 0s 4ms/step - loss: 10.0626 - mean_absolute_error: 2.8707\n",
            "Epoch 15/20\n",
            "1/1 [==============================] - 0s 4ms/step - loss: 9.9562 - mean_absolute_error: 2.8845\n",
            "Epoch 16/20\n",
            "1/1 [==============================] - 0s 4ms/step - loss: 9.8752 - mean_absolute_error: 2.8941\n",
            "Epoch 17/20\n",
            "1/1 [==============================] - 0s 3ms/step - loss: 9.8098 - mean_absolute_error: 2.9007\n",
            "Epoch 18/20\n",
            "1/1 [==============================] - 0s 4ms/step - loss: 9.7540 - mean_absolute_error: 2.9047\n",
            "Epoch 19/20\n",
            "1/1 [==============================] - 0s 6ms/step - loss: 9.7042 - mean_absolute_error: 2.9069\n",
            "Epoch 20/20\n",
            "1/1 [==============================] - 0s 4ms/step - loss: 9.6581 - mean_absolute_error: 2.9076\n"
          ]
        },
        {
          "output_type": "execute_result",
          "data": {
            "text/plain": [
              "<keras.callbacks.History at 0x7f849c3418d0>"
            ]
          },
          "metadata": {},
          "execution_count": 6
        }
      ]
    },
    {
      "cell_type": "code",
      "metadata": {
        "colab": {
          "base_uri": "https://localhost:8080/"
        },
        "id": "4If7iamtp_lU",
        "outputId": "9ad148fc-8f41-48f4-b94f-392c9b344075"
      },
      "source": [
        "# 결과를 출력\n",
        "\n",
        "print(model.weights)\n",
        "print(\"test data [5., 5., 5.] 예측 값: \", model.predict(test_data))"
      ],
      "execution_count": 8,
      "outputs": [
        {
          "output_type": "stream",
          "name": "stdout",
          "text": [
            "[<tf.Variable 'dense_3/kernel:0' shape=(3, 1) dtype=float32, numpy=\n",
            "array([[8.991463 ],\n",
            "       [4.7597604],\n",
            "       [8.069646 ]], dtype=float32)>, <tf.Variable 'dense_3/bias:0' shape=(1,) dtype=float32, numpy=array([2.0724382], dtype=float32)>]\n",
            "test data [5., 5., 5.] 예측 값:  [[111.17679]]\n"
          ]
        }
      ]
    }
  ]
}