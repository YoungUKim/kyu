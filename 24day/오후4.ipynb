{
  "nbformat": 4,
  "nbformat_minor": 0,
  "metadata": {
    "colab": {
      "name": "오후4.ipynb",
      "provenance": []
    },
    "kernelspec": {
      "name": "python3",
      "display_name": "Python 3"
    },
    "language_info": {
      "name": "python"
    }
  },
  "cells": [
    {
      "cell_type": "code",
      "metadata": {
        "id": "fQoKXZ3wLm02"
      },
      "source": [
        "import pandas as pd\n",
        "import tensorflow as tf\n",
        "import matplotlib.pyplot as plt\n",
        "from tensorflow import keras"
      ],
      "execution_count": 1,
      "outputs": []
    },
    {
      "cell_type": "code",
      "metadata": {
        "colab": {
          "base_uri": "https://localhost:8080/",
          "height": 432
        },
        "id": "bvBkNRNQMO35",
        "outputId": "8d9485be-a741-4f27-cb6e-e0ceb6b8dade"
      },
      "source": [
        "df = pd.read_csv(\"/content/house_price_of_unit_area.csv\")\n",
        "\n",
        "df.info()\n",
        "df.head()"
      ],
      "execution_count": 9,
      "outputs": [
        {
          "output_type": "stream",
          "name": "stdout",
          "text": [
            "<class 'pandas.core.frame.DataFrame'>\n",
            "RangeIndex: 414 entries, 0 to 413\n",
            "Data columns (total 6 columns):\n",
            " #   Column                               Non-Null Count  Dtype  \n",
            "---  ------                               --------------  -----  \n",
            " 0   house age                            414 non-null    float64\n",
            " 1   distance to the nearest MRT station  414 non-null    float64\n",
            " 2   number of convenience stores         414 non-null    int64  \n",
            " 3   latitude                             414 non-null    float64\n",
            " 4   longitude                            414 non-null    float64\n",
            " 5   house price of unit area             414 non-null    float64\n",
            "dtypes: float64(5), int64(1)\n",
            "memory usage: 19.5 KB\n"
          ]
        },
        {
          "output_type": "execute_result",
          "data": {
            "text/html": [
              "<div>\n",
              "<style scoped>\n",
              "    .dataframe tbody tr th:only-of-type {\n",
              "        vertical-align: middle;\n",
              "    }\n",
              "\n",
              "    .dataframe tbody tr th {\n",
              "        vertical-align: top;\n",
              "    }\n",
              "\n",
              "    .dataframe thead th {\n",
              "        text-align: right;\n",
              "    }\n",
              "</style>\n",
              "<table border=\"1\" class=\"dataframe\">\n",
              "  <thead>\n",
              "    <tr style=\"text-align: right;\">\n",
              "      <th></th>\n",
              "      <th>house age</th>\n",
              "      <th>distance to the nearest MRT station</th>\n",
              "      <th>number of convenience stores</th>\n",
              "      <th>latitude</th>\n",
              "      <th>longitude</th>\n",
              "      <th>house price of unit area</th>\n",
              "    </tr>\n",
              "  </thead>\n",
              "  <tbody>\n",
              "    <tr>\n",
              "      <th>0</th>\n",
              "      <td>32.0</td>\n",
              "      <td>84.87882</td>\n",
              "      <td>10</td>\n",
              "      <td>24.98298</td>\n",
              "      <td>121.54024</td>\n",
              "      <td>37.9</td>\n",
              "    </tr>\n",
              "    <tr>\n",
              "      <th>1</th>\n",
              "      <td>19.5</td>\n",
              "      <td>306.59470</td>\n",
              "      <td>9</td>\n",
              "      <td>24.98034</td>\n",
              "      <td>121.53951</td>\n",
              "      <td>42.2</td>\n",
              "    </tr>\n",
              "    <tr>\n",
              "      <th>2</th>\n",
              "      <td>13.3</td>\n",
              "      <td>561.98450</td>\n",
              "      <td>5</td>\n",
              "      <td>24.98746</td>\n",
              "      <td>121.54391</td>\n",
              "      <td>47.3</td>\n",
              "    </tr>\n",
              "    <tr>\n",
              "      <th>3</th>\n",
              "      <td>13.3</td>\n",
              "      <td>561.98450</td>\n",
              "      <td>5</td>\n",
              "      <td>24.98746</td>\n",
              "      <td>121.54391</td>\n",
              "      <td>54.8</td>\n",
              "    </tr>\n",
              "    <tr>\n",
              "      <th>4</th>\n",
              "      <td>5.0</td>\n",
              "      <td>390.56840</td>\n",
              "      <td>5</td>\n",
              "      <td>24.97937</td>\n",
              "      <td>121.54245</td>\n",
              "      <td>43.1</td>\n",
              "    </tr>\n",
              "  </tbody>\n",
              "</table>\n",
              "</div>"
            ],
            "text/plain": [
              "   house age  ...  house price of unit area\n",
              "0       32.0  ...                      37.9\n",
              "1       19.5  ...                      42.2\n",
              "2       13.3  ...                      47.3\n",
              "3       13.3  ...                      54.8\n",
              "4        5.0  ...                      43.1\n",
              "\n",
              "[5 rows x 6 columns]"
            ]
          },
          "metadata": {},
          "execution_count": 9
        }
      ]
    },
    {
      "cell_type": "code",
      "metadata": {
        "id": "0mlV0Ix7Vfa8"
      },
      "source": [
        "## key말고 해당하는 value값만 추출해서 입력과 정갑 데이터 분류\n",
        "dataset = df.copy()\n",
        "tf.random.set_seed(777) # 랜덤 시드를 고정해줘서 돌리때마다 랜덤값을 고정\n",
        "\n",
        "label_data = dataset.pop('house price of unit area')"
      ],
      "execution_count": 10,
      "outputs": []
    },
    {
      "cell_type": "code",
      "metadata": {
        "colab": {
          "base_uri": "https://localhost:8080/"
        },
        "id": "wFiPNIiSWps_",
        "outputId": "256ce8db-005d-4047-8bfb-a73ca1fe2c29"
      },
      "source": [
        "print(label_data)\n",
        "print(dataset)"
      ],
      "execution_count": 12,
      "outputs": [
        {
          "output_type": "stream",
          "name": "stdout",
          "text": [
            "0      37.9\n",
            "1      42.2\n",
            "2      47.3\n",
            "3      54.8\n",
            "4      43.1\n",
            "       ... \n",
            "409    15.4\n",
            "410    50.0\n",
            "411    40.6\n",
            "412    52.5\n",
            "413    63.9\n",
            "Name: house price of unit area, Length: 414, dtype: float64\n",
            "     house age  distance to the nearest MRT station  ...  latitude  longitude\n",
            "0         32.0                             84.87882  ...  24.98298  121.54024\n",
            "1         19.5                            306.59470  ...  24.98034  121.53951\n",
            "2         13.3                            561.98450  ...  24.98746  121.54391\n",
            "3         13.3                            561.98450  ...  24.98746  121.54391\n",
            "4          5.0                            390.56840  ...  24.97937  121.54245\n",
            "..         ...                                  ...  ...       ...        ...\n",
            "409       13.7                           4082.01500  ...  24.94155  121.50381\n",
            "410        5.6                             90.45606  ...  24.97433  121.54310\n",
            "411       18.8                            390.96960  ...  24.97923  121.53986\n",
            "412        8.1                            104.81010  ...  24.96674  121.54067\n",
            "413        6.5                             90.45606  ...  24.97433  121.54310\n",
            "\n",
            "[414 rows x 5 columns]\n"
          ]
        }
      ]
    },
    {
      "cell_type": "code",
      "metadata": {
        "colab": {
          "base_uri": "https://localhost:8080/"
        },
        "id": "3t16jvGVYhGr",
        "outputId": "c183df6d-ee2e-41f4-e09c-cb46346a0364"
      },
      "source": [
        "model = tf.keras.Sequential()\n",
        "model.add(tf.keras.layers.Dense(64, input_dim=5, activation='sigmoid'))\n",
        "model.add(tf.keras.layers.Dense(128,activation='sigmoid'))\n",
        "model.add(tf.keras.layers.Dense(256, activation='sigmoid'))\n",
        "model.add(tf.keras.layers.Dense(1))\n",
        "model.summary()"
      ],
      "execution_count": 14,
      "outputs": [
        {
          "output_type": "stream",
          "name": "stdout",
          "text": [
            "Model: \"sequential_1\"\n",
            "_________________________________________________________________\n",
            "Layer (type)                 Output Shape              Param #   \n",
            "=================================================================\n",
            "dense_3 (Dense)              (None, 64)                384       \n",
            "_________________________________________________________________\n",
            "dense_4 (Dense)              (None, 128)               8320      \n",
            "_________________________________________________________________\n",
            "dense_5 (Dense)              (None, 256)               33024     \n",
            "_________________________________________________________________\n",
            "dense_6 (Dense)              (None, 1)                 257       \n",
            "=================================================================\n",
            "Total params: 41,985\n",
            "Trainable params: 41,985\n",
            "Non-trainable params: 0\n",
            "_________________________________________________________________\n"
          ]
        }
      ]
    },
    {
      "cell_type": "code",
      "metadata": {
        "id": "dod-yInnZdLY"
      },
      "source": [
        "optimizer=tf.keras.optimizers.SGD(learning_rate=0.04) ### 경사 하강법으로 global min 에 찾아가는 최적화 방법 선언.\n",
        "loss=tf.keras.losses.mean_squared_error  ## 예측값 과 정답의 오차값 정의.\n",
        "metrics=tf.keras.metrics.RootMeanSquaredError() ### 학습하면서 평가할 메트릭스 선언언\n",
        "\n",
        "model.compile(loss =loss, optimizer= optimizer, metrics=[metrics])"
      ],
      "execution_count": 15,
      "outputs": []
    },
    {
      "cell_type": "code",
      "metadata": {
        "colab": {
          "base_uri": "https://localhost:8080/"
        },
        "id": "uq-veeaParPW",
        "outputId": "b21140ff-1096-4d80-89ee-40c2959748b2"
      },
      "source": [
        "result = model.fit(dataset, label_data, epochs=100, batch_size=100)"
      ],
      "execution_count": 17,
      "outputs": [
        {
          "output_type": "stream",
          "name": "stdout",
          "text": [
            "Epoch 1/100\n",
            "5/5 [==============================] - 1s 4ms/step - loss: 8184.7710 - root_mean_squared_error: 90.4697\n",
            "Epoch 2/100\n",
            "5/5 [==============================] - 0s 5ms/step - loss: 1273.0347 - root_mean_squared_error: 35.6796\n",
            "Epoch 3/100\n",
            "5/5 [==============================] - 0s 5ms/step - loss: 638.0956 - root_mean_squared_error: 25.2606\n",
            "Epoch 4/100\n",
            "5/5 [==============================] - 0s 3ms/step - loss: 372.8453 - root_mean_squared_error: 19.3092\n",
            "Epoch 5/100\n",
            "5/5 [==============================] - 0s 4ms/step - loss: 266.3625 - root_mean_squared_error: 16.3206\n",
            "Epoch 6/100\n",
            "5/5 [==============================] - 0s 3ms/step - loss: 219.5028 - root_mean_squared_error: 14.8156\n",
            "Epoch 7/100\n",
            "5/5 [==============================] - 0s 4ms/step - loss: 201.7197 - root_mean_squared_error: 14.2028\n",
            "Epoch 8/100\n",
            "5/5 [==============================] - 0s 4ms/step - loss: 192.6658 - root_mean_squared_error: 13.8804\n",
            "Epoch 9/100\n",
            "5/5 [==============================] - 0s 4ms/step - loss: 187.5217 - root_mean_squared_error: 13.6939\n",
            "Epoch 10/100\n",
            "5/5 [==============================] - 0s 3ms/step - loss: 185.8476 - root_mean_squared_error: 13.6326\n",
            "Epoch 11/100\n",
            "5/5 [==============================] - 0s 4ms/step - loss: 185.3083 - root_mean_squared_error: 13.6128\n",
            "Epoch 12/100\n",
            "5/5 [==============================] - 0s 4ms/step - loss: 185.3552 - root_mean_squared_error: 13.6145\n",
            "Epoch 13/100\n",
            "5/5 [==============================] - 0s 4ms/step - loss: 185.3168 - root_mean_squared_error: 13.6131\n",
            "Epoch 14/100\n",
            "5/5 [==============================] - 0s 4ms/step - loss: 184.9795 - root_mean_squared_error: 13.6007\n",
            "Epoch 15/100\n",
            "5/5 [==============================] - 0s 5ms/step - loss: 185.1670 - root_mean_squared_error: 13.6076\n",
            "Epoch 16/100\n",
            "5/5 [==============================] - 0s 5ms/step - loss: 184.7969 - root_mean_squared_error: 13.5940\n",
            "Epoch 17/100\n",
            "5/5 [==============================] - 0s 4ms/step - loss: 184.7792 - root_mean_squared_error: 13.5934\n",
            "Epoch 18/100\n",
            "5/5 [==============================] - 0s 5ms/step - loss: 184.7379 - root_mean_squared_error: 13.5918\n",
            "Epoch 19/100\n",
            "5/5 [==============================] - 0s 6ms/step - loss: 184.7012 - root_mean_squared_error: 13.5905\n",
            "Epoch 20/100\n",
            "5/5 [==============================] - 0s 5ms/step - loss: 184.8295 - root_mean_squared_error: 13.5952\n",
            "Epoch 21/100\n",
            "5/5 [==============================] - 0s 4ms/step - loss: 184.8503 - root_mean_squared_error: 13.5960\n",
            "Epoch 22/100\n",
            "5/5 [==============================] - 0s 4ms/step - loss: 184.8319 - root_mean_squared_error: 13.5953\n",
            "Epoch 23/100\n",
            "5/5 [==============================] - 0s 4ms/step - loss: 184.8265 - root_mean_squared_error: 13.5951\n",
            "Epoch 24/100\n",
            "5/5 [==============================] - 0s 4ms/step - loss: 184.7807 - root_mean_squared_error: 13.5934\n",
            "Epoch 25/100\n",
            "5/5 [==============================] - 0s 4ms/step - loss: 184.7883 - root_mean_squared_error: 13.5937\n",
            "Epoch 26/100\n",
            "5/5 [==============================] - 0s 4ms/step - loss: 184.8144 - root_mean_squared_error: 13.5946\n",
            "Epoch 27/100\n",
            "5/5 [==============================] - 0s 5ms/step - loss: 184.8884 - root_mean_squared_error: 13.5974\n",
            "Epoch 28/100\n",
            "5/5 [==============================] - 0s 5ms/step - loss: 184.9377 - root_mean_squared_error: 13.5992\n",
            "Epoch 29/100\n",
            "5/5 [==============================] - 0s 6ms/step - loss: 184.7522 - root_mean_squared_error: 13.5924\n",
            "Epoch 30/100\n",
            "5/5 [==============================] - 0s 4ms/step - loss: 184.9448 - root_mean_squared_error: 13.5994\n",
            "Epoch 31/100\n",
            "5/5 [==============================] - 0s 4ms/step - loss: 184.7658 - root_mean_squared_error: 13.5929\n",
            "Epoch 32/100\n",
            "5/5 [==============================] - 0s 5ms/step - loss: 184.8067 - root_mean_squared_error: 13.5944\n",
            "Epoch 33/100\n",
            "5/5 [==============================] - 0s 4ms/step - loss: 184.8217 - root_mean_squared_error: 13.5949\n",
            "Epoch 34/100\n",
            "5/5 [==============================] - 0s 4ms/step - loss: 184.7506 - root_mean_squared_error: 13.5923\n",
            "Epoch 35/100\n",
            "5/5 [==============================] - 0s 5ms/step - loss: 184.8690 - root_mean_squared_error: 13.5967\n",
            "Epoch 36/100\n",
            "5/5 [==============================] - 0s 5ms/step - loss: 184.9824 - root_mean_squared_error: 13.6008\n",
            "Epoch 37/100\n",
            "5/5 [==============================] - 0s 5ms/step - loss: 184.7861 - root_mean_squared_error: 13.5936\n",
            "Epoch 38/100\n",
            "5/5 [==============================] - 0s 4ms/step - loss: 184.8023 - root_mean_squared_error: 13.5942\n",
            "Epoch 39/100\n",
            "5/5 [==============================] - 0s 5ms/step - loss: 184.7230 - root_mean_squared_error: 13.5913\n",
            "Epoch 40/100\n",
            "5/5 [==============================] - 0s 4ms/step - loss: 184.7961 - root_mean_squared_error: 13.5940\n",
            "Epoch 41/100\n",
            "5/5 [==============================] - 0s 3ms/step - loss: 185.0071 - root_mean_squared_error: 13.6017\n",
            "Epoch 42/100\n",
            "5/5 [==============================] - 0s 4ms/step - loss: 184.8367 - root_mean_squared_error: 13.5955\n",
            "Epoch 43/100\n",
            "5/5 [==============================] - 0s 5ms/step - loss: 184.8155 - root_mean_squared_error: 13.5947\n",
            "Epoch 44/100\n",
            "5/5 [==============================] - 0s 3ms/step - loss: 184.9634 - root_mean_squared_error: 13.6001\n",
            "Epoch 45/100\n",
            "5/5 [==============================] - 0s 4ms/step - loss: 184.9945 - root_mean_squared_error: 13.6013\n",
            "Epoch 46/100\n",
            "5/5 [==============================] - 0s 6ms/step - loss: 184.9852 - root_mean_squared_error: 13.6009\n",
            "Epoch 47/100\n",
            "5/5 [==============================] - 0s 4ms/step - loss: 185.1985 - root_mean_squared_error: 13.6088\n",
            "Epoch 48/100\n",
            "5/5 [==============================] - 0s 4ms/step - loss: 185.0048 - root_mean_squared_error: 13.6016\n",
            "Epoch 49/100\n",
            "5/5 [==============================] - 0s 4ms/step - loss: 184.8199 - root_mean_squared_error: 13.5948\n",
            "Epoch 50/100\n",
            "5/5 [==============================] - 0s 4ms/step - loss: 185.0555 - root_mean_squared_error: 13.6035\n",
            "Epoch 51/100\n",
            "5/5 [==============================] - 0s 6ms/step - loss: 185.1638 - root_mean_squared_error: 13.6075\n",
            "Epoch 52/100\n",
            "5/5 [==============================] - 0s 4ms/step - loss: 184.8596 - root_mean_squared_error: 13.5963\n",
            "Epoch 53/100\n",
            "5/5 [==============================] - 0s 4ms/step - loss: 184.8914 - root_mean_squared_error: 13.5975\n",
            "Epoch 54/100\n",
            "5/5 [==============================] - 0s 4ms/step - loss: 185.1120 - root_mean_squared_error: 13.6056\n",
            "Epoch 55/100\n",
            "5/5 [==============================] - 0s 3ms/step - loss: 185.0615 - root_mean_squared_error: 13.6037\n",
            "Epoch 56/100\n",
            "5/5 [==============================] - 0s 4ms/step - loss: 185.0157 - root_mean_squared_error: 13.6020\n",
            "Epoch 57/100\n",
            "5/5 [==============================] - 0s 4ms/step - loss: 184.7492 - root_mean_squared_error: 13.5922\n",
            "Epoch 58/100\n",
            "5/5 [==============================] - 0s 4ms/step - loss: 184.8086 - root_mean_squared_error: 13.5944\n",
            "Epoch 59/100\n",
            "5/5 [==============================] - 0s 4ms/step - loss: 184.8258 - root_mean_squared_error: 13.5951\n",
            "Epoch 60/100\n",
            "5/5 [==============================] - 0s 3ms/step - loss: 184.8023 - root_mean_squared_error: 13.5942\n",
            "Epoch 61/100\n",
            "5/5 [==============================] - 0s 4ms/step - loss: 184.7773 - root_mean_squared_error: 13.5933\n",
            "Epoch 62/100\n",
            "5/5 [==============================] - 0s 4ms/step - loss: 185.1888 - root_mean_squared_error: 13.6084\n",
            "Epoch 63/100\n",
            "5/5 [==============================] - 0s 5ms/step - loss: 184.7705 - root_mean_squared_error: 13.5930\n",
            "Epoch 64/100\n",
            "5/5 [==============================] - 0s 3ms/step - loss: 184.8030 - root_mean_squared_error: 13.5942\n",
            "Epoch 65/100\n",
            "5/5 [==============================] - 0s 4ms/step - loss: 185.0305 - root_mean_squared_error: 13.6026\n",
            "Epoch 66/100\n",
            "5/5 [==============================] - 0s 4ms/step - loss: 184.7025 - root_mean_squared_error: 13.5905\n",
            "Epoch 67/100\n",
            "5/5 [==============================] - 0s 4ms/step - loss: 184.7698 - root_mean_squared_error: 13.5930\n",
            "Epoch 68/100\n",
            "5/5 [==============================] - 0s 3ms/step - loss: 184.7006 - root_mean_squared_error: 13.5905\n",
            "Epoch 69/100\n",
            "5/5 [==============================] - 0s 3ms/step - loss: 184.9203 - root_mean_squared_error: 13.5985\n",
            "Epoch 70/100\n",
            "5/5 [==============================] - 0s 6ms/step - loss: 185.3631 - root_mean_squared_error: 13.6148\n",
            "Epoch 71/100\n",
            "5/5 [==============================] - 0s 5ms/step - loss: 185.3289 - root_mean_squared_error: 13.6136\n",
            "Epoch 72/100\n",
            "5/5 [==============================] - 0s 5ms/step - loss: 184.9843 - root_mean_squared_error: 13.6009\n",
            "Epoch 73/100\n",
            "5/5 [==============================] - 0s 4ms/step - loss: 184.9937 - root_mean_squared_error: 13.6012\n",
            "Epoch 74/100\n",
            "5/5 [==============================] - 0s 4ms/step - loss: 184.9581 - root_mean_squared_error: 13.5999\n",
            "Epoch 75/100\n",
            "5/5 [==============================] - 0s 5ms/step - loss: 184.7405 - root_mean_squared_error: 13.5919\n",
            "Epoch 76/100\n",
            "5/5 [==============================] - 0s 4ms/step - loss: 184.8308 - root_mean_squared_error: 13.5952\n",
            "Epoch 77/100\n",
            "5/5 [==============================] - 0s 4ms/step - loss: 184.7486 - root_mean_squared_error: 13.5922\n",
            "Epoch 78/100\n",
            "5/5 [==============================] - 0s 4ms/step - loss: 184.8258 - root_mean_squared_error: 13.5951\n",
            "Epoch 79/100\n",
            "5/5 [==============================] - 0s 4ms/step - loss: 184.7696 - root_mean_squared_error: 13.5930\n",
            "Epoch 80/100\n",
            "5/5 [==============================] - 0s 5ms/step - loss: 184.8249 - root_mean_squared_error: 13.5950\n",
            "Epoch 81/100\n",
            "5/5 [==============================] - 0s 6ms/step - loss: 184.9208 - root_mean_squared_error: 13.5986\n",
            "Epoch 82/100\n",
            "5/5 [==============================] - 0s 5ms/step - loss: 184.9713 - root_mean_squared_error: 13.6004\n",
            "Epoch 83/100\n",
            "5/5 [==============================] - 0s 4ms/step - loss: 184.8113 - root_mean_squared_error: 13.5945\n",
            "Epoch 84/100\n",
            "5/5 [==============================] - 0s 4ms/step - loss: 185.1644 - root_mean_squared_error: 13.6075\n",
            "Epoch 85/100\n",
            "5/5 [==============================] - 0s 5ms/step - loss: 184.8037 - root_mean_squared_error: 13.5943\n",
            "Epoch 86/100\n",
            "5/5 [==============================] - 0s 5ms/step - loss: 184.7520 - root_mean_squared_error: 13.5924\n",
            "Epoch 87/100\n",
            "5/5 [==============================] - 0s 4ms/step - loss: 184.8696 - root_mean_squared_error: 13.5967\n",
            "Epoch 88/100\n",
            "5/5 [==============================] - 0s 5ms/step - loss: 184.8354 - root_mean_squared_error: 13.5954\n",
            "Epoch 89/100\n",
            "5/5 [==============================] - 0s 4ms/step - loss: 184.8336 - root_mean_squared_error: 13.5954\n",
            "Epoch 90/100\n",
            "5/5 [==============================] - 0s 4ms/step - loss: 184.8860 - root_mean_squared_error: 13.5973\n",
            "Epoch 91/100\n",
            "5/5 [==============================] - 0s 4ms/step - loss: 184.9532 - root_mean_squared_error: 13.5998\n",
            "Epoch 92/100\n",
            "5/5 [==============================] - 0s 4ms/step - loss: 184.9085 - root_mean_squared_error: 13.5981\n",
            "Epoch 93/100\n",
            "5/5 [==============================] - 0s 4ms/step - loss: 185.0671 - root_mean_squared_error: 13.6039\n",
            "Epoch 94/100\n",
            "5/5 [==============================] - 0s 4ms/step - loss: 184.7923 - root_mean_squared_error: 13.5938\n",
            "Epoch 95/100\n",
            "5/5 [==============================] - 0s 5ms/step - loss: 184.8653 - root_mean_squared_error: 13.5965\n",
            "Epoch 96/100\n",
            "5/5 [==============================] - 0s 5ms/step - loss: 184.8057 - root_mean_squared_error: 13.5943\n",
            "Epoch 97/100\n",
            "5/5 [==============================] - 0s 5ms/step - loss: 184.7914 - root_mean_squared_error: 13.5938\n",
            "Epoch 98/100\n",
            "5/5 [==============================] - 0s 5ms/step - loss: 184.8046 - root_mean_squared_error: 13.5943\n",
            "Epoch 99/100\n",
            "5/5 [==============================] - 0s 4ms/step - loss: 184.8074 - root_mean_squared_error: 13.5944\n",
            "Epoch 100/100\n",
            "5/5 [==============================] - 0s 5ms/step - loss: 184.9387 - root_mean_squared_error: 13.5992\n"
          ]
        }
      ]
    },
    {
      "cell_type": "code",
      "metadata": {
        "colab": {
          "base_uri": "https://localhost:8080/"
        },
        "id": "n_VglSawauPX",
        "outputId": "9ebe8c54-b315-40b1-c172-f0358fb36801"
      },
      "source": [
        "print(result.history.keys())"
      ],
      "execution_count": 18,
      "outputs": [
        {
          "output_type": "stream",
          "name": "stdout",
          "text": [
            "dict_keys(['loss', 'root_mean_squared_error'])\n"
          ]
        }
      ]
    },
    {
      "cell_type": "code",
      "metadata": {
        "colab": {
          "base_uri": "https://localhost:8080/",
          "height": 194
        },
        "id": "91E3hGnxa8Bx",
        "outputId": "40a8f99c-022a-4db9-87e5-f0f5fe984c27"
      },
      "source": [
        "loss = result.history['loss']\n",
        "\n",
        "# loss 그래프\n",
        "epochs = range(1, len(loss)+1)\n",
        "plt.subplot(211)\n",
        "plt.plot(epochs, loss, 'b-', label='Training loss')\n",
        "plt.title('Training loss')\n",
        "plt.xlabel('Epochs')\n",
        "plt.ylabel('Loss')\n",
        "plt.legend()"
      ],
      "execution_count": 24,
      "outputs": [
        {
          "output_type": "execute_result",
          "data": {
            "text/plain": [
              "<matplotlib.legend.Legend at 0x7f6b6fa6cc90>"
            ]
          },
          "metadata": {},
          "execution_count": 24
        },
        {
          "output_type": "display_data",
          "data": {
            "image/png": "[encoded data removed]",
            "text/plain": [
              "<Figure size 432x288 with 1 Axes>"
            ]
          },
          "metadata": {
            "needs_background": "light"
          }
        }
      ]
    },
    {
      "cell_type": "code",
      "metadata": {
        "colab": {
          "base_uri": "https://localhost:8080/",
          "height": 194
        },
        "id": "gkCgnmLPa9Zp",
        "outputId": "8a6d5539-0f35-4c44-b03e-f7a0583eac30"
      },
      "source": [
        "mae = result.history['root_mean_squared_error']\n",
        "epochs = range(1, len(mae)+1)\n",
        "\n",
        "# mean absolute error 그래프화\n",
        "plt.subplot(212)\n",
        "plt.plot(epochs, mae, 'r-', label='Training mae')\n",
        "plt.title('Training rmse')\n",
        "plt.xlabel('Epochs')\n",
        "plt.ylabel('rmse')\n",
        "plt.legend()"
      ],
      "execution_count": 25,
      "outputs": [
        {
          "output_type": "execute_result",
          "data": {
            "text/plain": [
              "<matplotlib.legend.Legend at 0x7f6b724a1690>"
            ]
          },
          "metadata": {},
          "execution_count": 25
        },
        {
          "output_type": "display_data",
          "data": {
            "image/png": "[encoded data removed]",
            "text/plain": [
              "<Figure size 432x288 with 1 Axes>"
            ]
          },
          "metadata": {
            "needs_background": "light"
          }
        }
      ]
    },
    {
      "cell_type": "code",
      "metadata": {
        "colab": {
          "base_uri": "https://localhost:8080/"
        },
        "id": "6qPsENEibjcZ",
        "outputId": "47dd2045-a713-4c84-db28-b0369658bb22"
      },
      "source": [
        "print(model.evaluate(dataset, label_data))\n",
        "print(\"\\n Test rmse : %.4f\" % (model.evaluate(dataset, label_data)[1]))"
      ],
      "execution_count": 23,
      "outputs": [
        {
          "output_type": "stream",
          "name": "stdout",
          "text": [
            "13/13 [==============================] - 0s 2ms/step - loss: 184.7027 - root_mean_squared_error: 13.5905\n",
            "[184.70266723632812, 13.590536117553711]\n",
            "13/13 [==============================] - 0s 2ms/step - loss: 184.7027 - root_mean_squared_error: 13.5905\n",
            "\n",
            " Test rmse : 13.5905\n"
          ]
        }
      ]
    }
  ]
}