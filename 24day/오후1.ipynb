{
  "nbformat": 4,
  "nbformat_minor": 0,
  "metadata": {
    "colab": {
      "name": "오후1.ipynb",
      "provenance": []
    },
    "kernelspec": {
      "name": "python3",
      "display_name": "Python 3"
    },
    "language_info": {
      "name": "python"
    }
  },
  "cells": [
    {
      "cell_type": "code",
      "metadata": {
        "id": "MQpDHnr3rKQa"
      },
      "source": [
        "import tensorflow as tf\n",
        "\n",
        "## data 선언\n",
        "x_data = [[0.,0.], [0.,1.], [1.,0.],[1.,1.]]\n",
        "y_data = [[0.], [1.], [1.], [1.]]\n",
        "test_data=[[0.8, 0.8]]"
      ],
      "execution_count": 1,
      "outputs": []
    },
    {
      "cell_type": "code",
      "metadata": {
        "id": "RbO9BgQjslRR"
      },
      "source": [
        "from tensorflow import keras"
      ],
      "execution_count": 2,
      "outputs": []
    },
    {
      "cell_type": "code",
      "metadata": {
        "colab": {
          "base_uri": "https://localhost:8080/"
        },
        "id": "miaNwZQGsDQc",
        "outputId": "cd90c2e4-9624-4af0-b9dc-be44a422dfd5"
      },
      "source": [
        "model = keras.models.Sequential()\n",
        "model.add(keras.layers.Dense(1, input_dim=2))\n",
        "model.summary() "
      ],
      "execution_count": 3,
      "outputs": [
        {
          "output_type": "stream",
          "name": "stdout",
          "text": [
            "Model: \"sequential\"\n",
            "_________________________________________________________________\n",
            "Layer (type)                 Output Shape              Param #   \n",
            "=================================================================\n",
            "dense (Dense)                (None, 1)                 3         \n",
            "=================================================================\n",
            "Total params: 3\n",
            "Trainable params: 3\n",
            "Non-trainable params: 0\n",
            "_________________________________________________________________\n"
          ]
        }
      ]
    },
    {
      "cell_type": "code",
      "metadata": {
        "colab": {
          "base_uri": "https://localhost:8080/"
        },
        "id": "6B5p3uWMsxtZ",
        "outputId": "10de3762-d22b-4750-eadf-aac6dab40197"
      },
      "source": [
        "optimizer= tf.keras.optimizers.SGD(lr = 0.01)\n",
        "loss=  tf.keras.losses.mse\n",
        "metrics=  tf.keras.metrics.mae\n",
        "\n",
        "# 모델 컴파일하기\n",
        "model.compile(loss=loss, optimizer=optimizer, metrics=[metrics])\n",
        "\n",
        "# 모델 동작하기\n",
        "model.fit(x_data, y_data, epochs=10, batch_size=4)"
      ],
      "execution_count": 4,
      "outputs": [
        {
          "output_type": "stream",
          "name": "stderr",
          "text": [
            "/usr/local/lib/python3.7/dist-packages/keras/optimizer_v2/optimizer_v2.py:356: UserWarning: The `lr` argument is deprecated, use `learning_rate` instead.\n",
            "  \"The `lr` argument is deprecated, use `learning_rate` instead.\")\n"
          ]
        },
        {
          "output_type": "stream",
          "name": "stdout",
          "text": [
            "Epoch 1/10\n",
            "1/1 [==============================] - 0s 477ms/step - loss: 0.3184 - mean_absolute_error: 0.3112\n",
            "Epoch 2/10\n",
            "1/1 [==============================] - 0s 7ms/step - loss: 0.3108 - mean_absolute_error: 0.3081\n",
            "Epoch 3/10\n",
            "1/1 [==============================] - 0s 4ms/step - loss: 0.3037 - mean_absolute_error: 0.3051\n",
            "Epoch 4/10\n",
            "1/1 [==============================] - 0s 4ms/step - loss: 0.2968 - mean_absolute_error: 0.3021\n",
            "Epoch 5/10\n",
            "1/1 [==============================] - 0s 4ms/step - loss: 0.2904 - mean_absolute_error: 0.2992\n",
            "Epoch 6/10\n",
            "1/1 [==============================] - 0s 4ms/step - loss: 0.2842 - mean_absolute_error: 0.2964\n",
            "Epoch 7/10\n",
            "1/1 [==============================] - 0s 4ms/step - loss: 0.2784 - mean_absolute_error: 0.2936\n",
            "Epoch 8/10\n",
            "1/1 [==============================] - 0s 8ms/step - loss: 0.2728 - mean_absolute_error: 0.2908\n",
            "Epoch 9/10\n",
            "1/1 [==============================] - 0s 4ms/step - loss: 0.2676 - mean_absolute_error: 0.2881\n",
            "Epoch 10/10\n",
            "1/1 [==============================] - 0s 17ms/step - loss: 0.2625 - mean_absolute_error: 0.2855\n"
          ]
        },
        {
          "output_type": "execute_result",
          "data": {
            "text/plain": [
              "<keras.callbacks.History at 0x7fd871331dd0>"
            ]
          },
          "metadata": {},
          "execution_count": 4
        }
      ]
    },
    {
      "cell_type": "code",
      "metadata": {
        "colab": {
          "base_uri": "https://localhost:8080/"
        },
        "id": "_sCgQymXtleE",
        "outputId": "49c91bc8-6d7f-42a2-cd9a-9f290a69a478"
      },
      "source": [
        "# 결과를 출력합니다.\n",
        "print(model.weights)\n",
        "print(\" test data [0.8, 0.8] 예측 값 : \", model.predict(test_data))\n",
        "if model.predict(test_data)>0.5:\n",
        "    print(\" 합격 \" )\n",
        "else:\n",
        "    print(\" 불합격 \")"
      ],
      "execution_count": 5,
      "outputs": [
        {
          "output_type": "stream",
          "name": "stdout",
          "text": [
            "[<tf.Variable 'dense/kernel:0' shape=(2, 1) dtype=float32, numpy=\n",
            "array([[ 1.0074953 ],\n",
            "       [-0.06580821]], dtype=float32)>, <tf.Variable 'dense/bias:0' shape=(1,) dtype=float32, numpy=array([0.05375343], dtype=float32)>]\n",
            " test data [0.8, 0.8] 예측 값 :  [[0.8071031]]\n",
            " 합격 \n"
          ]
        }
      ]
    }
  ]
}