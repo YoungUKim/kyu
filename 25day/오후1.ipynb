{
  "nbformat": 4,
  "nbformat_minor": 0,
  "metadata": {
    "colab": {
      "name": "오후1.ipynb",
      "provenance": []
    },
    "kernelspec": {
      "name": "python3",
      "display_name": "Python 3"
    },
    "language_info": {
      "name": "python"
    }
  },
  "cells": [
    {
      "cell_type": "code",
      "metadata": {
        "id": "5YH59aw7_Cg5"
      },
      "source": [
        "import numpy as np\n",
        "import pandas as pd\n",
        "import matplotlib.pyplot as plt\n",
        "from sklearn.preprocessing import LabelEncoder\n",
        "import tensorflow as tf"
      ],
      "execution_count": 19,
      "outputs": []
    },
    {
      "cell_type": "code",
      "metadata": {
        "colab": {
          "base_uri": "https://localhost:8080/"
        },
        "id": "4gGy6bJ5BeOl",
        "outputId": "6bd29927-2f03-49ad-e29c-e84671482642"
      },
      "source": [
        "df = pd.read_csv('/content/one_hot_encording_test.csv', names = ['length','width','height','volume','class_name'])\n",
        "\n",
        "dataset = df.copy()\n",
        "label_data = dataset.pop('class_name')\n",
        "print(dataset.info())"
      ],
      "execution_count": 13,
      "outputs": [
        {
          "output_type": "stream",
          "name": "stdout",
          "text": [
            "<class 'pandas.core.frame.DataFrame'>\n",
            "RangeIndex: 20 entries, 0 to 19\n",
            "Data columns (total 4 columns):\n",
            " #   Column  Non-Null Count  Dtype  \n",
            "---  ------  --------------  -----  \n",
            " 0   length  20 non-null     float64\n",
            " 1   width   20 non-null     float64\n",
            " 2   height  20 non-null     float64\n",
            " 3   volume  20 non-null     float64\n",
            "dtypes: float64(4)\n",
            "memory usage: 768.0 bytes\n",
            "None\n"
          ]
        }
      ]
    },
    {
      "cell_type": "code",
      "metadata": {
        "colab": {
          "base_uri": "https://localhost:8080/"
        },
        "id": "Ts09MfOCB8B1",
        "outputId": "d0f18dc7-101d-4885-b271-e75586a49160"
      },
      "source": [
        "encorder = LabelEncoder()\n",
        "encorder.fit(label_data)\n",
        "Y = encorder.transform(label_data)\n",
        "\n",
        "print(Y)"
      ],
      "execution_count": 17,
      "outputs": [
        {
          "output_type": "stream",
          "name": "stdout",
          "text": [
            "[1 1 1 3 3 3 0 2 2 0 1 1 1 3 3 3 0 2 2 0]\n"
          ]
        }
      ]
    },
    {
      "cell_type": "code",
      "metadata": {
        "colab": {
          "base_uri": "https://localhost:8080/"
        },
        "id": "CwwnLibVDTgE",
        "outputId": "2cd8201a-688c-47c3-93df-b6c8c06ad8cb"
      },
      "source": [
        "Y_encoded = tf.keras.utils.to_categorical(Y)\n",
        "\n",
        "print(Y_encoded)\n",
        "print(Y_encoded.shape)"
      ],
      "execution_count": 22,
      "outputs": [
        {
          "output_type": "stream",
          "name": "stdout",
          "text": [
            "[[0. 1. 0. 0.]\n",
            " [0. 1. 0. 0.]\n",
            " [0. 1. 0. 0.]\n",
            " [0. 0. 0. 1.]\n",
            " [0. 0. 0. 1.]\n",
            " [0. 0. 0. 1.]\n",
            " [1. 0. 0. 0.]\n",
            " [0. 0. 1. 0.]\n",
            " [0. 0. 1. 0.]\n",
            " [1. 0. 0. 0.]\n",
            " [0. 1. 0. 0.]\n",
            " [0. 1. 0. 0.]\n",
            " [0. 1. 0. 0.]\n",
            " [0. 0. 0. 1.]\n",
            " [0. 0. 0. 1.]\n",
            " [0. 0. 0. 1.]\n",
            " [1. 0. 0. 0.]\n",
            " [0. 0. 1. 0.]\n",
            " [0. 0. 1. 0.]\n",
            " [1. 0. 0. 0.]]\n",
            "(20, 4)\n"
          ]
        }
      ]
    },
    {
      "cell_type": "code",
      "metadata": {
        "colab": {
          "base_uri": "https://localhost:8080/"
        },
        "id": "4MKhCwqUGmM4",
        "outputId": "dca490d4-0625-4d0b-ece3-d88e105a9a61"
      },
      "source": [
        "one_hot_label = pd.get_dummies(label_data)\n",
        "print(one_hot_label)"
      ],
      "execution_count": 23,
      "outputs": [
        {
          "output_type": "stream",
          "name": "stdout",
          "text": [
            "    bus  car  person  truck\n",
            "0     0    1       0      0\n",
            "1     0    1       0      0\n",
            "2     0    1       0      0\n",
            "3     0    0       0      1\n",
            "4     0    0       0      1\n",
            "5     0    0       0      1\n",
            "6     1    0       0      0\n",
            "7     0    0       1      0\n",
            "8     0    0       1      0\n",
            "9     1    0       0      0\n",
            "10    0    1       0      0\n",
            "11    0    1       0      0\n",
            "12    0    1       0      0\n",
            "13    0    0       0      1\n",
            "14    0    0       0      1\n",
            "15    0    0       0      1\n",
            "16    1    0       0      0\n",
            "17    0    0       1      0\n",
            "18    0    0       1      0\n",
            "19    1    0       0      0\n"
          ]
        }
      ]
    }
  ]
}