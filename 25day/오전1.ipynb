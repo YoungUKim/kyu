{
  "nbformat": 4,
  "nbformat_minor": 0,
  "metadata": {
    "colab": {
      "name": "Untitled5.ipynb",
      "provenance": []
    },
    "kernelspec": {
      "name": "python3",
      "display_name": "Python 3"
    },
    "language_info": {
      "name": "python"
    }
  },
  "cells": [
    {
      "cell_type": "code",
      "metadata": {
        "id": "Ng_N0LOz8Mo-"
      },
      "source": [
        "import pandas as pd\n",
        "import tensorflow as tf\n",
        "import matplotlib.pyplot as plt"
      ],
      "execution_count": 1,
      "outputs": []
    },
    {
      "cell_type": "code",
      "metadata": {
        "colab": {
          "base_uri": "https://localhost:8080/",
          "height": 203
        },
        "id": "8CgSQPfC-7JP",
        "outputId": "c23f02cf-3a59-44aa-c846-0aeea9c4dc7b"
      },
      "source": [
        "df = pd.read_csv('/content/BostonHousing.csv')\n",
        "df.head()"
      ],
      "execution_count": 2,
      "outputs": [
        {
          "output_type": "execute_result",
          "data": {
            "text/html": [
              "<div>\n",
              "<style scoped>\n",
              "    .dataframe tbody tr th:only-of-type {\n",
              "        vertical-align: middle;\n",
              "    }\n",
              "\n",
              "    .dataframe tbody tr th {\n",
              "        vertical-align: top;\n",
              "    }\n",
              "\n",
              "    .dataframe thead th {\n",
              "        text-align: right;\n",
              "    }\n",
              "</style>\n",
              "<table border=\"1\" class=\"dataframe\">\n",
              "  <thead>\n",
              "    <tr style=\"text-align: right;\">\n",
              "      <th></th>\n",
              "      <th>CRIM</th>\n",
              "      <th>ZN</th>\n",
              "      <th>INDUS</th>\n",
              "      <th>CHAS</th>\n",
              "      <th>NOX</th>\n",
              "      <th>RM</th>\n",
              "      <th>AGE</th>\n",
              "      <th>DIS</th>\n",
              "      <th>RAD</th>\n",
              "      <th>TAX</th>\n",
              "      <th>PTRATIO</th>\n",
              "      <th>B</th>\n",
              "      <th>LSTAT</th>\n",
              "      <th>MEDV</th>\n",
              "    </tr>\n",
              "  </thead>\n",
              "  <tbody>\n",
              "    <tr>\n",
              "      <th>0</th>\n",
              "      <td>0.00632</td>\n",
              "      <td>18.0</td>\n",
              "      <td>2.31</td>\n",
              "      <td>0</td>\n",
              "      <td>0.538</td>\n",
              "      <td>6.575</td>\n",
              "      <td>65.2</td>\n",
              "      <td>4.0900</td>\n",
              "      <td>1</td>\n",
              "      <td>296</td>\n",
              "      <td>15.3</td>\n",
              "      <td>396.90</td>\n",
              "      <td>4.98</td>\n",
              "      <td>24.0</td>\n",
              "    </tr>\n",
              "    <tr>\n",
              "      <th>1</th>\n",
              "      <td>0.02731</td>\n",
              "      <td>0.0</td>\n",
              "      <td>7.07</td>\n",
              "      <td>0</td>\n",
              "      <td>0.469</td>\n",
              "      <td>6.421</td>\n",
              "      <td>78.9</td>\n",
              "      <td>4.9671</td>\n",
              "      <td>2</td>\n",
              "      <td>242</td>\n",
              "      <td>17.8</td>\n",
              "      <td>396.90</td>\n",
              "      <td>9.14</td>\n",
              "      <td>21.6</td>\n",
              "    </tr>\n",
              "    <tr>\n",
              "      <th>2</th>\n",
              "      <td>0.02729</td>\n",
              "      <td>0.0</td>\n",
              "      <td>7.07</td>\n",
              "      <td>0</td>\n",
              "      <td>0.469</td>\n",
              "      <td>7.185</td>\n",
              "      <td>61.1</td>\n",
              "      <td>4.9671</td>\n",
              "      <td>2</td>\n",
              "      <td>242</td>\n",
              "      <td>17.8</td>\n",
              "      <td>392.83</td>\n",
              "      <td>4.03</td>\n",
              "      <td>34.7</td>\n",
              "    </tr>\n",
              "    <tr>\n",
              "      <th>3</th>\n",
              "      <td>0.03237</td>\n",
              "      <td>0.0</td>\n",
              "      <td>2.18</td>\n",
              "      <td>0</td>\n",
              "      <td>0.458</td>\n",
              "      <td>6.998</td>\n",
              "      <td>45.8</td>\n",
              "      <td>6.0622</td>\n",
              "      <td>3</td>\n",
              "      <td>222</td>\n",
              "      <td>18.7</td>\n",
              "      <td>394.63</td>\n",
              "      <td>2.94</td>\n",
              "      <td>33.4</td>\n",
              "    </tr>\n",
              "    <tr>\n",
              "      <th>4</th>\n",
              "      <td>0.06905</td>\n",
              "      <td>0.0</td>\n",
              "      <td>2.18</td>\n",
              "      <td>0</td>\n",
              "      <td>0.458</td>\n",
              "      <td>7.147</td>\n",
              "      <td>54.2</td>\n",
              "      <td>6.0622</td>\n",
              "      <td>3</td>\n",
              "      <td>222</td>\n",
              "      <td>18.7</td>\n",
              "      <td>396.90</td>\n",
              "      <td>5.33</td>\n",
              "      <td>36.2</td>\n",
              "    </tr>\n",
              "  </tbody>\n",
              "</table>\n",
              "</div>"
            ],
            "text/plain": [
              "      CRIM    ZN  INDUS  CHAS    NOX  ...  TAX  PTRATIO       B  LSTAT  MEDV\n",
              "0  0.00632  18.0   2.31     0  0.538  ...  296     15.3  396.90   4.98  24.0\n",
              "1  0.02731   0.0   7.07     0  0.469  ...  242     17.8  396.90   9.14  21.6\n",
              "2  0.02729   0.0   7.07     0  0.469  ...  242     17.8  392.83   4.03  34.7\n",
              "3  0.03237   0.0   2.18     0  0.458  ...  222     18.7  394.63   2.94  33.4\n",
              "4  0.06905   0.0   2.18     0  0.458  ...  222     18.7  396.90   5.33  36.2\n",
              "\n",
              "[5 rows x 14 columns]"
            ]
          },
          "metadata": {},
          "execution_count": 2
        }
      ]
    },
    {
      "cell_type": "code",
      "metadata": {
        "colab": {
          "base_uri": "https://localhost:8080/"
        },
        "id": "0oYOTU_p-_-p",
        "outputId": "e4d9483a-31d4-4329-9c58-6320ffac7a61"
      },
      "source": [
        "x_data = df.copy()\n",
        "tf.random.set_seed(777)\n",
        "\n",
        "x_data.info()"
      ],
      "execution_count": 4,
      "outputs": [
        {
          "output_type": "stream",
          "name": "stdout",
          "text": [
            "<class 'pandas.core.frame.DataFrame'>\n",
            "RangeIndex: 506 entries, 0 to 505\n",
            "Data columns (total 14 columns):\n",
            " #   Column   Non-Null Count  Dtype  \n",
            "---  ------   --------------  -----  \n",
            " 0   CRIM     506 non-null    float64\n",
            " 1   ZN       506 non-null    float64\n",
            " 2   INDUS    506 non-null    float64\n",
            " 3   CHAS     506 non-null    int64  \n",
            " 4   NOX      506 non-null    float64\n",
            " 5   RM       506 non-null    float64\n",
            " 6   AGE      506 non-null    float64\n",
            " 7   DIS      506 non-null    float64\n",
            " 8   RAD      506 non-null    int64  \n",
            " 9   TAX      506 non-null    int64  \n",
            " 10  PTRATIO  506 non-null    float64\n",
            " 11  B        506 non-null    float64\n",
            " 12  LSTAT    506 non-null    float64\n",
            " 13  MEDV     506 non-null    float64\n",
            "dtypes: float64(11), int64(3)\n",
            "memory usage: 55.5 KB\n"
          ]
        }
      ]
    },
    {
      "cell_type": "code",
      "metadata": {
        "colab": {
          "base_uri": "https://localhost:8080/"
        },
        "id": "tAENy6a0IRcY",
        "outputId": "8bb36c49-cc08-434a-a463-9fa1b8e76827"
      },
      "source": [
        "y_data = x_data.pop('MEDV')\n",
        "\n",
        "print(x_data.head())\n",
        "print(y_data.head())\n",
        "\n",
        "x_data.info()"
      ],
      "execution_count": 5,
      "outputs": [
        {
          "output_type": "stream",
          "name": "stdout",
          "text": [
            "      CRIM    ZN  INDUS  CHAS    NOX  ...  RAD  TAX  PTRATIO       B  LSTAT\n",
            "0  0.00632  18.0   2.31     0  0.538  ...    1  296     15.3  396.90   4.98\n",
            "1  0.02731   0.0   7.07     0  0.469  ...    2  242     17.8  396.90   9.14\n",
            "2  0.02729   0.0   7.07     0  0.469  ...    2  242     17.8  392.83   4.03\n",
            "3  0.03237   0.0   2.18     0  0.458  ...    3  222     18.7  394.63   2.94\n",
            "4  0.06905   0.0   2.18     0  0.458  ...    3  222     18.7  396.90   5.33\n",
            "\n",
            "[5 rows x 13 columns]\n",
            "0    24.0\n",
            "1    21.6\n",
            "2    34.7\n",
            "3    33.4\n",
            "4    36.2\n",
            "Name: MEDV, dtype: float64\n",
            "<class 'pandas.core.frame.DataFrame'>\n",
            "RangeIndex: 506 entries, 0 to 505\n",
            "Data columns (total 13 columns):\n",
            " #   Column   Non-Null Count  Dtype  \n",
            "---  ------   --------------  -----  \n",
            " 0   CRIM     506 non-null    float64\n",
            " 1   ZN       506 non-null    float64\n",
            " 2   INDUS    506 non-null    float64\n",
            " 3   CHAS     506 non-null    int64  \n",
            " 4   NOX      506 non-null    float64\n",
            " 5   RM       506 non-null    float64\n",
            " 6   AGE      506 non-null    float64\n",
            " 7   DIS      506 non-null    float64\n",
            " 8   RAD      506 non-null    int64  \n",
            " 9   TAX      506 non-null    int64  \n",
            " 10  PTRATIO  506 non-null    float64\n",
            " 11  B        506 non-null    float64\n",
            " 12  LSTAT    506 non-null    float64\n",
            "dtypes: float64(10), int64(3)\n",
            "memory usage: 51.5 KB\n"
          ]
        }
      ]
    },
    {
      "cell_type": "code",
      "metadata": {
        "colab": {
          "base_uri": "https://localhost:8080/"
        },
        "id": "Gjw6Qfo0_YAa",
        "outputId": "623a3a44-d34e-4c8c-ebc8-6c3a405cd8ac"
      },
      "source": [
        "model = tf.keras.Sequential()\n",
        "model.add(tf.keras.layers.Dense(64, input_dim=13, activation='sigmoid'))\n",
        "model.add(tf.keras.layers.Dense(128, activation='sigmoid'))\n",
        "model.add(tf.keras.layers.Dense(256, activation='sigmoid'))\n",
        "model.add(tf.keras.layers.Dense(1))\n",
        "\n",
        "model.summary()"
      ],
      "execution_count": 6,
      "outputs": [
        {
          "output_type": "stream",
          "name": "stdout",
          "text": [
            "Model: \"sequential\"\n",
            "_________________________________________________________________\n",
            "Layer (type)                 Output Shape              Param #   \n",
            "=================================================================\n",
            "dense (Dense)                (None, 64)                896       \n",
            "_________________________________________________________________\n",
            "dense_1 (Dense)              (None, 128)               8320      \n",
            "_________________________________________________________________\n",
            "dense_2 (Dense)              (None, 256)               33024     \n",
            "_________________________________________________________________\n",
            "dense_3 (Dense)              (None, 1)                 257       \n",
            "=================================================================\n",
            "Total params: 42,497\n",
            "Trainable params: 42,497\n",
            "Non-trainable params: 0\n",
            "_________________________________________________________________\n"
          ]
        }
      ]
    },
    {
      "cell_type": "code",
      "metadata": {
        "id": "h4u4R1cEAp-G"
      },
      "source": [
        "optimizer= tf.keras.optimizers.SGD(learning_rate=0.04)\n",
        "loss= tf.keras.losses.mean_absolute_error\n",
        "metrics= tf.keras.metrics.RootMeanSquaredError()\n",
        "\n",
        "model.compile(loss =loss, optimizer= optimizer, metrics=[metrics])"
      ],
      "execution_count": 9,
      "outputs": []
    },
    {
      "cell_type": "code",
      "metadata": {
        "colab": {
          "base_uri": "https://localhost:8080/"
        },
        "id": "ReZPGRu-A7fg",
        "outputId": "118a32ab-e8a5-46e8-d92e-bd6b14983dd7"
      },
      "source": [
        "result = model.fit(x_data, y_data, epochs=100, batch_size=10)"
      ],
      "execution_count": 10,
      "outputs": [
        {
          "output_type": "stream",
          "name": "stdout",
          "text": [
            "Epoch 1/100\n",
            "51/51 [==============================] - 1s 2ms/step - loss: 7.6434 - root_mean_squared_error: 10.7458\n",
            "Epoch 2/100\n",
            "51/51 [==============================] - 0s 2ms/step - loss: 6.6013 - root_mean_squared_error: 9.3161\n",
            "Epoch 3/100\n",
            "51/51 [==============================] - 0s 2ms/step - loss: 6.4403 - root_mean_squared_error: 9.1601\n",
            "Epoch 4/100\n",
            "51/51 [==============================] - 0s 2ms/step - loss: 6.5283 - root_mean_squared_error: 9.3400\n",
            "Epoch 5/100\n",
            "51/51 [==============================] - 0s 2ms/step - loss: 6.3114 - root_mean_squared_error: 9.0053\n",
            "Epoch 6/100\n",
            "51/51 [==============================] - 0s 2ms/step - loss: 6.2574 - root_mean_squared_error: 8.9385\n",
            "Epoch 7/100\n",
            "51/51 [==============================] - 0s 2ms/step - loss: 6.2694 - root_mean_squared_error: 9.0124\n",
            "Epoch 8/100\n",
            "51/51 [==============================] - 0s 2ms/step - loss: 6.4398 - root_mean_squared_error: 9.2038\n",
            "Epoch 9/100\n",
            "51/51 [==============================] - 0s 2ms/step - loss: 6.3986 - root_mean_squared_error: 9.2899\n",
            "Epoch 10/100\n",
            "51/51 [==============================] - 0s 2ms/step - loss: 6.3192 - root_mean_squared_error: 8.9262\n",
            "Epoch 11/100\n",
            "51/51 [==============================] - 0s 1ms/step - loss: 6.1153 - root_mean_squared_error: 8.8986\n",
            "Epoch 12/100\n",
            "51/51 [==============================] - 0s 2ms/step - loss: 6.3699 - root_mean_squared_error: 9.0025\n",
            "Epoch 13/100\n",
            "51/51 [==============================] - 0s 2ms/step - loss: 6.4182 - root_mean_squared_error: 9.1219\n",
            "Epoch 14/100\n",
            "51/51 [==============================] - 0s 2ms/step - loss: 6.5619 - root_mean_squared_error: 9.3313\n",
            "Epoch 15/100\n",
            "51/51 [==============================] - 0s 1ms/step - loss: 6.4896 - root_mean_squared_error: 9.1621\n",
            "Epoch 16/100\n",
            "51/51 [==============================] - 0s 2ms/step - loss: 6.5703 - root_mean_squared_error: 9.3868\n",
            "Epoch 17/100\n",
            "51/51 [==============================] - 0s 2ms/step - loss: 6.4203 - root_mean_squared_error: 8.9744\n",
            "Epoch 18/100\n",
            "51/51 [==============================] - 0s 2ms/step - loss: 6.4302 - root_mean_squared_error: 9.2050\n",
            "Epoch 19/100\n",
            "51/51 [==============================] - 0s 2ms/step - loss: 6.4723 - root_mean_squared_error: 9.2208\n",
            "Epoch 20/100\n",
            "51/51 [==============================] - 0s 1ms/step - loss: 6.4822 - root_mean_squared_error: 9.2260\n",
            "Epoch 21/100\n",
            "51/51 [==============================] - 0s 2ms/step - loss: 6.4625 - root_mean_squared_error: 9.1739\n",
            "Epoch 22/100\n",
            "51/51 [==============================] - 0s 2ms/step - loss: 6.5084 - root_mean_squared_error: 9.2223\n",
            "Epoch 23/100\n",
            "51/51 [==============================] - 0s 1ms/step - loss: 6.4404 - root_mean_squared_error: 9.2123\n",
            "Epoch 24/100\n",
            "51/51 [==============================] - 0s 1ms/step - loss: 6.5024 - root_mean_squared_error: 9.3172\n",
            "Epoch 25/100\n",
            "51/51 [==============================] - 0s 2ms/step - loss: 6.5422 - root_mean_squared_error: 9.2984\n",
            "Epoch 26/100\n",
            "51/51 [==============================] - 0s 2ms/step - loss: 6.5549 - root_mean_squared_error: 9.3374\n",
            "Epoch 27/100\n",
            "51/51 [==============================] - 0s 1ms/step - loss: 6.5302 - root_mean_squared_error: 9.3450\n",
            "Epoch 28/100\n",
            "51/51 [==============================] - 0s 2ms/step - loss: 6.3926 - root_mean_squared_error: 9.1364\n",
            "Epoch 29/100\n",
            "51/51 [==============================] - 0s 2ms/step - loss: 6.2807 - root_mean_squared_error: 8.9478\n",
            "Epoch 30/100\n",
            "51/51 [==============================] - 0s 1ms/step - loss: 6.2530 - root_mean_squared_error: 9.0129\n",
            "Epoch 31/100\n",
            "51/51 [==============================] - 0s 1ms/step - loss: 6.4283 - root_mean_squared_error: 9.2321\n",
            "Epoch 32/100\n",
            "51/51 [==============================] - 0s 2ms/step - loss: 6.5008 - root_mean_squared_error: 9.2455\n",
            "Epoch 33/100\n",
            "51/51 [==============================] - 0s 2ms/step - loss: 6.5203 - root_mean_squared_error: 9.1382\n",
            "Epoch 34/100\n",
            "51/51 [==============================] - 0s 2ms/step - loss: 6.4904 - root_mean_squared_error: 9.2180\n",
            "Epoch 35/100\n",
            "51/51 [==============================] - 0s 2ms/step - loss: 6.4488 - root_mean_squared_error: 9.1498\n",
            "Epoch 36/100\n",
            "51/51 [==============================] - 0s 2ms/step - loss: 6.4945 - root_mean_squared_error: 9.2968\n",
            "Epoch 37/100\n",
            "51/51 [==============================] - 0s 2ms/step - loss: 6.4152 - root_mean_squared_error: 9.2413\n",
            "Epoch 38/100\n",
            "51/51 [==============================] - 0s 2ms/step - loss: 6.6125 - root_mean_squared_error: 9.5073\n",
            "Epoch 39/100\n",
            "51/51 [==============================] - 0s 2ms/step - loss: 6.6545 - root_mean_squared_error: 9.3585\n",
            "Epoch 40/100\n",
            "51/51 [==============================] - 0s 2ms/step - loss: 6.6898 - root_mean_squared_error: 9.3821\n",
            "Epoch 41/100\n",
            "51/51 [==============================] - 0s 2ms/step - loss: 6.6113 - root_mean_squared_error: 9.2719\n",
            "Epoch 42/100\n",
            "51/51 [==============================] - 0s 2ms/step - loss: 6.6338 - root_mean_squared_error: 9.4088\n",
            "Epoch 43/100\n",
            "51/51 [==============================] - 0s 2ms/step - loss: 6.6515 - root_mean_squared_error: 9.3717\n",
            "Epoch 44/100\n",
            "51/51 [==============================] - 0s 1ms/step - loss: 6.6259 - root_mean_squared_error: 9.3729\n",
            "Epoch 45/100\n",
            "51/51 [==============================] - 0s 2ms/step - loss: 6.6235 - root_mean_squared_error: 9.4236\n",
            "Epoch 46/100\n",
            "51/51 [==============================] - 0s 2ms/step - loss: 6.6273 - root_mean_squared_error: 9.3807\n",
            "Epoch 47/100\n",
            "51/51 [==============================] - 0s 2ms/step - loss: 6.6502 - root_mean_squared_error: 9.3386\n",
            "Epoch 48/100\n",
            "51/51 [==============================] - 0s 2ms/step - loss: 6.7264 - root_mean_squared_error: 9.4018\n",
            "Epoch 49/100\n",
            "51/51 [==============================] - 0s 2ms/step - loss: 6.6583 - root_mean_squared_error: 9.4095\n",
            "Epoch 50/100\n",
            "51/51 [==============================] - 0s 1ms/step - loss: 6.6444 - root_mean_squared_error: 9.4203\n",
            "Epoch 51/100\n",
            "51/51 [==============================] - 0s 2ms/step - loss: 6.6016 - root_mean_squared_error: 9.3426\n",
            "Epoch 52/100\n",
            "51/51 [==============================] - 0s 2ms/step - loss: 6.6557 - root_mean_squared_error: 9.3686\n",
            "Epoch 53/100\n",
            "51/51 [==============================] - 0s 2ms/step - loss: 6.5883 - root_mean_squared_error: 9.3383\n",
            "Epoch 54/100\n",
            "51/51 [==============================] - 0s 2ms/step - loss: 6.5719 - root_mean_squared_error: 9.3422\n",
            "Epoch 55/100\n",
            "51/51 [==============================] - 0s 2ms/step - loss: 6.5894 - root_mean_squared_error: 9.3417\n",
            "Epoch 56/100\n",
            "51/51 [==============================] - 0s 2ms/step - loss: 6.6255 - root_mean_squared_error: 9.3597\n",
            "Epoch 57/100\n",
            "51/51 [==============================] - 0s 2ms/step - loss: 6.6442 - root_mean_squared_error: 9.3755\n",
            "Epoch 58/100\n",
            "51/51 [==============================] - 0s 2ms/step - loss: 6.6456 - root_mean_squared_error: 9.3793\n",
            "Epoch 59/100\n",
            "51/51 [==============================] - 0s 2ms/step - loss: 6.6466 - root_mean_squared_error: 9.3419\n",
            "Epoch 60/100\n",
            "51/51 [==============================] - 0s 2ms/step - loss: 6.6229 - root_mean_squared_error: 9.4065\n",
            "Epoch 61/100\n",
            "51/51 [==============================] - 0s 2ms/step - loss: 6.6237 - root_mean_squared_error: 9.4023\n",
            "Epoch 62/100\n",
            "51/51 [==============================] - 0s 2ms/step - loss: 6.6420 - root_mean_squared_error: 9.4037\n",
            "Epoch 63/100\n",
            "51/51 [==============================] - 0s 2ms/step - loss: 6.6800 - root_mean_squared_error: 9.3817\n",
            "Epoch 64/100\n",
            "51/51 [==============================] - 0s 1ms/step - loss: 6.6762 - root_mean_squared_error: 9.3836\n",
            "Epoch 65/100\n",
            "51/51 [==============================] - 0s 1ms/step - loss: 6.5901 - root_mean_squared_error: 9.2950\n",
            "Epoch 66/100\n",
            "51/51 [==============================] - 0s 2ms/step - loss: 6.6114 - root_mean_squared_error: 9.3168\n",
            "Epoch 67/100\n",
            "51/51 [==============================] - 0s 2ms/step - loss: 6.6396 - root_mean_squared_error: 9.3961\n",
            "Epoch 68/100\n",
            "51/51 [==============================] - 0s 2ms/step - loss: 6.6491 - root_mean_squared_error: 9.4070\n",
            "Epoch 69/100\n",
            "51/51 [==============================] - 0s 2ms/step - loss: 6.6172 - root_mean_squared_error: 9.3559\n",
            "Epoch 70/100\n",
            "51/51 [==============================] - 0s 1ms/step - loss: 6.6164 - root_mean_squared_error: 9.3446\n",
            "Epoch 71/100\n",
            "51/51 [==============================] - 0s 1ms/step - loss: 6.5778 - root_mean_squared_error: 9.3155\n",
            "Epoch 72/100\n",
            "51/51 [==============================] - 0s 1ms/step - loss: 6.5920 - root_mean_squared_error: 9.4042\n",
            "Epoch 73/100\n",
            "51/51 [==============================] - 0s 2ms/step - loss: 6.5916 - root_mean_squared_error: 9.3210\n",
            "Epoch 74/100\n",
            "51/51 [==============================] - 0s 1ms/step - loss: 6.6456 - root_mean_squared_error: 9.4291\n",
            "Epoch 75/100\n",
            "51/51 [==============================] - 0s 2ms/step - loss: 6.5694 - root_mean_squared_error: 9.3096\n",
            "Epoch 76/100\n",
            "51/51 [==============================] - 0s 2ms/step - loss: 6.6086 - root_mean_squared_error: 9.3791\n",
            "Epoch 77/100\n",
            "51/51 [==============================] - 0s 2ms/step - loss: 6.6413 - root_mean_squared_error: 9.3720\n",
            "Epoch 78/100\n",
            "51/51 [==============================] - 0s 1ms/step - loss: 6.6046 - root_mean_squared_error: 9.3466\n",
            "Epoch 79/100\n",
            "51/51 [==============================] - 0s 2ms/step - loss: 6.6215 - root_mean_squared_error: 9.3241\n",
            "Epoch 80/100\n",
            "51/51 [==============================] - 0s 2ms/step - loss: 6.5527 - root_mean_squared_error: 9.3589\n",
            "Epoch 81/100\n",
            "51/51 [==============================] - 0s 2ms/step - loss: 6.5942 - root_mean_squared_error: 9.3217\n",
            "Epoch 82/100\n",
            "51/51 [==============================] - 0s 2ms/step - loss: 6.6297 - root_mean_squared_error: 9.3807\n",
            "Epoch 83/100\n",
            "51/51 [==============================] - 0s 2ms/step - loss: 6.5985 - root_mean_squared_error: 9.3319\n",
            "Epoch 84/100\n",
            "51/51 [==============================] - 0s 2ms/step - loss: 6.5586 - root_mean_squared_error: 9.3652\n",
            "Epoch 85/100\n",
            "51/51 [==============================] - 0s 2ms/step - loss: 6.6644 - root_mean_squared_error: 9.3545\n",
            "Epoch 86/100\n",
            "51/51 [==============================] - 0s 2ms/step - loss: 6.6036 - root_mean_squared_error: 9.3990\n",
            "Epoch 87/100\n",
            "51/51 [==============================] - 0s 2ms/step - loss: 6.6189 - root_mean_squared_error: 9.3472\n",
            "Epoch 88/100\n",
            "51/51 [==============================] - 0s 2ms/step - loss: 6.6040 - root_mean_squared_error: 9.3744\n",
            "Epoch 89/100\n",
            "51/51 [==============================] - 0s 2ms/step - loss: 6.5469 - root_mean_squared_error: 9.3298\n",
            "Epoch 90/100\n",
            "51/51 [==============================] - 0s 2ms/step - loss: 6.5343 - root_mean_squared_error: 9.2766\n",
            "Epoch 91/100\n",
            "51/51 [==============================] - 0s 2ms/step - loss: 6.6231 - root_mean_squared_error: 9.3643\n",
            "Epoch 92/100\n",
            "51/51 [==============================] - 0s 2ms/step - loss: 6.5882 - root_mean_squared_error: 9.4063\n",
            "Epoch 93/100\n",
            "51/51 [==============================] - 0s 2ms/step - loss: 6.5944 - root_mean_squared_error: 9.3291\n",
            "Epoch 94/100\n",
            "51/51 [==============================] - 0s 2ms/step - loss: 6.6025 - root_mean_squared_error: 9.3392\n",
            "Epoch 95/100\n",
            "51/51 [==============================] - 0s 2ms/step - loss: 6.6073 - root_mean_squared_error: 9.3472\n",
            "Epoch 96/100\n",
            "51/51 [==============================] - 0s 2ms/step - loss: 6.6097 - root_mean_squared_error: 9.3481\n",
            "Epoch 97/100\n",
            "51/51 [==============================] - 0s 2ms/step - loss: 6.6573 - root_mean_squared_error: 9.3556\n",
            "Epoch 98/100\n",
            "51/51 [==============================] - 0s 2ms/step - loss: 6.5729 - root_mean_squared_error: 9.3413\n",
            "Epoch 99/100\n",
            "51/51 [==============================] - 0s 2ms/step - loss: 6.6249 - root_mean_squared_error: 9.4046\n",
            "Epoch 100/100\n",
            "51/51 [==============================] - 0s 1ms/step - loss: 6.6037 - root_mean_squared_error: 9.3680\n"
          ]
        }
      ]
    },
    {
      "cell_type": "code",
      "metadata": {
        "colab": {
          "base_uri": "https://localhost:8080/"
        },
        "id": "qCYduCmkBN2U",
        "outputId": "5b9c289d-f3e5-4d10-91dc-fb6a1c4ce4fc"
      },
      "source": [
        "print(result.history.keys())"
      ],
      "execution_count": 11,
      "outputs": [
        {
          "output_type": "stream",
          "name": "stdout",
          "text": [
            "dict_keys(['loss', 'root_mean_squared_error'])\n"
          ]
        }
      ]
    },
    {
      "cell_type": "code",
      "metadata": {
        "colab": {
          "base_uri": "https://localhost:8080/",
          "height": 313
        },
        "id": "FQVmg4bFJ7fB",
        "outputId": "17ee83fd-ca8d-424e-d1d6-47cee3f38483"
      },
      "source": [
        "loss = result.history['loss']\n",
        "\n",
        "epochs = range(1, len(loss)+1)\n",
        "plt.subplot(211)\n",
        "plt.plot(epochs, loss, 'b-', label='Training loss')\n",
        "plt.title('Training loss')\n",
        "plt.xlabel('Epochs')\n",
        "plt.ylabel('Loss')\n",
        "plt.legend()\n",
        "\n",
        "mae = result.history['root_mean_squared_error']\n",
        "epochs = range(1, len(mae)+1)\n",
        "\n",
        "plt.subplot(212)\n",
        "plt.plot(epochs, mae, 'r-', label='Training mae')\n",
        "plt.title('Training rmse')\n",
        "plt.xlabel('Epochs')\n",
        "plt.ylabel('rmse')\n",
        "plt.legend()"
      ],
      "execution_count": 15,
      "outputs": [
        {
          "output_type": "execute_result",
          "data": {
            "text/plain": [
              "<matplotlib.legend.Legend at 0x7f4cf38cb450>"
            ]
          },
          "metadata": {},
          "execution_count": 15
        },
        {
          "output_type": "display_data",
          "data": {
            "image/png": "[encoded data removed]",
            "text/plain": [
              "<Figure size 432x288 with 2 Axes>"
            ]
          },
          "metadata": {
            "needs_background": "light"
          }
        }
      ]
    },
    {
      "cell_type": "code",
      "metadata": {
        "colab": {
          "base_uri": "https://localhost:8080/"
        },
        "id": "QQVsuU8sKq2L",
        "outputId": "7e698d7b-b893-45ad-a984-43ce2a9717e9"
      },
      "source": [
        "print(model.evaluate(x_data, y_data))\n",
        "print(\"\\n Test rmse : %.4f\" % (model.evaluate(x_data, y_data)[1]))"
      ],
      "execution_count": 16,
      "outputs": [
        {
          "output_type": "stream",
          "name": "stdout",
          "text": [
            "16/16 [==============================] - 0s 2ms/step - loss: 6.5312 - root_mean_squared_error: 9.2910\n",
            "[6.531200408935547, 9.291031837463379]\n",
            "16/16 [==============================] - 0s 2ms/step - loss: 6.5312 - root_mean_squared_error: 9.2910\n",
            "\n",
            " Test rmse : 9.2910\n"
          ]
        }
      ]
    }
  ]
}