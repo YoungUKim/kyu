{
  "nbformat": 4,
  "nbformat_minor": 0,
  "metadata": {
    "colab": {
      "name": "오후3.ipynb",
      "provenance": []
    },
    "kernelspec": {
      "name": "python3",
      "display_name": "Python 3"
    },
    "language_info": {
      "name": "python"
    }
  },
  "cells": [
    {
      "cell_type": "code",
      "metadata": {
        "id": "i5f-6lF1H4g2"
      },
      "source": [
        "import pandas as pd\n",
        "import numpy as np\n",
        "import matplotlib.pyplot as plt"
      ],
      "execution_count": null,
      "outputs": []
    },
    {
      "cell_type": "code",
      "metadata": {
        "id": "75EvxF9DIDKn"
      },
      "source": [
        "data = pd.read_csv('/content/iris.csv', names= ['sepal_length','sepal_width','petal_length','petal_width','class_name'])"
      ],
      "execution_count": null,
      "outputs": []
    },
    {
      "cell_type": "code",
      "metadata": {
        "colab": {
          "base_uri": "https://localhost:8080/"
        },
        "id": "GiMLtqxvIRTN",
        "outputId": "13df1316-cf6d-4dba-c667-eaaf35be483e"
      },
      "source": [
        "dataset = data.copy()\n",
        "label_data = dataset.pop('class_name')\n",
        "print(dataset)\n",
        "print(label_data)"
      ],
      "execution_count": null,
      "outputs": [
        {
          "output_type": "stream",
          "name": "stdout",
          "text": [
            "     sepal_length  sepal_width  petal_length  petal_width\n",
            "0             5.1          3.5           1.4          0.2\n",
            "1             4.9          3.0           1.4          0.2\n",
            "2             4.7          3.2           1.3          0.2\n",
            "3             4.6          3.1           1.5          0.2\n",
            "4             5.0          3.6           1.4          0.2\n",
            "..            ...          ...           ...          ...\n",
            "145           6.7          3.0           5.2          2.3\n",
            "146           6.3          2.5           5.0          1.9\n",
            "147           6.5          3.0           5.2          2.0\n",
            "148           6.2          3.4           5.4          2.3\n",
            "149           5.9          3.0           5.1          1.8\n",
            "\n",
            "[150 rows x 4 columns]\n",
            "0         Iris-setosa\n",
            "1         Iris-setosa\n",
            "2         Iris-setosa\n",
            "3         Iris-setosa\n",
            "4         Iris-setosa\n",
            "            ...      \n",
            "145    Iris-virginica\n",
            "146    Iris-virginica\n",
            "147    Iris-virginica\n",
            "148    Iris-virginica\n",
            "149    Iris-virginica\n",
            "Name: class_name, Length: 150, dtype: object\n"
          ]
        }
      ]
    },
    {
      "cell_type": "code",
      "metadata": {
        "id": "l7GzdHg5JW2b"
      },
      "source": [
        "from sklearn.preprocessing import LabelEncoder\n",
        "from sklearn.model_selection import train_test_split\n",
        "import tensorflow as tf"
      ],
      "execution_count": null,
      "outputs": []
    },
    {
      "cell_type": "code",
      "metadata": {
        "colab": {
          "base_uri": "https://localhost:8080/"
        },
        "id": "bOfVibYgJq9b",
        "outputId": "11a84cf2-9641-417c-d7ac-f865b8ccb791"
      },
      "source": [
        "e = LabelEncoder()\n",
        "e.fit(label_data)\n",
        "Y = e.transform(label_data)\n",
        "Y_encorded = tf.keras.utils.to_categorical(Y)\n",
        "\n",
        "print(Y_encorded)"
      ],
      "execution_count": null,
      "outputs": [
        {
          "output_type": "stream",
          "name": "stdout",
          "text": [
            "[[1. 0. 0.]\n",
            " [1. 0. 0.]\n",
            " [1. 0. 0.]\n",
            " [1. 0. 0.]\n",
            " [1. 0. 0.]\n",
            " [1. 0. 0.]\n",
            " [1. 0. 0.]\n",
            " [1. 0. 0.]\n",
            " [1. 0. 0.]\n",
            " [1. 0. 0.]\n",
            " [1. 0. 0.]\n",
            " [1. 0. 0.]\n",
            " [1. 0. 0.]\n",
            " [1. 0. 0.]\n",
            " [1. 0. 0.]\n",
            " [1. 0. 0.]\n",
            " [1. 0. 0.]\n",
            " [1. 0. 0.]\n",
            " [1. 0. 0.]\n",
            " [1. 0. 0.]\n",
            " [1. 0. 0.]\n",
            " [1. 0. 0.]\n",
            " [1. 0. 0.]\n",
            " [1. 0. 0.]\n",
            " [1. 0. 0.]\n",
            " [1. 0. 0.]\n",
            " [1. 0. 0.]\n",
            " [1. 0. 0.]\n",
            " [1. 0. 0.]\n",
            " [1. 0. 0.]\n",
            " [1. 0. 0.]\n",
            " [1. 0. 0.]\n",
            " [1. 0. 0.]\n",
            " [1. 0. 0.]\n",
            " [1. 0. 0.]\n",
            " [1. 0. 0.]\n",
            " [1. 0. 0.]\n",
            " [1. 0. 0.]\n",
            " [1. 0. 0.]\n",
            " [1. 0. 0.]\n",
            " [1. 0. 0.]\n",
            " [1. 0. 0.]\n",
            " [1. 0. 0.]\n",
            " [1. 0. 0.]\n",
            " [1. 0. 0.]\n",
            " [1. 0. 0.]\n",
            " [1. 0. 0.]\n",
            " [1. 0. 0.]\n",
            " [1. 0. 0.]\n",
            " [1. 0. 0.]\n",
            " [0. 1. 0.]\n",
            " [0. 1. 0.]\n",
            " [0. 1. 0.]\n",
            " [0. 1. 0.]\n",
            " [0. 1. 0.]\n",
            " [0. 1. 0.]\n",
            " [0. 1. 0.]\n",
            " [0. 1. 0.]\n",
            " [0. 1. 0.]\n",
            " [0. 1. 0.]\n",
            " [0. 1. 0.]\n",
            " [0. 1. 0.]\n",
            " [0. 1. 0.]\n",
            " [0. 1. 0.]\n",
            " [0. 1. 0.]\n",
            " [0. 1. 0.]\n",
            " [0. 1. 0.]\n",
            " [0. 1. 0.]\n",
            " [0. 1. 0.]\n",
            " [0. 1. 0.]\n",
            " [0. 1. 0.]\n",
            " [0. 1. 0.]\n",
            " [0. 1. 0.]\n",
            " [0. 1. 0.]\n",
            " [0. 1. 0.]\n",
            " [0. 1. 0.]\n",
            " [0. 1. 0.]\n",
            " [0. 1. 0.]\n",
            " [0. 1. 0.]\n",
            " [0. 1. 0.]\n",
            " [0. 1. 0.]\n",
            " [0. 1. 0.]\n",
            " [0. 1. 0.]\n",
            " [0. 1. 0.]\n",
            " [0. 1. 0.]\n",
            " [0. 1. 0.]\n",
            " [0. 1. 0.]\n",
            " [0. 1. 0.]\n",
            " [0. 1. 0.]\n",
            " [0. 1. 0.]\n",
            " [0. 1. 0.]\n",
            " [0. 1. 0.]\n",
            " [0. 1. 0.]\n",
            " [0. 1. 0.]\n",
            " [0. 1. 0.]\n",
            " [0. 1. 0.]\n",
            " [0. 1. 0.]\n",
            " [0. 1. 0.]\n",
            " [0. 1. 0.]\n",
            " [0. 1. 0.]\n",
            " [0. 0. 1.]\n",
            " [0. 0. 1.]\n",
            " [0. 0. 1.]\n",
            " [0. 0. 1.]\n",
            " [0. 0. 1.]\n",
            " [0. 0. 1.]\n",
            " [0. 0. 1.]\n",
            " [0. 0. 1.]\n",
            " [0. 0. 1.]\n",
            " [0. 0. 1.]\n",
            " [0. 0. 1.]\n",
            " [0. 0. 1.]\n",
            " [0. 0. 1.]\n",
            " [0. 0. 1.]\n",
            " [0. 0. 1.]\n",
            " [0. 0. 1.]\n",
            " [0. 0. 1.]\n",
            " [0. 0. 1.]\n",
            " [0. 0. 1.]\n",
            " [0. 0. 1.]\n",
            " [0. 0. 1.]\n",
            " [0. 0. 1.]\n",
            " [0. 0. 1.]\n",
            " [0. 0. 1.]\n",
            " [0. 0. 1.]\n",
            " [0. 0. 1.]\n",
            " [0. 0. 1.]\n",
            " [0. 0. 1.]\n",
            " [0. 0. 1.]\n",
            " [0. 0. 1.]\n",
            " [0. 0. 1.]\n",
            " [0. 0. 1.]\n",
            " [0. 0. 1.]\n",
            " [0. 0. 1.]\n",
            " [0. 0. 1.]\n",
            " [0. 0. 1.]\n",
            " [0. 0. 1.]\n",
            " [0. 0. 1.]\n",
            " [0. 0. 1.]\n",
            " [0. 0. 1.]\n",
            " [0. 0. 1.]\n",
            " [0. 0. 1.]\n",
            " [0. 0. 1.]\n",
            " [0. 0. 1.]\n",
            " [0. 0. 1.]\n",
            " [0. 0. 1.]\n",
            " [0. 0. 1.]\n",
            " [0. 0. 1.]\n",
            " [0. 0. 1.]\n",
            " [0. 0. 1.]]\n"
          ]
        }
      ]
    },
    {
      "cell_type": "code",
      "metadata": {
        "colab": {
          "base_uri": "https://localhost:8080/"
        },
        "id": "P2uymPfnK-r8",
        "outputId": "782f810b-4695-4ca2-a0d5-2e082b17bd33"
      },
      "source": [
        "X_train1, X_test, Y_train1, Y_test = train_test_split(dataset, Y_encorded, test_size=0.1, shuffle=True)\n",
        "X_train, X_val, Y_train, Y_val = train_test_split(X_train1, Y_train1, test_size=0.2, shuffle=True)\n",
        "\n",
        "print(X_train.shape)\n",
        "print(Y_train.shape)"
      ],
      "execution_count": null,
      "outputs": [
        {
          "output_type": "stream",
          "name": "stdout",
          "text": [
            "(108, 4)\n",
            "(108, 3)\n"
          ]
        }
      ]
    },
    {
      "cell_type": "code",
      "metadata": {
        "colab": {
          "base_uri": "https://localhost:8080/"
        },
        "id": "SYZfpVFQLjQb",
        "outputId": "0482391a-00f7-450a-dbdd-1c6c2b1c9d1c"
      },
      "source": [
        "input_layer = tf.keras.layers.Input(shape=(4,))\n",
        "x = tf.keras.layers.Dense(16, activation='sigmoid')(input_layer)\n",
        "x = tf.keras.layers.Dense(32, activation='sigmoid')(x)\n",
        "output_layer = tf.keras.layers.Dense(3, activation='softmax')(x)\n",
        "\n",
        "model = tf.keras.models.Model(inputs=[input_layer], outputs = [output_layer])\n",
        "model.summary()"
      ],
      "execution_count": null,
      "outputs": [
        {
          "output_type": "stream",
          "name": "stdout",
          "text": [
            "Model: \"model_4\"\n",
            "_________________________________________________________________\n",
            "Layer (type)                 Output Shape              Param #   \n",
            "=================================================================\n",
            "input_5 (InputLayer)         [(None, 4)]               0         \n",
            "_________________________________________________________________\n",
            "dense_12 (Dense)             (None, 16)                80        \n",
            "_________________________________________________________________\n",
            "dense_13 (Dense)             (None, 32)                544       \n",
            "_________________________________________________________________\n",
            "dense_14 (Dense)             (None, 3)                 99        \n",
            "=================================================================\n",
            "Total params: 723\n",
            "Trainable params: 723\n",
            "Non-trainable params: 0\n",
            "_________________________________________________________________\n"
          ]
        }
      ]
    },
    {
      "cell_type": "code",
      "metadata": {
        "id": "uCsZxVbFM7EQ"
      },
      "source": [
        "loss = tf.keras.losses.categorical_crossentropy\n",
        "optimizer = tf.keras.optimizers.SGD(learning_rate=0.01)\n",
        "metrics = tf.keras.metrics.categorical_accuracy\n",
        "\n",
        "model.compile(loss=loss, optimizer=optimizer, metrics=[metrics])"
      ],
      "execution_count": null,
      "outputs": []
    },
    {
      "cell_type": "code",
      "metadata": {
        "colab": {
          "base_uri": "https://localhost:8080/"
        },
        "id": "H2Lz62dONXau",
        "outputId": "329e5173-be17-46c6-df18-a95f1af531fe"
      },
      "source": [
        "result = model.fit(X_train, Y_train, epochs=200, batch_size=50, validation_data=(X_val, Y_val))"
      ],
      "execution_count": null,
      "outputs": [
        {
          "output_type": "stream",
          "name": "stdout",
          "text": [
            "Epoch 1/200\n",
            "3/3 [==============================] - 0s 77ms/step - loss: 1.1463 - categorical_accuracy: 0.3611 - val_loss: 1.2136 - val_categorical_accuracy: 0.2222\n",
            "Epoch 2/200\n",
            "3/3 [==============================] - 0s 8ms/step - loss: 1.1333 - categorical_accuracy: 0.3611 - val_loss: 1.1898 - val_categorical_accuracy: 0.2222\n",
            "Epoch 3/200\n",
            "3/3 [==============================] - 0s 11ms/step - loss: 1.1215 - categorical_accuracy: 0.3611 - val_loss: 1.1740 - val_categorical_accuracy: 0.2222\n",
            "Epoch 4/200\n",
            "3/3 [==============================] - 0s 9ms/step - loss: 1.1152 - categorical_accuracy: 0.3611 - val_loss: 1.1657 - val_categorical_accuracy: 0.2222\n",
            "Epoch 5/200\n",
            "3/3 [==============================] - 0s 19ms/step - loss: 1.1094 - categorical_accuracy: 0.3611 - val_loss: 1.1639 - val_categorical_accuracy: 0.2222\n",
            "Epoch 6/200\n",
            "3/3 [==============================] - 0s 10ms/step - loss: 1.1054 - categorical_accuracy: 0.3611 - val_loss: 1.1535 - val_categorical_accuracy: 0.2222\n",
            "Epoch 7/200\n",
            "3/3 [==============================] - 0s 9ms/step - loss: 1.1004 - categorical_accuracy: 0.3611 - val_loss: 1.1450 - val_categorical_accuracy: 0.2222\n",
            "Epoch 8/200\n",
            "3/3 [==============================] - 0s 13ms/step - loss: 1.0972 - categorical_accuracy: 0.3611 - val_loss: 1.1416 - val_categorical_accuracy: 0.2222\n",
            "Epoch 9/200\n",
            "3/3 [==============================] - 0s 14ms/step - loss: 1.0950 - categorical_accuracy: 0.3611 - val_loss: 1.1388 - val_categorical_accuracy: 0.2222\n",
            "Epoch 10/200\n",
            "3/3 [==============================] - 0s 10ms/step - loss: 1.0932 - categorical_accuracy: 0.3611 - val_loss: 1.1401 - val_categorical_accuracy: 0.2222\n",
            "Epoch 11/200\n",
            "3/3 [==============================] - 0s 11ms/step - loss: 1.0932 - categorical_accuracy: 0.3611 - val_loss: 1.1393 - val_categorical_accuracy: 0.2222\n",
            "Epoch 12/200\n",
            "3/3 [==============================] - 0s 11ms/step - loss: 1.0904 - categorical_accuracy: 0.3611 - val_loss: 1.1394 - val_categorical_accuracy: 0.2222\n",
            "Epoch 13/200\n",
            "3/3 [==============================] - 0s 11ms/step - loss: 1.0902 - categorical_accuracy: 0.3611 - val_loss: 1.1394 - val_categorical_accuracy: 0.2222\n",
            "Epoch 14/200\n",
            "3/3 [==============================] - 0s 10ms/step - loss: 1.0897 - categorical_accuracy: 0.3611 - val_loss: 1.1389 - val_categorical_accuracy: 0.2222\n",
            "Epoch 15/200\n",
            "3/3 [==============================] - 0s 10ms/step - loss: 1.0885 - categorical_accuracy: 0.3611 - val_loss: 1.1369 - val_categorical_accuracy: 0.2222\n",
            "Epoch 16/200\n",
            "3/3 [==============================] - 0s 11ms/step - loss: 1.0884 - categorical_accuracy: 0.3611 - val_loss: 1.1296 - val_categorical_accuracy: 0.2222\n",
            "Epoch 17/200\n",
            "3/3 [==============================] - 0s 10ms/step - loss: 1.0867 - categorical_accuracy: 0.3611 - val_loss: 1.1289 - val_categorical_accuracy: 0.2222\n",
            "Epoch 18/200\n",
            "3/3 [==============================] - 0s 10ms/step - loss: 1.0861 - categorical_accuracy: 0.3611 - val_loss: 1.1303 - val_categorical_accuracy: 0.2222\n",
            "Epoch 19/200\n",
            "3/3 [==============================] - 0s 10ms/step - loss: 1.0863 - categorical_accuracy: 0.3611 - val_loss: 1.1295 - val_categorical_accuracy: 0.2222\n",
            "Epoch 20/200\n",
            "3/3 [==============================] - 0s 10ms/step - loss: 1.0857 - categorical_accuracy: 0.3611 - val_loss: 1.1362 - val_categorical_accuracy: 0.2222\n",
            "Epoch 21/200\n",
            "3/3 [==============================] - 0s 11ms/step - loss: 1.0855 - categorical_accuracy: 0.3611 - val_loss: 1.1369 - val_categorical_accuracy: 0.2222\n",
            "Epoch 22/200\n",
            "3/3 [==============================] - 0s 14ms/step - loss: 1.0857 - categorical_accuracy: 0.3611 - val_loss: 1.1260 - val_categorical_accuracy: 0.2222\n",
            "Epoch 23/200\n",
            "3/3 [==============================] - 0s 11ms/step - loss: 1.0843 - categorical_accuracy: 0.3611 - val_loss: 1.1308 - val_categorical_accuracy: 0.2222\n",
            "Epoch 24/200\n",
            "3/3 [==============================] - 0s 13ms/step - loss: 1.0842 - categorical_accuracy: 0.3611 - val_loss: 1.1281 - val_categorical_accuracy: 0.2222\n",
            "Epoch 25/200\n",
            "3/3 [==============================] - 0s 13ms/step - loss: 1.0840 - categorical_accuracy: 0.3611 - val_loss: 1.1328 - val_categorical_accuracy: 0.2222\n",
            "Epoch 26/200\n",
            "3/3 [==============================] - 0s 10ms/step - loss: 1.0843 - categorical_accuracy: 0.3611 - val_loss: 1.1333 - val_categorical_accuracy: 0.2222\n",
            "Epoch 27/200\n",
            "3/3 [==============================] - 0s 9ms/step - loss: 1.0841 - categorical_accuracy: 0.3611 - val_loss: 1.1213 - val_categorical_accuracy: 0.2222\n",
            "Epoch 28/200\n",
            "3/3 [==============================] - 0s 8ms/step - loss: 1.0829 - categorical_accuracy: 0.3611 - val_loss: 1.1229 - val_categorical_accuracy: 0.2222\n",
            "Epoch 29/200\n",
            "3/3 [==============================] - 0s 9ms/step - loss: 1.0828 - categorical_accuracy: 0.3611 - val_loss: 1.1209 - val_categorical_accuracy: 0.2222\n",
            "Epoch 30/200\n",
            "3/3 [==============================] - 0s 9ms/step - loss: 1.0821 - categorical_accuracy: 0.3611 - val_loss: 1.1142 - val_categorical_accuracy: 0.2222\n",
            "Epoch 31/200\n",
            "3/3 [==============================] - 0s 9ms/step - loss: 1.0821 - categorical_accuracy: 0.3611 - val_loss: 1.1165 - val_categorical_accuracy: 0.3704\n",
            "Epoch 32/200\n",
            "3/3 [==============================] - 0s 9ms/step - loss: 1.0815 - categorical_accuracy: 0.4352 - val_loss: 1.1168 - val_categorical_accuracy: 0.4815\n",
            "Epoch 33/200\n",
            "3/3 [==============================] - 0s 9ms/step - loss: 1.0819 - categorical_accuracy: 0.4722 - val_loss: 1.1210 - val_categorical_accuracy: 0.5556\n",
            "Epoch 34/200\n",
            "3/3 [==============================] - 0s 10ms/step - loss: 1.0812 - categorical_accuracy: 0.7037 - val_loss: 1.1143 - val_categorical_accuracy: 0.5556\n",
            "Epoch 35/200\n",
            "3/3 [==============================] - 0s 9ms/step - loss: 1.0816 - categorical_accuracy: 0.7037 - val_loss: 1.1111 - val_categorical_accuracy: 0.5556\n",
            "Epoch 36/200\n",
            "3/3 [==============================] - 0s 9ms/step - loss: 1.0809 - categorical_accuracy: 0.7037 - val_loss: 1.1112 - val_categorical_accuracy: 0.5556\n",
            "Epoch 37/200\n",
            "3/3 [==============================] - 0s 11ms/step - loss: 1.0809 - categorical_accuracy: 0.6759 - val_loss: 1.1090 - val_categorical_accuracy: 0.5556\n",
            "Epoch 38/200\n",
            "3/3 [==============================] - 0s 10ms/step - loss: 1.0807 - categorical_accuracy: 0.6019 - val_loss: 1.1120 - val_categorical_accuracy: 0.5556\n",
            "Epoch 39/200\n",
            "3/3 [==============================] - 0s 10ms/step - loss: 1.0801 - categorical_accuracy: 0.6759 - val_loss: 1.1106 - val_categorical_accuracy: 0.5556\n",
            "Epoch 40/200\n",
            "3/3 [==============================] - 0s 12ms/step - loss: 1.0795 - categorical_accuracy: 0.7037 - val_loss: 1.1102 - val_categorical_accuracy: 0.5556\n",
            "Epoch 41/200\n",
            "3/3 [==============================] - 0s 9ms/step - loss: 1.0793 - categorical_accuracy: 0.6574 - val_loss: 1.1071 - val_categorical_accuracy: 0.5556\n",
            "Epoch 42/200\n",
            "3/3 [==============================] - 0s 9ms/step - loss: 1.0798 - categorical_accuracy: 0.7037 - val_loss: 1.1081 - val_categorical_accuracy: 0.5556\n",
            "Epoch 43/200\n",
            "3/3 [==============================] - 0s 18ms/step - loss: 1.0786 - categorical_accuracy: 0.7037 - val_loss: 1.1136 - val_categorical_accuracy: 0.5556\n",
            "Epoch 44/200\n",
            "3/3 [==============================] - 0s 12ms/step - loss: 1.0780 - categorical_accuracy: 0.7037 - val_loss: 1.1154 - val_categorical_accuracy: 0.4815\n",
            "Epoch 45/200\n",
            "3/3 [==============================] - 0s 10ms/step - loss: 1.0781 - categorical_accuracy: 0.5370 - val_loss: 1.1153 - val_categorical_accuracy: 0.2222\n",
            "Epoch 46/200\n",
            "3/3 [==============================] - 0s 9ms/step - loss: 1.0777 - categorical_accuracy: 0.3611 - val_loss: 1.1186 - val_categorical_accuracy: 0.2222\n",
            "Epoch 47/200\n",
            "3/3 [==============================] - 0s 9ms/step - loss: 1.0780 - categorical_accuracy: 0.3611 - val_loss: 1.1219 - val_categorical_accuracy: 0.2222\n",
            "Epoch 48/200\n",
            "3/3 [==============================] - 0s 11ms/step - loss: 1.0789 - categorical_accuracy: 0.3611 - val_loss: 1.1210 - val_categorical_accuracy: 0.2222\n",
            "Epoch 49/200\n",
            "3/3 [==============================] - 0s 10ms/step - loss: 1.0773 - categorical_accuracy: 0.3611 - val_loss: 1.1151 - val_categorical_accuracy: 0.2222\n",
            "Epoch 50/200\n",
            "3/3 [==============================] - 0s 10ms/step - loss: 1.0764 - categorical_accuracy: 0.3611 - val_loss: 1.1117 - val_categorical_accuracy: 0.2222\n",
            "Epoch 51/200\n",
            "3/3 [==============================] - 0s 10ms/step - loss: 1.0762 - categorical_accuracy: 0.3704 - val_loss: 1.1087 - val_categorical_accuracy: 0.2222\n",
            "Epoch 52/200\n",
            "3/3 [==============================] - 0s 9ms/step - loss: 1.0759 - categorical_accuracy: 0.3611 - val_loss: 1.1094 - val_categorical_accuracy: 0.5556\n",
            "Epoch 53/200\n",
            "3/3 [==============================] - 0s 9ms/step - loss: 1.0761 - categorical_accuracy: 0.5370 - val_loss: 1.1048 - val_categorical_accuracy: 0.2222\n",
            "Epoch 54/200\n",
            "3/3 [==============================] - 0s 10ms/step - loss: 1.0760 - categorical_accuracy: 0.4630 - val_loss: 1.1010 - val_categorical_accuracy: 0.2593\n",
            "Epoch 55/200\n",
            "3/3 [==============================] - 0s 10ms/step - loss: 1.0754 - categorical_accuracy: 0.3704 - val_loss: 1.0976 - val_categorical_accuracy: 0.4074\n",
            "Epoch 56/200\n",
            "3/3 [==============================] - 0s 10ms/step - loss: 1.0756 - categorical_accuracy: 0.5278 - val_loss: 1.0975 - val_categorical_accuracy: 0.5556\n",
            "Epoch 57/200\n",
            "3/3 [==============================] - 0s 15ms/step - loss: 1.0747 - categorical_accuracy: 0.7037 - val_loss: 1.1037 - val_categorical_accuracy: 0.5556\n",
            "Epoch 58/200\n",
            "3/3 [==============================] - 0s 12ms/step - loss: 1.0740 - categorical_accuracy: 0.7037 - val_loss: 1.1014 - val_categorical_accuracy: 0.5556\n",
            "Epoch 59/200\n",
            "3/3 [==============================] - 0s 11ms/step - loss: 1.0739 - categorical_accuracy: 0.7037 - val_loss: 1.0981 - val_categorical_accuracy: 0.5556\n",
            "Epoch 60/200\n",
            "3/3 [==============================] - 0s 10ms/step - loss: 1.0736 - categorical_accuracy: 0.7037 - val_loss: 1.0962 - val_categorical_accuracy: 0.5556\n",
            "Epoch 61/200\n",
            "3/3 [==============================] - 0s 10ms/step - loss: 1.0737 - categorical_accuracy: 0.7037 - val_loss: 1.1038 - val_categorical_accuracy: 0.5556\n",
            "Epoch 62/200\n",
            "3/3 [==============================] - 0s 10ms/step - loss: 1.0727 - categorical_accuracy: 0.7037 - val_loss: 1.1096 - val_categorical_accuracy: 0.5556\n",
            "Epoch 63/200\n",
            "3/3 [==============================] - 0s 11ms/step - loss: 1.0723 - categorical_accuracy: 0.7037 - val_loss: 1.1132 - val_categorical_accuracy: 0.5556\n",
            "Epoch 64/200\n",
            "3/3 [==============================] - 0s 11ms/step - loss: 1.0727 - categorical_accuracy: 0.7037 - val_loss: 1.1117 - val_categorical_accuracy: 0.5556\n",
            "Epoch 65/200\n",
            "3/3 [==============================] - 0s 10ms/step - loss: 1.0720 - categorical_accuracy: 0.7037 - val_loss: 1.1182 - val_categorical_accuracy: 0.2963\n",
            "Epoch 66/200\n",
            "3/3 [==============================] - 0s 13ms/step - loss: 1.0726 - categorical_accuracy: 0.5093 - val_loss: 1.1209 - val_categorical_accuracy: 0.2222\n",
            "Epoch 67/200\n",
            "3/3 [==============================] - 0s 10ms/step - loss: 1.0723 - categorical_accuracy: 0.3611 - val_loss: 1.1163 - val_categorical_accuracy: 0.2222\n",
            "Epoch 68/200\n",
            "3/3 [==============================] - 0s 9ms/step - loss: 1.0711 - categorical_accuracy: 0.3611 - val_loss: 1.1138 - val_categorical_accuracy: 0.2222\n",
            "Epoch 69/200\n",
            "3/3 [==============================] - 0s 9ms/step - loss: 1.0708 - categorical_accuracy: 0.3611 - val_loss: 1.1168 - val_categorical_accuracy: 0.2222\n",
            "Epoch 70/200\n",
            "3/3 [==============================] - 0s 12ms/step - loss: 1.0706 - categorical_accuracy: 0.3611 - val_loss: 1.1074 - val_categorical_accuracy: 0.3704\n",
            "Epoch 71/200\n",
            "3/3 [==============================] - 0s 9ms/step - loss: 1.0703 - categorical_accuracy: 0.3796 - val_loss: 1.1093 - val_categorical_accuracy: 0.5556\n",
            "Epoch 72/200\n",
            "3/3 [==============================] - 0s 12ms/step - loss: 1.0696 - categorical_accuracy: 0.7037 - val_loss: 1.1107 - val_categorical_accuracy: 0.2222\n",
            "Epoch 73/200\n",
            "3/3 [==============================] - 0s 14ms/step - loss: 1.0694 - categorical_accuracy: 0.3611 - val_loss: 1.1087 - val_categorical_accuracy: 0.2222\n",
            "Epoch 74/200\n",
            "3/3 [==============================] - 0s 11ms/step - loss: 1.0694 - categorical_accuracy: 0.3611 - val_loss: 1.1019 - val_categorical_accuracy: 0.4074\n",
            "Epoch 75/200\n",
            "3/3 [==============================] - 0s 11ms/step - loss: 1.0693 - categorical_accuracy: 0.4444 - val_loss: 1.0978 - val_categorical_accuracy: 0.5556\n",
            "Epoch 76/200\n",
            "3/3 [==============================] - 0s 11ms/step - loss: 1.0687 - categorical_accuracy: 0.7037 - val_loss: 1.1019 - val_categorical_accuracy: 0.5556\n",
            "Epoch 77/200\n",
            "3/3 [==============================] - 0s 13ms/step - loss: 1.0678 - categorical_accuracy: 0.7037 - val_loss: 1.1029 - val_categorical_accuracy: 0.5556\n",
            "Epoch 78/200\n",
            "3/3 [==============================] - 0s 10ms/step - loss: 1.0675 - categorical_accuracy: 0.7037 - val_loss: 1.1063 - val_categorical_accuracy: 0.5556\n",
            "Epoch 79/200\n",
            "3/3 [==============================] - 0s 11ms/step - loss: 1.0677 - categorical_accuracy: 0.7037 - val_loss: 1.1129 - val_categorical_accuracy: 0.2222\n",
            "Epoch 80/200\n",
            "3/3 [==============================] - 0s 14ms/step - loss: 1.0673 - categorical_accuracy: 0.3611 - val_loss: 1.1071 - val_categorical_accuracy: 0.5556\n",
            "Epoch 81/200\n",
            "3/3 [==============================] - 0s 11ms/step - loss: 1.0665 - categorical_accuracy: 0.7037 - val_loss: 1.1052 - val_categorical_accuracy: 0.5185\n",
            "Epoch 82/200\n",
            "3/3 [==============================] - 0s 12ms/step - loss: 1.0659 - categorical_accuracy: 0.7037 - val_loss: 1.1068 - val_categorical_accuracy: 0.4074\n",
            "Epoch 83/200\n",
            "3/3 [==============================] - 0s 12ms/step - loss: 1.0660 - categorical_accuracy: 0.5278 - val_loss: 1.1085 - val_categorical_accuracy: 0.5556\n",
            "Epoch 84/200\n",
            "3/3 [==============================] - 0s 11ms/step - loss: 1.0663 - categorical_accuracy: 0.7037 - val_loss: 1.1080 - val_categorical_accuracy: 0.2963\n",
            "Epoch 85/200\n",
            "3/3 [==============================] - 0s 11ms/step - loss: 1.0653 - categorical_accuracy: 0.3889 - val_loss: 1.1130 - val_categorical_accuracy: 0.4444\n",
            "Epoch 86/200\n",
            "3/3 [==============================] - 0s 10ms/step - loss: 1.0649 - categorical_accuracy: 0.4722 - val_loss: 1.1125 - val_categorical_accuracy: 0.5556\n",
            "Epoch 87/200\n",
            "3/3 [==============================] - 0s 11ms/step - loss: 1.0644 - categorical_accuracy: 0.7037 - val_loss: 1.1083 - val_categorical_accuracy: 0.5556\n",
            "Epoch 88/200\n",
            "3/3 [==============================] - 0s 11ms/step - loss: 1.0653 - categorical_accuracy: 0.7037 - val_loss: 1.1078 - val_categorical_accuracy: 0.5556\n",
            "Epoch 89/200\n",
            "3/3 [==============================] - 0s 11ms/step - loss: 1.0644 - categorical_accuracy: 0.7037 - val_loss: 1.1050 - val_categorical_accuracy: 0.5556\n",
            "Epoch 90/200\n",
            "3/3 [==============================] - 0s 11ms/step - loss: 1.0639 - categorical_accuracy: 0.6944 - val_loss: 1.1013 - val_categorical_accuracy: 0.5556\n",
            "Epoch 91/200\n",
            "3/3 [==============================] - 0s 12ms/step - loss: 1.0628 - categorical_accuracy: 0.7037 - val_loss: 1.0996 - val_categorical_accuracy: 0.5556\n",
            "Epoch 92/200\n",
            "3/3 [==============================] - 0s 11ms/step - loss: 1.0622 - categorical_accuracy: 0.7037 - val_loss: 1.0965 - val_categorical_accuracy: 0.5556\n",
            "Epoch 93/200\n",
            "3/3 [==============================] - 0s 12ms/step - loss: 1.0623 - categorical_accuracy: 0.7037 - val_loss: 1.0922 - val_categorical_accuracy: 0.5556\n",
            "Epoch 94/200\n",
            "3/3 [==============================] - 0s 10ms/step - loss: 1.0620 - categorical_accuracy: 0.7037 - val_loss: 1.0963 - val_categorical_accuracy: 0.2963\n",
            "Epoch 95/200\n",
            "3/3 [==============================] - 0s 10ms/step - loss: 1.0617 - categorical_accuracy: 0.3889 - val_loss: 1.0874 - val_categorical_accuracy: 0.4815\n",
            "Epoch 96/200\n",
            "3/3 [==============================] - 0s 11ms/step - loss: 1.0627 - categorical_accuracy: 0.6574 - val_loss: 1.0855 - val_categorical_accuracy: 0.5556\n",
            "Epoch 97/200\n",
            "3/3 [==============================] - 0s 10ms/step - loss: 1.0615 - categorical_accuracy: 0.7037 - val_loss: 1.0882 - val_categorical_accuracy: 0.5556\n",
            "Epoch 98/200\n",
            "3/3 [==============================] - 0s 13ms/step - loss: 1.0606 - categorical_accuracy: 0.7037 - val_loss: 1.0893 - val_categorical_accuracy: 0.5556\n",
            "Epoch 99/200\n",
            "3/3 [==============================] - 0s 12ms/step - loss: 1.0596 - categorical_accuracy: 0.7037 - val_loss: 1.0917 - val_categorical_accuracy: 0.5556\n",
            "Epoch 100/200\n",
            "3/3 [==============================] - 0s 11ms/step - loss: 1.0594 - categorical_accuracy: 0.7037 - val_loss: 1.0877 - val_categorical_accuracy: 0.5556\n",
            "Epoch 101/200\n",
            "3/3 [==============================] - 0s 10ms/step - loss: 1.0592 - categorical_accuracy: 0.7037 - val_loss: 1.0917 - val_categorical_accuracy: 0.5556\n",
            "Epoch 102/200\n",
            "3/3 [==============================] - 0s 12ms/step - loss: 1.0585 - categorical_accuracy: 0.7037 - val_loss: 1.0906 - val_categorical_accuracy: 0.5556\n",
            "Epoch 103/200\n",
            "3/3 [==============================] - 0s 10ms/step - loss: 1.0587 - categorical_accuracy: 0.7037 - val_loss: 1.0866 - val_categorical_accuracy: 0.5556\n",
            "Epoch 104/200\n",
            "3/3 [==============================] - 0s 10ms/step - loss: 1.0578 - categorical_accuracy: 0.7037 - val_loss: 1.0875 - val_categorical_accuracy: 0.5556\n",
            "Epoch 105/200\n",
            "3/3 [==============================] - 0s 11ms/step - loss: 1.0575 - categorical_accuracy: 0.7037 - val_loss: 1.0808 - val_categorical_accuracy: 0.5556\n",
            "Epoch 106/200\n",
            "3/3 [==============================] - 0s 10ms/step - loss: 1.0577 - categorical_accuracy: 0.7037 - val_loss: 1.0780 - val_categorical_accuracy: 0.5556\n",
            "Epoch 107/200\n",
            "3/3 [==============================] - 0s 10ms/step - loss: 1.0571 - categorical_accuracy: 0.7037 - val_loss: 1.0812 - val_categorical_accuracy: 0.5556\n",
            "Epoch 108/200\n",
            "3/3 [==============================] - 0s 9ms/step - loss: 1.0566 - categorical_accuracy: 0.7037 - val_loss: 1.0814 - val_categorical_accuracy: 0.5556\n",
            "Epoch 109/200\n",
            "3/3 [==============================] - 0s 9ms/step - loss: 1.0559 - categorical_accuracy: 0.7037 - val_loss: 1.0846 - val_categorical_accuracy: 0.5556\n",
            "Epoch 110/200\n",
            "3/3 [==============================] - 0s 10ms/step - loss: 1.0555 - categorical_accuracy: 0.7037 - val_loss: 1.0824 - val_categorical_accuracy: 0.5556\n",
            "Epoch 111/200\n",
            "3/3 [==============================] - 0s 13ms/step - loss: 1.0559 - categorical_accuracy: 0.7037 - val_loss: 1.0858 - val_categorical_accuracy: 0.5556\n",
            "Epoch 112/200\n",
            "3/3 [==============================] - 0s 11ms/step - loss: 1.0543 - categorical_accuracy: 0.7037 - val_loss: 1.0907 - val_categorical_accuracy: 0.5556\n",
            "Epoch 113/200\n",
            "3/3 [==============================] - 0s 14ms/step - loss: 1.0536 - categorical_accuracy: 0.7037 - val_loss: 1.0944 - val_categorical_accuracy: 0.5556\n",
            "Epoch 114/200\n",
            "3/3 [==============================] - 0s 11ms/step - loss: 1.0533 - categorical_accuracy: 0.7037 - val_loss: 1.0948 - val_categorical_accuracy: 0.5556\n",
            "Epoch 115/200\n",
            "3/3 [==============================] - 0s 14ms/step - loss: 1.0539 - categorical_accuracy: 0.7037 - val_loss: 1.0935 - val_categorical_accuracy: 0.5556\n",
            "Epoch 116/200\n",
            "3/3 [==============================] - 0s 11ms/step - loss: 1.0533 - categorical_accuracy: 0.7037 - val_loss: 1.1003 - val_categorical_accuracy: 0.5556\n",
            "Epoch 117/200\n",
            "3/3 [==============================] - 0s 16ms/step - loss: 1.0524 - categorical_accuracy: 0.7037 - val_loss: 1.1011 - val_categorical_accuracy: 0.5556\n",
            "Epoch 118/200\n",
            "3/3 [==============================] - 0s 12ms/step - loss: 1.0519 - categorical_accuracy: 0.7037 - val_loss: 1.0982 - val_categorical_accuracy: 0.5556\n",
            "Epoch 119/200\n",
            "3/3 [==============================] - 0s 11ms/step - loss: 1.0512 - categorical_accuracy: 0.7037 - val_loss: 1.0977 - val_categorical_accuracy: 0.5556\n",
            "Epoch 120/200\n",
            "3/3 [==============================] - 0s 11ms/step - loss: 1.0507 - categorical_accuracy: 0.7037 - val_loss: 1.0956 - val_categorical_accuracy: 0.5556\n",
            "Epoch 121/200\n",
            "3/3 [==============================] - 0s 10ms/step - loss: 1.0504 - categorical_accuracy: 0.7037 - val_loss: 1.0967 - val_categorical_accuracy: 0.5556\n",
            "Epoch 122/200\n",
            "3/3 [==============================] - 0s 10ms/step - loss: 1.0503 - categorical_accuracy: 0.7037 - val_loss: 1.0990 - val_categorical_accuracy: 0.5556\n",
            "Epoch 123/200\n",
            "3/3 [==============================] - 0s 10ms/step - loss: 1.0501 - categorical_accuracy: 0.7037 - val_loss: 1.0961 - val_categorical_accuracy: 0.5556\n",
            "Epoch 124/200\n",
            "3/3 [==============================] - 0s 10ms/step - loss: 1.0497 - categorical_accuracy: 0.7037 - val_loss: 1.0949 - val_categorical_accuracy: 0.5556\n",
            "Epoch 125/200\n",
            "3/3 [==============================] - 0s 11ms/step - loss: 1.0486 - categorical_accuracy: 0.7037 - val_loss: 1.1010 - val_categorical_accuracy: 0.5556\n",
            "Epoch 126/200\n",
            "3/3 [==============================] - 0s 10ms/step - loss: 1.0485 - categorical_accuracy: 0.7037 - val_loss: 1.0978 - val_categorical_accuracy: 0.5556\n",
            "Epoch 127/200\n",
            "3/3 [==============================] - 0s 15ms/step - loss: 1.0479 - categorical_accuracy: 0.7037 - val_loss: 1.0934 - val_categorical_accuracy: 0.5556\n",
            "Epoch 128/200\n",
            "3/3 [==============================] - 0s 10ms/step - loss: 1.0471 - categorical_accuracy: 0.7037 - val_loss: 1.0877 - val_categorical_accuracy: 0.5556\n",
            "Epoch 129/200\n",
            "3/3 [==============================] - 0s 10ms/step - loss: 1.0467 - categorical_accuracy: 0.7037 - val_loss: 1.0881 - val_categorical_accuracy: 0.5556\n",
            "Epoch 130/200\n",
            "3/3 [==============================] - 0s 12ms/step - loss: 1.0468 - categorical_accuracy: 0.7037 - val_loss: 1.0847 - val_categorical_accuracy: 0.5556\n",
            "Epoch 131/200\n",
            "3/3 [==============================] - 0s 18ms/step - loss: 1.0457 - categorical_accuracy: 0.7037 - val_loss: 1.0916 - val_categorical_accuracy: 0.5556\n",
            "Epoch 132/200\n",
            "3/3 [==============================] - 0s 11ms/step - loss: 1.0454 - categorical_accuracy: 0.7037 - val_loss: 1.0926 - val_categorical_accuracy: 0.5556\n",
            "Epoch 133/200\n",
            "3/3 [==============================] - 0s 11ms/step - loss: 1.0453 - categorical_accuracy: 0.7037 - val_loss: 1.0952 - val_categorical_accuracy: 0.5556\n",
            "Epoch 134/200\n",
            "3/3 [==============================] - 0s 13ms/step - loss: 1.0450 - categorical_accuracy: 0.7037 - val_loss: 1.1013 - val_categorical_accuracy: 0.5185\n",
            "Epoch 135/200\n",
            "3/3 [==============================] - 0s 12ms/step - loss: 1.0452 - categorical_accuracy: 0.6481 - val_loss: 1.0940 - val_categorical_accuracy: 0.5556\n",
            "Epoch 136/200\n",
            "3/3 [==============================] - 0s 11ms/step - loss: 1.0448 - categorical_accuracy: 0.7037 - val_loss: 1.0947 - val_categorical_accuracy: 0.5185\n",
            "Epoch 137/200\n",
            "3/3 [==============================] - 0s 11ms/step - loss: 1.0438 - categorical_accuracy: 0.7037 - val_loss: 1.0918 - val_categorical_accuracy: 0.5556\n",
            "Epoch 138/200\n",
            "3/3 [==============================] - 0s 15ms/step - loss: 1.0432 - categorical_accuracy: 0.7037 - val_loss: 1.0963 - val_categorical_accuracy: 0.5185\n",
            "Epoch 139/200\n",
            "3/3 [==============================] - 0s 10ms/step - loss: 1.0432 - categorical_accuracy: 0.6389 - val_loss: 1.0967 - val_categorical_accuracy: 0.5556\n",
            "Epoch 140/200\n",
            "3/3 [==============================] - 0s 11ms/step - loss: 1.0428 - categorical_accuracy: 0.7037 - val_loss: 1.0934 - val_categorical_accuracy: 0.5185\n",
            "Epoch 141/200\n",
            "3/3 [==============================] - 0s 12ms/step - loss: 1.0423 - categorical_accuracy: 0.6481 - val_loss: 1.0888 - val_categorical_accuracy: 0.4444\n",
            "Epoch 142/200\n",
            "3/3 [==============================] - 0s 12ms/step - loss: 1.0417 - categorical_accuracy: 0.5926 - val_loss: 1.0844 - val_categorical_accuracy: 0.5556\n",
            "Epoch 143/200\n",
            "3/3 [==============================] - 0s 12ms/step - loss: 1.0408 - categorical_accuracy: 0.7037 - val_loss: 1.0839 - val_categorical_accuracy: 0.5556\n",
            "Epoch 144/200\n",
            "3/3 [==============================] - 0s 11ms/step - loss: 1.0398 - categorical_accuracy: 0.7037 - val_loss: 1.0836 - val_categorical_accuracy: 0.5556\n",
            "Epoch 145/200\n",
            "3/3 [==============================] - 0s 12ms/step - loss: 1.0394 - categorical_accuracy: 0.7037 - val_loss: 1.0836 - val_categorical_accuracy: 0.5556\n",
            "Epoch 146/200\n",
            "3/3 [==============================] - 0s 12ms/step - loss: 1.0384 - categorical_accuracy: 0.7037 - val_loss: 1.0819 - val_categorical_accuracy: 0.5556\n",
            "Epoch 147/200\n",
            "3/3 [==============================] - 0s 10ms/step - loss: 1.0381 - categorical_accuracy: 0.7037 - val_loss: 1.0785 - val_categorical_accuracy: 0.5556\n",
            "Epoch 148/200\n",
            "3/3 [==============================] - 0s 13ms/step - loss: 1.0377 - categorical_accuracy: 0.7037 - val_loss: 1.0807 - val_categorical_accuracy: 0.5556\n",
            "Epoch 149/200\n",
            "3/3 [==============================] - 0s 12ms/step - loss: 1.0383 - categorical_accuracy: 0.7037 - val_loss: 1.0793 - val_categorical_accuracy: 0.5556\n",
            "Epoch 150/200\n",
            "3/3 [==============================] - 0s 11ms/step - loss: 1.0368 - categorical_accuracy: 0.7037 - val_loss: 1.0773 - val_categorical_accuracy: 0.5556\n",
            "Epoch 151/200\n",
            "3/3 [==============================] - 0s 12ms/step - loss: 1.0362 - categorical_accuracy: 0.7037 - val_loss: 1.0822 - val_categorical_accuracy: 0.5556\n",
            "Epoch 152/200\n",
            "3/3 [==============================] - 0s 12ms/step - loss: 1.0360 - categorical_accuracy: 0.7037 - val_loss: 1.0818 - val_categorical_accuracy: 0.5556\n",
            "Epoch 153/200\n",
            "3/3 [==============================] - 0s 10ms/step - loss: 1.0356 - categorical_accuracy: 0.7037 - val_loss: 1.0768 - val_categorical_accuracy: 0.5556\n",
            "Epoch 154/200\n",
            "3/3 [==============================] - 0s 11ms/step - loss: 1.0349 - categorical_accuracy: 0.7037 - val_loss: 1.0745 - val_categorical_accuracy: 0.5556\n",
            "Epoch 155/200\n",
            "3/3 [==============================] - 0s 11ms/step - loss: 1.0349 - categorical_accuracy: 0.7037 - val_loss: 1.0772 - val_categorical_accuracy: 0.5556\n",
            "Epoch 156/200\n",
            "3/3 [==============================] - 0s 12ms/step - loss: 1.0341 - categorical_accuracy: 0.7037 - val_loss: 1.0740 - val_categorical_accuracy: 0.5556\n",
            "Epoch 157/200\n",
            "3/3 [==============================] - 0s 10ms/step - loss: 1.0332 - categorical_accuracy: 0.7037 - val_loss: 1.0776 - val_categorical_accuracy: 0.5556\n",
            "Epoch 158/200\n",
            "3/3 [==============================] - 0s 10ms/step - loss: 1.0330 - categorical_accuracy: 0.7037 - val_loss: 1.0711 - val_categorical_accuracy: 0.5556\n",
            "Epoch 159/200\n",
            "3/3 [==============================] - 0s 10ms/step - loss: 1.0321 - categorical_accuracy: 0.7037 - val_loss: 1.0723 - val_categorical_accuracy: 0.5556\n",
            "Epoch 160/200\n",
            "3/3 [==============================] - 0s 12ms/step - loss: 1.0319 - categorical_accuracy: 0.7037 - val_loss: 1.0715 - val_categorical_accuracy: 0.5556\n",
            "Epoch 161/200\n",
            "3/3 [==============================] - 0s 11ms/step - loss: 1.0318 - categorical_accuracy: 0.7037 - val_loss: 1.0718 - val_categorical_accuracy: 0.5556\n",
            "Epoch 162/200\n",
            "3/3 [==============================] - 0s 13ms/step - loss: 1.0309 - categorical_accuracy: 0.7037 - val_loss: 1.0699 - val_categorical_accuracy: 0.5556\n",
            "Epoch 163/200\n",
            "3/3 [==============================] - 0s 12ms/step - loss: 1.0305 - categorical_accuracy: 0.7037 - val_loss: 1.0745 - val_categorical_accuracy: 0.5556\n",
            "Epoch 164/200\n",
            "3/3 [==============================] - 0s 10ms/step - loss: 1.0303 - categorical_accuracy: 0.7037 - val_loss: 1.0744 - val_categorical_accuracy: 0.5556\n",
            "Epoch 165/200\n",
            "3/3 [==============================] - 0s 10ms/step - loss: 1.0296 - categorical_accuracy: 0.7037 - val_loss: 1.0702 - val_categorical_accuracy: 0.5556\n",
            "Epoch 166/200\n",
            "3/3 [==============================] - 0s 10ms/step - loss: 1.0288 - categorical_accuracy: 0.7037 - val_loss: 1.0673 - val_categorical_accuracy: 0.5556\n",
            "Epoch 167/200\n",
            "3/3 [==============================] - 0s 10ms/step - loss: 1.0284 - categorical_accuracy: 0.7037 - val_loss: 1.0635 - val_categorical_accuracy: 0.5556\n",
            "Epoch 168/200\n",
            "3/3 [==============================] - 0s 10ms/step - loss: 1.0283 - categorical_accuracy: 0.7037 - val_loss: 1.0622 - val_categorical_accuracy: 0.5556\n",
            "Epoch 169/200\n",
            "3/3 [==============================] - 0s 19ms/step - loss: 1.0272 - categorical_accuracy: 0.7037 - val_loss: 1.0624 - val_categorical_accuracy: 0.5556\n",
            "Epoch 170/200\n",
            "3/3 [==============================] - 0s 10ms/step - loss: 1.0265 - categorical_accuracy: 0.7037 - val_loss: 1.0642 - val_categorical_accuracy: 0.5556\n",
            "Epoch 171/200\n",
            "3/3 [==============================] - 0s 11ms/step - loss: 1.0265 - categorical_accuracy: 0.7037 - val_loss: 1.0694 - val_categorical_accuracy: 0.5556\n",
            "Epoch 172/200\n",
            "3/3 [==============================] - 0s 11ms/step - loss: 1.0274 - categorical_accuracy: 0.7037 - val_loss: 1.0744 - val_categorical_accuracy: 0.5556\n",
            "Epoch 173/200\n",
            "3/3 [==============================] - 0s 12ms/step - loss: 1.0267 - categorical_accuracy: 0.7037 - val_loss: 1.0770 - val_categorical_accuracy: 0.5556\n",
            "Epoch 174/200\n",
            "3/3 [==============================] - 0s 20ms/step - loss: 1.0254 - categorical_accuracy: 0.7037 - val_loss: 1.0795 - val_categorical_accuracy: 0.5556\n",
            "Epoch 175/200\n",
            "3/3 [==============================] - 0s 10ms/step - loss: 1.0249 - categorical_accuracy: 0.7037 - val_loss: 1.0765 - val_categorical_accuracy: 0.5556\n",
            "Epoch 176/200\n",
            "3/3 [==============================] - 0s 10ms/step - loss: 1.0240 - categorical_accuracy: 0.7037 - val_loss: 1.0791 - val_categorical_accuracy: 0.5556\n",
            "Epoch 177/200\n",
            "3/3 [==============================] - 0s 11ms/step - loss: 1.0239 - categorical_accuracy: 0.7037 - val_loss: 1.0820 - val_categorical_accuracy: 0.5556\n",
            "Epoch 178/200\n",
            "3/3 [==============================] - 0s 11ms/step - loss: 1.0235 - categorical_accuracy: 0.7037 - val_loss: 1.0826 - val_categorical_accuracy: 0.5556\n",
            "Epoch 179/200\n",
            "3/3 [==============================] - 0s 10ms/step - loss: 1.0238 - categorical_accuracy: 0.7037 - val_loss: 1.0840 - val_categorical_accuracy: 0.5556\n",
            "Epoch 180/200\n",
            "3/3 [==============================] - 0s 10ms/step - loss: 1.0227 - categorical_accuracy: 0.7037 - val_loss: 1.0859 - val_categorical_accuracy: 0.5556\n",
            "Epoch 181/200\n",
            "3/3 [==============================] - 0s 11ms/step - loss: 1.0224 - categorical_accuracy: 0.7037 - val_loss: 1.0779 - val_categorical_accuracy: 0.5556\n",
            "Epoch 182/200\n",
            "3/3 [==============================] - 0s 11ms/step - loss: 1.0210 - categorical_accuracy: 0.7037 - val_loss: 1.0765 - val_categorical_accuracy: 0.5556\n",
            "Epoch 183/200\n",
            "3/3 [==============================] - 0s 10ms/step - loss: 1.0204 - categorical_accuracy: 0.7037 - val_loss: 1.0724 - val_categorical_accuracy: 0.5556\n",
            "Epoch 184/200\n",
            "3/3 [==============================] - 0s 11ms/step - loss: 1.0196 - categorical_accuracy: 0.7037 - val_loss: 1.0752 - val_categorical_accuracy: 0.5556\n",
            "Epoch 185/200\n",
            "3/3 [==============================] - 0s 12ms/step - loss: 1.0197 - categorical_accuracy: 0.7037 - val_loss: 1.0762 - val_categorical_accuracy: 0.5556\n",
            "Epoch 186/200\n",
            "3/3 [==============================] - 0s 11ms/step - loss: 1.0191 - categorical_accuracy: 0.7037 - val_loss: 1.0759 - val_categorical_accuracy: 0.5556\n",
            "Epoch 187/200\n",
            "3/3 [==============================] - 0s 11ms/step - loss: 1.0189 - categorical_accuracy: 0.7037 - val_loss: 1.0746 - val_categorical_accuracy: 0.5556\n",
            "Epoch 188/200\n",
            "3/3 [==============================] - 0s 9ms/step - loss: 1.0181 - categorical_accuracy: 0.7037 - val_loss: 1.0700 - val_categorical_accuracy: 0.5556\n",
            "Epoch 189/200\n",
            "3/3 [==============================] - 0s 11ms/step - loss: 1.0175 - categorical_accuracy: 0.7037 - val_loss: 1.0733 - val_categorical_accuracy: 0.5556\n",
            "Epoch 190/200\n",
            "3/3 [==============================] - 0s 10ms/step - loss: 1.0167 - categorical_accuracy: 0.7037 - val_loss: 1.0700 - val_categorical_accuracy: 0.5556\n",
            "Epoch 191/200\n",
            "3/3 [==============================] - 0s 10ms/step - loss: 1.0161 - categorical_accuracy: 0.7037 - val_loss: 1.0741 - val_categorical_accuracy: 0.5556\n",
            "Epoch 192/200\n",
            "3/3 [==============================] - 0s 10ms/step - loss: 1.0165 - categorical_accuracy: 0.7037 - val_loss: 1.0762 - val_categorical_accuracy: 0.5556\n",
            "Epoch 193/200\n",
            "3/3 [==============================] - 0s 13ms/step - loss: 1.0155 - categorical_accuracy: 0.7037 - val_loss: 1.0781 - val_categorical_accuracy: 0.5556\n",
            "Epoch 194/200\n",
            "3/3 [==============================] - 0s 12ms/step - loss: 1.0152 - categorical_accuracy: 0.7037 - val_loss: 1.0710 - val_categorical_accuracy: 0.5556\n",
            "Epoch 195/200\n",
            "3/3 [==============================] - 0s 12ms/step - loss: 1.0139 - categorical_accuracy: 0.7037 - val_loss: 1.0678 - val_categorical_accuracy: 0.5556\n",
            "Epoch 196/200\n",
            "3/3 [==============================] - 0s 11ms/step - loss: 1.0133 - categorical_accuracy: 0.7037 - val_loss: 1.0634 - val_categorical_accuracy: 0.5556\n",
            "Epoch 197/200\n",
            "3/3 [==============================] - 0s 13ms/step - loss: 1.0124 - categorical_accuracy: 0.7037 - val_loss: 1.0643 - val_categorical_accuracy: 0.5556\n",
            "Epoch 198/200\n",
            "3/3 [==============================] - 0s 11ms/step - loss: 1.0119 - categorical_accuracy: 0.7037 - val_loss: 1.0586 - val_categorical_accuracy: 0.5556\n",
            "Epoch 199/200\n",
            "3/3 [==============================] - 0s 11ms/step - loss: 1.0111 - categorical_accuracy: 0.7037 - val_loss: 1.0648 - val_categorical_accuracy: 0.5556\n",
            "Epoch 200/200\n",
            "3/3 [==============================] - 0s 12ms/step - loss: 1.0111 - categorical_accuracy: 0.7037 - val_loss: 1.0654 - val_categorical_accuracy: 0.5556\n"
          ]
        }
      ]
    },
    {
      "cell_type": "code",
      "metadata": {
        "id": "RGM-x0OgQAII"
      },
      "source": [
        "loss = result.history['loss']\n",
        "val_loss = result.history['val_loss']"
      ],
      "execution_count": null,
      "outputs": []
    },
    {
      "cell_type": "code",
      "metadata": {
        "colab": {
          "base_uri": "https://localhost:8080/"
        },
        "id": "vds24yghN3Yo",
        "outputId": "efabb178-2863-491c-e194-4ec6c1a9c23f"
      },
      "source": [
        "print(result.history.keys())"
      ],
      "execution_count": null,
      "outputs": [
        {
          "output_type": "stream",
          "name": "stdout",
          "text": [
            "dict_keys(['loss', 'categorical_accuracy', 'val_loss', 'val_categorical_accuracy'])\n"
          ]
        }
      ]
    },
    {
      "cell_type": "code",
      "metadata": {
        "colab": {
          "base_uri": "https://localhost:8080/",
          "height": 230
        },
        "id": "vgldyulUPDmg",
        "outputId": "d5f2e7ea-ecd3-4002-c22c-fe03adb204c0"
      },
      "source": [
        "# loss와 val_loss를 그래프\n",
        "epochs = range(1, len(loss)+1)\n",
        "plt.subplot(211)\n",
        "plt.plot(epochs, loss, 'b-', label='Training loss')\n",
        "plt.plot(epochs, val_loss, 'r', label='Validation loss')\n",
        "plt.title('Training and validation loss')\n",
        "plt.xlabel('Epochs')\n",
        "plt.ylabel('Loss')\n",
        "plt.legend()\n",
        "\n",
        "print(\"\\n Test rmse: %.4f\" % (model.evaluate(X_test, Y_test)[1]))\n",
        "\n",
        "plt.show()"
      ],
      "execution_count": null,
      "outputs": [
        {
          "output_type": "stream",
          "name": "stdout",
          "text": [
            "1/1 [==============================] - 0s 14ms/step - loss: 1.0457 - categorical_accuracy: 0.6000\n",
            "\n",
            " Test rmse: 0.6000\n"
          ]
        },
        {
          "output_type": "display_data",
          "data": {
            "image/png": "[encoded data removed]",
            "text/plain": [
              "<Figure size 432x288 with 1 Axes>"
            ]
          },
          "metadata": {
            "needs_background": "light"
          }
        }
      ]
    },
    {
      "cell_type": "code",
      "metadata": {
        "colab": {
          "base_uri": "https://localhost:8080/",
          "height": 194
        },
        "id": "pyceL7DEWWOX",
        "outputId": "4f60d606-c57a-4f2d-aba0-347396c342f3"
      },
      "source": [
        "acc = result.history['categorical_accuracy']\n",
        "val_acc = result.history['val_categorical_accuracy']\n",
        "\n",
        "plt.subplot(212)  ## 2x1 개의 그래프 중에 2번째\n",
        "plt.plot(epochs, acc, 'b-', label='Training acc')\n",
        "plt.plot(epochs, val_acc, 'r', label='Validation acc')\n",
        "plt.title('Training and validation accuracy')\n",
        "plt.xlabel('Epochs')\n",
        "plt.ylabel('Accuracy')\n",
        "plt.legend()"
      ],
      "execution_count": null,
      "outputs": [
        {
          "output_type": "execute_result",
          "data": {
            "text/plain": [
              "<matplotlib.legend.Legend at 0x7fa0e7d98890>"
            ]
          },
          "metadata": {},
          "execution_count": 68
        },
        {
          "output_type": "display_data",
          "data": {
            "image/png": "[encoded data removed]",
            "text/plain": [
              "<Figure size 432x288 with 1 Axes>"
            ]
          },
          "metadata": {
            "needs_background": "light"
          }
        }
      ]
    },
    {
      "cell_type": "code",
      "metadata": {
        "id": "onxHBNunXVUT"
      },
      "source": [
        "model.save('iris_multi_model.h5')"
      ],
      "execution_count": null,
      "outputs": []
    },
    {
      "cell_type": "code",
      "metadata": {
        "id": "ycPpRzR6jZbB"
      },
      "source": [
        "data = pd.read_csv('/content/iris.csv', names= ['sepal_length','sepal_width','petal_length','petal_width','class_name'])"
      ],
      "execution_count": 76,
      "outputs": []
    },
    {
      "cell_type": "code",
      "metadata": {
        "id": "jHA61W-MjeVf"
      },
      "source": [
        "dataset = data.copy()\n",
        "label_data = dataset.pop('class_name')"
      ],
      "execution_count": 77,
      "outputs": []
    },
    {
      "cell_type": "code",
      "metadata": {
        "id": "QQrL0dF8jjeb"
      },
      "source": [
        "e = LabelEncoder()\n",
        "e.fit(label_data)\n",
        "Y = e.transform(label_data)\n",
        "Y_encorded = tf.keras.utils.to_categorical(Y)"
      ],
      "execution_count": 78,
      "outputs": []
    },
    {
      "cell_type": "code",
      "metadata": {
        "id": "2rxfn-yKjl5M"
      },
      "source": [
        "X_train1, X_test, Y_train1, Y_test = train_test_split(dataset, Y_encorded, test_size=0.1, shuffle=True)\n",
        "X_train, X_val, Y_train, Y_val = train_test_split(X_train1, Y_train1, test_size=0.2, shuffle=True)"
      ],
      "execution_count": 79,
      "outputs": []
    },
    {
      "cell_type": "code",
      "metadata": {
        "id": "cV20py3Njo7U"
      },
      "source": [
        "model_path = \"./{epoch:02d}-{val_loss:.4f}.h5\"\n",
        "\n",
        "model = tf.keras.models.load_model('iris_multi_model.h5')"
      ],
      "execution_count": 81,
      "outputs": []
    },
    {
      "cell_type": "code",
      "metadata": {
        "colab": {
          "base_uri": "https://localhost:8080/"
        },
        "id": "QPEqWdQhjuK4",
        "outputId": "3a1b97e8-dad6-4e60-d4a9-29d7090062b2"
      },
      "source": [
        "print('\\n Test Accuracy: %.4f' % (model.evaluate(X_test, Y_test)[1]))"
      ],
      "execution_count": 83,
      "outputs": [
        {
          "output_type": "stream",
          "name": "stdout",
          "text": [
            "1/1 [==============================] - 0s 113ms/step - loss: 1.0576 - categorical_accuracy: 0.6000\n",
            "\n",
            " Test Accuracy: 0.6000\n"
          ]
        }
      ]
    },
    {
      "cell_type": "code",
      "metadata": {
        "id": "NgBFwKRwj5tI"
      },
      "source": [
        "data = pd.read_csv('/content/iris.csv', names= ['sepal_length','sepal_width','petal_length','petal_width','class_name'])"
      ],
      "execution_count": 84,
      "outputs": []
    },
    {
      "cell_type": "code",
      "metadata": {
        "id": "YC4w0QjYkI-u"
      },
      "source": [
        "dataset = data.copy()\n",
        "label_data = dataset.pop('class_name')"
      ],
      "execution_count": 85,
      "outputs": []
    },
    {
      "cell_type": "code",
      "metadata": {
        "id": "bzJbg4YokKqx"
      },
      "source": [
        "e = LabelEncoder()\n",
        "e.fit(label_data)\n",
        "Y = e.transform(label_data)\n",
        "Y_encorded = tf.keras.utils.to_categorical(Y)"
      ],
      "execution_count": 86,
      "outputs": []
    },
    {
      "cell_type": "code",
      "metadata": {
        "id": "yBL5mlf6kMYV"
      },
      "source": [
        "X_train1, X_test, Y_train1, Y_test = train_test_split(dataset, Y_encorded, test_size=0.1, shuffle=True)\n",
        "X_train, X_val, Y_train, Y_val = train_test_split(X_train1, Y_train1, test_size=0.2, shuffle=True)"
      ],
      "execution_count": 87,
      "outputs": []
    },
    {
      "cell_type": "code",
      "metadata": {
        "colab": {
          "base_uri": "https://localhost:8080/"
        },
        "id": "mNDrV3bSkNlo",
        "outputId": "35269eaa-c1c9-4ebd-9989-2007866234be"
      },
      "source": [
        "model = tf.keras.models.load_model('iris_multi_model.h5')\n",
        "model.summary()"
      ],
      "execution_count": 88,
      "outputs": [
        {
          "output_type": "stream",
          "name": "stdout",
          "text": [
            "Model: \"model_4\"\n",
            "_________________________________________________________________\n",
            "Layer (type)                 Output Shape              Param #   \n",
            "=================================================================\n",
            "input_5 (InputLayer)         [(None, 4)]               0         \n",
            "_________________________________________________________________\n",
            "dense_12 (Dense)             (None, 16)                80        \n",
            "_________________________________________________________________\n",
            "dense_13 (Dense)             (None, 32)                544       \n",
            "_________________________________________________________________\n",
            "dense_14 (Dense)             (None, 3)                 99        \n",
            "=================================================================\n",
            "Total params: 723\n",
            "Trainable params: 723\n",
            "Non-trainable params: 0\n",
            "_________________________________________________________________\n"
          ]
        }
      ]
    },
    {
      "cell_type": "code",
      "metadata": {
        "id": "0roYt5VikQac"
      },
      "source": [
        "# 모델 컴파일\n",
        "loss=tf.keras.losses.categorical_crossentropy\n",
        "optimizer = tf.keras.optimizers.SGD(learning_rate=0.01)\n",
        "model.compile(loss=loss,\n",
        "             optimizer=optimizer,\n",
        "             metrics=[tf.keras.metrics.categorical_accuracy])"
      ],
      "execution_count": 89,
      "outputs": []
    },
    {
      "cell_type": "code",
      "metadata": {
        "id": "Nnx1fOVGldqi"
      },
      "source": [
        "import math\n",
        "\n",
        "def step_decay(epoch):\n",
        "\tinitial_lrate = 0.001\n",
        "\tdrop = 0.98\n",
        "\tepochs_drop = 50.0\n",
        "\tlrate = initial_lrate * math.pow(drop, math.floor((1+epoch)/epochs_drop))\n",
        "\treturn lrate"
      ],
      "execution_count": 96,
      "outputs": []
    },
    {
      "cell_type": "code",
      "metadata": {
        "id": "lTpBh45JoJCW"
      },
      "source": [
        "from datetime import datetime\n",
        "# 개인 컴퓨터에서 텐서보드 로드하기\n",
        "logdir = \"log_dir/scalars/\" + datetime.now().strftime(\"%Y%m%d-%H%M%S\")\n",
        "file_writer = tf.summary.create_file_writer(logdir + \"/metrics\")\n",
        "file_writer.set_as_default()"
      ],
      "execution_count": 107,
      "outputs": []
    },
    {
      "cell_type": "code",
      "metadata": {
        "id": "X6QkMpv8k9_d"
      },
      "source": [
        "modelpath = \"./{epoch:02d}-{val_loss : .4f}.h5\"\n",
        "callback_list = [tf.keras.callbacks.EarlyStopping(monitor='val_loss', patience=20),\n",
        "                 tf.keras.callbacks.ModelCheckpoint(filepath=modelpath, monitor='val_loss', verbose=1, save_best_only=True),\n",
        "                 tf.keras.callbacks.LearningRateScheduler(step_decay, verbose=1),\n",
        "                 tf.keras.callbacks.TensorBoard(log_dir=logdir, histogram_freq=1)]"
      ],
      "execution_count": 108,
      "outputs": []
    },
    {
      "cell_type": "code",
      "metadata": {
        "colab": {
          "base_uri": "https://localhost:8080/",
          "height": 510
        },
        "id": "ujij23wkkTbI",
        "outputId": "8018bff9-bcd1-4aa1-eed7-0237b8692340"
      },
      "source": [
        "result = model.fit(X_train, Y_train, epochs=200, batch_size= 50, validation_data = (X_val, Y_val), callbacks=callback_list)\n",
        "#save('iris_multi_model2.h5')"
      ],
      "execution_count": 109,
      "outputs": [
        {
          "output_type": "stream",
          "name": "stdout",
          "text": [
            "Epoch 1/200\n",
            "\n",
            "Epoch 00001: LearningRateScheduler setting learning rate to 0.001.\n",
            "3/3 [==============================] - 0s 24ms/step - loss: 0.8786 - categorical_accuracy: 0.8241 - val_loss: 0.8651 - val_categorical_accuracy: 0.8519\n"
          ]
        },
        {
          "output_type": "error",
          "ename": "KeyError",
          "evalue": "ignored",
          "traceback": [
            "\u001b[0;31m---------------------------------------------------------------------------\u001b[0m",
            "\u001b[0;31mKeyError\u001b[0m                                  Traceback (most recent call last)",
            "\u001b[0;32m/usr/local/lib/python3.7/dist-packages/keras/callbacks.py\u001b[0m in \u001b[0;36m_get_file_path\u001b[0;34m(self, epoch, batch, logs)\u001b[0m\n\u001b[1;32m   1457\u001b[0m       \u001b[0;32mif\u001b[0m \u001b[0mbatch\u001b[0m \u001b[0;32mis\u001b[0m \u001b[0;32mNone\u001b[0m \u001b[0;32mor\u001b[0m \u001b[0;34m'batch'\u001b[0m \u001b[0;32min\u001b[0m \u001b[0mlogs\u001b[0m\u001b[0;34m:\u001b[0m\u001b[0;34m\u001b[0m\u001b[0;34m\u001b[0m\u001b[0m\n\u001b[0;32m-> 1458\u001b[0;31m         \u001b[0mfile_path\u001b[0m \u001b[0;34m=\u001b[0m \u001b[0mself\u001b[0m\u001b[0;34m.\u001b[0m\u001b[0mfilepath\u001b[0m\u001b[0;34m.\u001b[0m\u001b[0mformat\u001b[0m\u001b[0;34m(\u001b[0m\u001b[0mepoch\u001b[0m\u001b[0;34m=\u001b[0m\u001b[0mepoch\u001b[0m \u001b[0;34m+\u001b[0m \u001b[0;36m1\u001b[0m\u001b[0;34m,\u001b[0m \u001b[0;34m**\u001b[0m\u001b[0mlogs\u001b[0m\u001b[0;34m)\u001b[0m\u001b[0;34m\u001b[0m\u001b[0;34m\u001b[0m\u001b[0m\n\u001b[0m\u001b[1;32m   1459\u001b[0m       \u001b[0;32melse\u001b[0m\u001b[0;34m:\u001b[0m\u001b[0;34m\u001b[0m\u001b[0;34m\u001b[0m\u001b[0m\n",
            "\u001b[0;31mKeyError\u001b[0m: 'val_loss '",
            "\nDuring handling of the above exception, another exception occurred:\n",
            "\u001b[0;31mKeyError\u001b[0m                                  Traceback (most recent call last)",
            "\u001b[0;32m<ipython-input-109-6280d17a022d>\u001b[0m in \u001b[0;36m<module>\u001b[0;34m()\u001b[0m\n\u001b[0;32m----> 1\u001b[0;31m \u001b[0mresult\u001b[0m \u001b[0;34m=\u001b[0m \u001b[0mmodel\u001b[0m\u001b[0;34m.\u001b[0m\u001b[0mfit\u001b[0m\u001b[0;34m(\u001b[0m\u001b[0mX_train\u001b[0m\u001b[0;34m,\u001b[0m \u001b[0mY_train\u001b[0m\u001b[0;34m,\u001b[0m \u001b[0mepochs\u001b[0m\u001b[0;34m=\u001b[0m\u001b[0;36m200\u001b[0m\u001b[0;34m,\u001b[0m \u001b[0mbatch_size\u001b[0m\u001b[0;34m=\u001b[0m \u001b[0;36m50\u001b[0m\u001b[0;34m,\u001b[0m \u001b[0mvalidation_data\u001b[0m \u001b[0;34m=\u001b[0m \u001b[0;34m(\u001b[0m\u001b[0mX_val\u001b[0m\u001b[0;34m,\u001b[0m \u001b[0mY_val\u001b[0m\u001b[0;34m)\u001b[0m\u001b[0;34m,\u001b[0m \u001b[0mcallbacks\u001b[0m\u001b[0;34m=\u001b[0m\u001b[0mcallback_list\u001b[0m\u001b[0;34m)\u001b[0m\u001b[0;34m\u001b[0m\u001b[0;34m\u001b[0m\u001b[0m\n\u001b[0m\u001b[1;32m      2\u001b[0m \u001b[0;31m#save('iris_multi_model2.h5')\u001b[0m\u001b[0;34m\u001b[0m\u001b[0;34m\u001b[0m\u001b[0;34m\u001b[0m\u001b[0m\n",
            "\u001b[0;32m/usr/local/lib/python3.7/dist-packages/keras/engine/training.py\u001b[0m in \u001b[0;36mfit\u001b[0;34m(self, x, y, batch_size, epochs, verbose, callbacks, validation_split, validation_data, shuffle, class_weight, sample_weight, initial_epoch, steps_per_epoch, validation_steps, validation_batch_size, validation_freq, max_queue_size, workers, use_multiprocessing)\u001b[0m\n\u001b[1;32m   1228\u001b[0m           \u001b[0mepoch_logs\u001b[0m\u001b[0;34m.\u001b[0m\u001b[0mupdate\u001b[0m\u001b[0;34m(\u001b[0m\u001b[0mval_logs\u001b[0m\u001b[0;34m)\u001b[0m\u001b[0;34m\u001b[0m\u001b[0;34m\u001b[0m\u001b[0m\n\u001b[1;32m   1229\u001b[0m \u001b[0;34m\u001b[0m\u001b[0m\n\u001b[0;32m-> 1230\u001b[0;31m         \u001b[0mcallbacks\u001b[0m\u001b[0;34m.\u001b[0m\u001b[0mon_epoch_end\u001b[0m\u001b[0;34m(\u001b[0m\u001b[0mepoch\u001b[0m\u001b[0;34m,\u001b[0m \u001b[0mepoch_logs\u001b[0m\u001b[0;34m)\u001b[0m\u001b[0;34m\u001b[0m\u001b[0;34m\u001b[0m\u001b[0m\n\u001b[0m\u001b[1;32m   1231\u001b[0m         \u001b[0mtraining_logs\u001b[0m \u001b[0;34m=\u001b[0m \u001b[0mepoch_logs\u001b[0m\u001b[0;34m\u001b[0m\u001b[0;34m\u001b[0m\u001b[0m\n\u001b[1;32m   1232\u001b[0m         \u001b[0;32mif\u001b[0m \u001b[0mself\u001b[0m\u001b[0;34m.\u001b[0m\u001b[0mstop_training\u001b[0m\u001b[0;34m:\u001b[0m\u001b[0;34m\u001b[0m\u001b[0;34m\u001b[0m\u001b[0m\n",
            "\u001b[0;32m/usr/local/lib/python3.7/dist-packages/keras/callbacks.py\u001b[0m in \u001b[0;36mon_epoch_end\u001b[0;34m(self, epoch, logs)\u001b[0m\n\u001b[1;32m    411\u001b[0m     \u001b[0mlogs\u001b[0m \u001b[0;34m=\u001b[0m \u001b[0mself\u001b[0m\u001b[0;34m.\u001b[0m\u001b[0m_process_logs\u001b[0m\u001b[0;34m(\u001b[0m\u001b[0mlogs\u001b[0m\u001b[0;34m)\u001b[0m\u001b[0;34m\u001b[0m\u001b[0;34m\u001b[0m\u001b[0m\n\u001b[1;32m    412\u001b[0m     \u001b[0;32mfor\u001b[0m \u001b[0mcallback\u001b[0m \u001b[0;32min\u001b[0m \u001b[0mself\u001b[0m\u001b[0;34m.\u001b[0m\u001b[0mcallbacks\u001b[0m\u001b[0;34m:\u001b[0m\u001b[0;34m\u001b[0m\u001b[0;34m\u001b[0m\u001b[0m\n\u001b[0;32m--> 413\u001b[0;31m       \u001b[0mcallback\u001b[0m\u001b[0;34m.\u001b[0m\u001b[0mon_epoch_end\u001b[0m\u001b[0;34m(\u001b[0m\u001b[0mepoch\u001b[0m\u001b[0;34m,\u001b[0m \u001b[0mlogs\u001b[0m\u001b[0;34m)\u001b[0m\u001b[0;34m\u001b[0m\u001b[0;34m\u001b[0m\u001b[0m\n\u001b[0m\u001b[1;32m    414\u001b[0m \u001b[0;34m\u001b[0m\u001b[0m\n\u001b[1;32m    415\u001b[0m   \u001b[0;32mdef\u001b[0m \u001b[0mon_train_batch_begin\u001b[0m\u001b[0;34m(\u001b[0m\u001b[0mself\u001b[0m\u001b[0;34m,\u001b[0m \u001b[0mbatch\u001b[0m\u001b[0;34m,\u001b[0m \u001b[0mlogs\u001b[0m\u001b[0;34m=\u001b[0m\u001b[0;32mNone\u001b[0m\u001b[0;34m)\u001b[0m\u001b[0;34m:\u001b[0m\u001b[0;34m\u001b[0m\u001b[0;34m\u001b[0m\u001b[0m\n",
            "\u001b[0;32m/usr/local/lib/python3.7/dist-packages/keras/callbacks.py\u001b[0m in \u001b[0;36mon_epoch_end\u001b[0;34m(self, epoch, logs)\u001b[0m\n\u001b[1;32m   1366\u001b[0m     \u001b[0;31m# pylint: disable=protected-access\u001b[0m\u001b[0;34m\u001b[0m\u001b[0;34m\u001b[0m\u001b[0;34m\u001b[0m\u001b[0m\n\u001b[1;32m   1367\u001b[0m     \u001b[0;32mif\u001b[0m \u001b[0mself\u001b[0m\u001b[0;34m.\u001b[0m\u001b[0msave_freq\u001b[0m \u001b[0;34m==\u001b[0m \u001b[0;34m'epoch'\u001b[0m\u001b[0;34m:\u001b[0m\u001b[0;34m\u001b[0m\u001b[0;34m\u001b[0m\u001b[0m\n\u001b[0;32m-> 1368\u001b[0;31m       \u001b[0mself\u001b[0m\u001b[0;34m.\u001b[0m\u001b[0m_save_model\u001b[0m\u001b[0;34m(\u001b[0m\u001b[0mepoch\u001b[0m\u001b[0;34m=\u001b[0m\u001b[0mepoch\u001b[0m\u001b[0;34m,\u001b[0m \u001b[0mbatch\u001b[0m\u001b[0;34m=\u001b[0m\u001b[0;32mNone\u001b[0m\u001b[0;34m,\u001b[0m \u001b[0mlogs\u001b[0m\u001b[0;34m=\u001b[0m\u001b[0mlogs\u001b[0m\u001b[0;34m)\u001b[0m\u001b[0;34m\u001b[0m\u001b[0;34m\u001b[0m\u001b[0m\n\u001b[0m\u001b[1;32m   1369\u001b[0m \u001b[0;34m\u001b[0m\u001b[0m\n\u001b[1;32m   1370\u001b[0m   \u001b[0;32mdef\u001b[0m \u001b[0m_should_save_on_batch\u001b[0m\u001b[0;34m(\u001b[0m\u001b[0mself\u001b[0m\u001b[0;34m,\u001b[0m \u001b[0mbatch\u001b[0m\u001b[0;34m)\u001b[0m\u001b[0;34m:\u001b[0m\u001b[0;34m\u001b[0m\u001b[0;34m\u001b[0m\u001b[0m\n",
            "\u001b[0;32m/usr/local/lib/python3.7/dist-packages/keras/callbacks.py\u001b[0m in \u001b[0;36m_save_model\u001b[0;34m(self, epoch, batch, logs)\u001b[0m\n\u001b[1;32m   1401\u001b[0m       \u001b[0mlogs\u001b[0m \u001b[0;34m=\u001b[0m \u001b[0mtf_utils\u001b[0m\u001b[0;34m.\u001b[0m\u001b[0msync_to_numpy_or_python_type\u001b[0m\u001b[0;34m(\u001b[0m\u001b[0mlogs\u001b[0m\u001b[0;34m)\u001b[0m\u001b[0;34m\u001b[0m\u001b[0;34m\u001b[0m\u001b[0m\n\u001b[1;32m   1402\u001b[0m       \u001b[0mself\u001b[0m\u001b[0;34m.\u001b[0m\u001b[0mepochs_since_last_save\u001b[0m \u001b[0;34m=\u001b[0m \u001b[0;36m0\u001b[0m\u001b[0;34m\u001b[0m\u001b[0;34m\u001b[0m\u001b[0m\n\u001b[0;32m-> 1403\u001b[0;31m       \u001b[0mfilepath\u001b[0m \u001b[0;34m=\u001b[0m \u001b[0mself\u001b[0m\u001b[0;34m.\u001b[0m\u001b[0m_get_file_path\u001b[0m\u001b[0;34m(\u001b[0m\u001b[0mepoch\u001b[0m\u001b[0;34m,\u001b[0m \u001b[0mbatch\u001b[0m\u001b[0;34m,\u001b[0m \u001b[0mlogs\u001b[0m\u001b[0;34m)\u001b[0m\u001b[0;34m\u001b[0m\u001b[0;34m\u001b[0m\u001b[0m\n\u001b[0m\u001b[1;32m   1404\u001b[0m \u001b[0;34m\u001b[0m\u001b[0m\n\u001b[1;32m   1405\u001b[0m       \u001b[0;32mtry\u001b[0m\u001b[0;34m:\u001b[0m\u001b[0;34m\u001b[0m\u001b[0;34m\u001b[0m\u001b[0m\n",
            "\u001b[0;32m/usr/local/lib/python3.7/dist-packages/keras/callbacks.py\u001b[0m in \u001b[0;36m_get_file_path\u001b[0;34m(self, epoch, batch, logs)\u001b[0m\n\u001b[1;32m   1462\u001b[0m     \u001b[0;32mexcept\u001b[0m \u001b[0mKeyError\u001b[0m \u001b[0;32mas\u001b[0m \u001b[0me\u001b[0m\u001b[0;34m:\u001b[0m\u001b[0;34m\u001b[0m\u001b[0;34m\u001b[0m\u001b[0m\n\u001b[1;32m   1463\u001b[0m       raise KeyError('Failed to format this callback filepath: \"{}\". '\n\u001b[0;32m-> 1464\u001b[0;31m                      'Reason: {}'.format(self.filepath, e))\n\u001b[0m\u001b[1;32m   1465\u001b[0m     self._write_filepath = distributed_file_utils.write_filepath(\n\u001b[1;32m   1466\u001b[0m         file_path, self.model.distribute_strategy)\n",
            "\u001b[0;31mKeyError\u001b[0m: 'Failed to format this callback filepath: \"./{epoch:02d}-{val_loss : .4f}.h5\". Reason: \\'val_loss \\''"
          ]
        }
      ]
    },
    {
      "cell_type": "code",
      "metadata": {
        "colab": {
          "base_uri": "https://localhost:8080/"
        },
        "id": "x4vkS9MUknLc",
        "outputId": "c20ba679-ba4a-4509-831e-1f222dd9b74e"
      },
      "source": [
        "print(result.history.keys())"
      ],
      "execution_count": 93,
      "outputs": [
        {
          "output_type": "stream",
          "name": "stdout",
          "text": [
            "dict_keys(['loss', 'categorical_accuracy', 'val_loss', 'val_categorical_accuracy'])\n"
          ]
        }
      ]
    },
    {
      "cell_type": "code",
      "metadata": {
        "colab": {
          "base_uri": "https://localhost:8080/",
          "height": 313
        },
        "id": "F-hvJUUMk1B9",
        "outputId": "bfaa1fc8-b3f8-4d8b-d0a8-c12e9c9a2a35"
      },
      "source": [
        "### history에서 loss와 val_loss의 key를 가지는 값들만 추출\n",
        "loss = result.history['loss']\n",
        "val_loss = result.history['val_loss']\n",
        "### loss와 val_loss를 그래프화\n",
        "epochs = range(1, len(loss) + 1)\n",
        "plt.subplot(211)  ## 2x1 개의 그래프 중에 1번째\n",
        "plt.plot(epochs, loss, 'r-', label='Training loss')\n",
        "plt.plot(epochs, val_loss, 'b', label='Validation loss')\n",
        "plt.title('Training and validation loss')\n",
        "plt.xlabel('Epochs')\n",
        "plt.ylabel('Loss')\n",
        "plt.legend()\n",
        "\n",
        "### history에서 binary_accuracy와 val_binary_accuracy key를 가지는 값들만 추출\n",
        "acc = result.history['categorical_accuracy']\n",
        "val_acc = result.history['val_categorical_accuracy']\n",
        "\n",
        "### binary_accuracy와 val_binary_accuracy key를 그래프화\n",
        "plt.subplot(212)  ## 2x1 개의 그래프 중에 2번째\n",
        "plt.plot(epochs, acc, 'b-', label='Training acc')\n",
        "plt.plot(epochs, val_acc, 'r', label='Validation acc')\n",
        "plt.title('Training and validation accuracy')\n",
        "plt.xlabel('Epochs')\n",
        "plt.ylabel('Accuracy')\n",
        "plt.legend()"
      ],
      "execution_count": 94,
      "outputs": [
        {
          "output_type": "execute_result",
          "data": {
            "text/plain": [
              "<matplotlib.legend.Legend at 0x7fa0e546ea50>"
            ]
          },
          "metadata": {},
          "execution_count": 94
        },
        {
          "output_type": "display_data",
          "data": {
            "image/png": "[encoded data removed]",
            "text/plain": [
              "<Figure size 432x288 with 2 Axes>"
            ]
          },
          "metadata": {
            "needs_background": "light"
          }
        }
      ]
    },
    {
      "cell_type": "code",
      "metadata": {
        "id": "YYZVEIO1k3Lu"
      },
      "source": [
        ""
      ],
      "execution_count": null,
      "outputs": []
    }
  ]
}